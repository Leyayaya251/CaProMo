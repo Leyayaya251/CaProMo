{
 "cells": [
  {
   "cell_type": "code",
   "execution_count": 1,
   "id": "da2bc398-fcec-42ff-a5b7-6de3ea1fd475",
   "metadata": {},
   "outputs": [],
   "source": [
    "import pandas as pd\n",
    "import re\n",
    "import numpy as np\n",
    "import dill\n",
    "\n",
    "from tqdm import tqdm\n",
    "from collections import defaultdict, Counter\n",
    "\n",
    "import warnings\n",

    "warnings.filterwarnings(\"ignore\")"
   ]
  },
  {
   "cell_type": "markdown",
   "id": "dd2a82be-2d97-437c-ab33-cc51590e57bc",
   "metadata": {
    "jp-MarkdownHeadingCollapsed": true
   },
   "source": [
    "# MIMIC IV"
   ]
  },
  {
   "cell_type": "code",
   "execution_count": 11,
   "id": "607ec90c-e91b-4a26-8a7f-8e1c2510e78f",
   "metadata": {},
   "outputs": [],
   "source": [
    "PATIENTS = pd.read_csv('D:/mimic-iv-3.1/mimiciv/3.1/hosp/PATIENTS.csv.gz')\n",
    "ADMISSIONS = pd.read_csv('D:/mimic-iv-3.1/mimiciv/3.1/hosp/ADMISSIONS.csv.gz')\n",
    "ICUSTAYS = pd.read_csv('D:/mimic-iv-3.1/mimiciv/3.1/icu/ICUSTAYS.csv.gz')\n",
    "\n",
    "ADMISSIONS.columns = ADMISSIONS.columns.str.upper()\n",
    "ICUSTAYS.columns = ICUSTAYS.columns.str.upper()\n",
    "PATIENTS.columns = PATIENTS.columns.str.upper()"
   ]
  },
  {
   "cell_type": "code",
   "execution_count": 12,
   "id": "f8070550-9848-4d77-a406-0ec3f721a5ea",
   "metadata": {},
   "outputs": [],
   "source": [
    "def MIMICiv(ADMISSIONS,ICUSTAYS,PATIENTS):\n",
    "    # Select relevant columns for ADMISSIONS, ICUSTAYS, and PATIENTS\n",
    "    ADMISSIONS = ADMISSIONS[['SUBJECT_ID', 'HADM_ID', 'ADMITTIME', 'DISCHTIME', 'DEATHTIME', 'ADMISSION_TYPE', 'ADMISSION_LOCATION', 'RACE']]\n",
    "    ICUSTAYS = ICUSTAYS[['HADM_ID', 'ICUSTAY_ID', 'FIRST_CAREUNIT', 'LAST_CAREUNIT', 'INTIME', 'OUTTIME', 'LOS']]\n",
    "    PATIENTS['DOB'] = PATIENTS['ANCHOR_YEAR'] - PATIENTS['ANCHOR_AGE']\n",
    "    PATIENTS = PATIENTS[['SUBJECT_ID', 'GENDER', 'DOB', 'DOD','ANCHOR_YEAR_GROUP']]\n",
    "    \n",
    "    # Merge the datasets\n",
    "    df = pd.merge(PATIENTS, ADMISSIONS, on='SUBJECT_ID', how='left')\n",
    "    df = pd.merge(df, ICUSTAYS, on='HADM_ID', how='left')\n",
    "    print(df.shape,len(df.SUBJECT_ID.unique()),len(df.HADM_ID.unique()),len(df.ICUSTAY_ID.unique()))\n",
    "    \n",
    "    # Convert date columns to datetime\n",
    "    date_columns = ['ADMITTIME', 'DISCHTIME', 'INTIME', 'OUTTIME','DOD']\n",
    "    df[date_columns] = df[date_columns].apply(pd.to_datetime)\n",
    "\n",
    "    # Sort the dataframe by 'SUBJECT_ID' and 'INTIME'\n",
    "    df = df.dropna(subset=['SUBJECT_ID', 'HADM_ID', 'ICUSTAY_ID', 'ADMITTIME', 'DISCHTIME', 'INTIME', 'OUTTIME','DOB'])\n",
    "    print('Drop time missing', df.shape, len(df.SUBJECT_ID.unique()),len(df.HADM_ID.unique()),len(df.ICUSTAY_ID.unique()))\n",
    "    df = df.sort_values(by=['SUBJECT_ID', 'INTIME'])\n",
    "\n",
    "    # Create 'DOB' as a complete date by assuming January 1st for each year\n",
    "    df['DOB'] = pd.to_datetime(df['DOB'].astype(str) + '-01-01')\n",
    "    # Calculate 'AGE' based on 'ADMITTIME' and 'DOB', and adjust for ages above 89\n",
    "    df['AGE'] = (df['ADMITTIME'] - df['DOB']).dt.days // 365.242\n",
    "    df['AGE'] = df['AGE'].apply(lambda x: 91 if x > 89 else x)\n",
    "    # Filter out patients under 18\n",
    "    df = df[df['AGE'] >= 18]\n",
    "    print('AGE >= 18',df.shape, len(df.SUBJECT_ID.unique()),len(df.HADM_ID.unique()),len(df.ICUSTAY_ID.unique()))\n",
    "    \n",
    "    # Select specific columns for the final dataframe\n",
    "    df = df[['SUBJECT_ID', 'HADM_ID', 'ICUSTAY_ID', 'ADMITTIME', 'INTIME', 'DISCHTIME', 'OUTTIME', \n",
    "             'GENDER', 'DOB', 'DOD', 'DEATHTIME', 'ADMISSION_TYPE', 'ADMISSION_LOCATION', 'RACE', \n",
    "             'FIRST_CAREUNIT', 'LAST_CAREUNIT', 'LOS', 'AGE']]\n",
    "    # Create a flag for the first admission for each patient\n",
    "    df['FIRST_HADM'] = df.groupby('SUBJECT_ID')['ADMITTIME'].transform(lambda x: x == x.min()).astype(int)\n",
    "    # Create a flag for the first ICU stay for each patient-HADM combination\n",
    "    df['FIRST_ICU'] = df.groupby(['SUBJECT_ID', 'HADM_ID'])['INTIME'].transform(lambda x: x == x.min()).astype(int)\n",
    "    # keep first ICU\n",
    "    df = df[df['FIRST_ICU'] == 1]\n",
    "    print('FIRST_ICU', df.shape, len(df.SUBJECT_ID.unique()),len(df.HADM_ID.unique()),len(df.ICUSTAY_ID.unique()))\n",
    "    \n",
    "    # Keep rows with LOS greater than 1; \n",
    "    df = df[df['LOS'] >= 1]\n",
    "    print('LOS', df.shape, len(df.SUBJECT_ID.unique()),len(df.HADM_ID.unique()),len(df.ICUSTAY_ID.unique()))\n",
    "\n",

    "    df['DIEINHOSPITAL'] = ((df['ADMITTIME'] <= df['DOD']) & (df['DOD'] <= df['DISCHTIME'])).astype(int)\n",
    "    df['DIEINICU'] = ((df['INTIME'] <= df['DOD']) & (df['DOD'] <= df['OUTTIME'])).astype(int)\n",
    "\n",

    "    df['NEXT_ADMIT'] = df.groupby('SUBJECT_ID')['ADMITTIME'].shift(-1)\n",
    "    df['DAYS_TO_READMIT'] = (df['NEXT_ADMIT'] - df['ADMITTIME']).dt.days\n",
    "    df['Readmission_30'] = df['DAYS_TO_READMIT'].apply(lambda x: 1 if pd.notnull(x) and x <= 30 else 0)\n",
    "    df['Readmission_60'] = df['DAYS_TO_READMIT'].apply(lambda x: 1 if pd.notnull(x) and x <= 60 else 0)\n",
    "\n",

    "    df['HOURS_FROM_ADMIT'] = (df['INTIME'] - df['ADMITTIME']).dt.total_seconds() / 3600\n",
    "    df['ICU_within_12hr_of_admit'] = df['HOURS_FROM_ADMIT'].apply(lambda x: 1 if 0 <= x <= 12 else 0)\n",
    "\n",

    "    ICUSTAYS = ICUSTAYS[ICUSTAYS.HADM_ID.isin(df.HADM_ID)]\n",
    "    ICUSTAYS['Multiple_ICUs'] = (ICUSTAYS.groupby('HADM_ID')['ICUSTAY_ID']\n",
    "                    .transform('count')\n",
    "                    .gt(1)  \n",
    "                    .astype(int)) \n",
    "    ICUSTAYS = ICUSTAYS[['HADM_ID','Multiple_ICUs']].drop_duplicates(keep='first')\n",
    "    df = pd.merge(df,ICUSTAYS,on='HADM_ID',how='left')\n",
    "    df.drop(columns=['NEXT_ADMIT', 'DAYS_TO_READMIT'], inplace=True)\n",
    "\n",
    "    df['SUBJECT_ID'] = df['SUBJECT_ID'].astype(int)\n",
    "    df['HADM_ID'] = df['HADM_ID'].astype(int)\n",
    "    df['ICUSTAY_ID'] = df['ICUSTAY_ID'].astype(int)\n",
    "\n",
    "    print('------------------------------------------------------------------------')\n",
    "    print('Final Data：',df.shape, 'SUBJECT_ID:',len(df.SUBJECT_ID.unique()),'HADM_ID:',len(df.HADM_ID.unique()), 'ICUSTAY_ID:',len(df.ICUSTAY_ID.unique()))\n",
    "    print('DIEINHOSPITAL:',Counter(df['DIEINHOSPITAL']))\n",
    "    print('DIEINICU:',Counter(df['DIEINICU']))\n",
    "    print('Readmission_30:',Counter(df['Readmission_30']))\n",
    "    print('Readmission_60:',Counter(df['Readmission_60']))\n",
    "    print('ICU_within_12hr_of_admit:',Counter(df['ICU_within_12hr_of_admit']))\n",
    "    print('Multiple_ICUs:',Counter(df['Multiple_ICUs']))\n",
    "\n",
    "    return df"
   ]
  },
  {
   "cell_type": "code",
   "execution_count": 13,
   "id": "185633f5-5518-42c0-baca-2364fd21aa16",
   "metadata": {},
   "outputs": [
    {
     "name": "stdout",
     "output_type": "stream",
     "text": [
      "(696419, 18) 364627 546029 94459\n",
      "Drop time missing (94444, 18) 65355 85229 94444\n",
      "AGE >= 18 (94444, 19) 65355 85229 94444\n",
      "FIRST_ICU (85229, 20) 65355 85229 85229\n",
      "LOS (67225, 20) 53715 67225 67225\n",
      "------------------------------------------------------------------------\n",
      "Final Data： (67225, 27) SUBJECT_ID: 53715 HADM_ID: 67225 ICUSTAY_ID: 67225\n",
      "DIEINHOSPITAL: Counter({0: 59635, 1: 7590})\n",
      "DIEINICU: Counter({0: 62220, 1: 5005})\n",
      "Readmission_30: Counter({0: 64796, 1: 2429})\n",
      "Readmission_60: Counter({0: 62993, 1: 4232})\n",
      "ICU_within_12hr_of_admit: Counter({1: 47012, 0: 20213})\n",
      "Multiple_ICUs: Counter({0: 61177, 1: 6048})\n"
     ]
    }
   ],
   "source": [
    "ADMISSIONS = ADMISSIONS.rename(columns={'ETHNICITY':'RACE'})\n",
    "ICUSTAYS = ICUSTAYS.rename(columns={'STAY_ID':'ICUSTAY_ID'})\n",
    "\n",
    "df = MIMICiv(ADMISSIONS,ICUSTAYS,PATIENTS)"
   ]
  },
  {
   "cell_type": "code",
   "execution_count": 14,
   "id": "fe19f060-0101-430c-b0e9-93ff15765262",
   "metadata": {},
   "outputs": [
    {
     "data": {
      "text/html": [
       "<div>\n",
       "<style scoped>\n",
       "    .dataframe tbody tr th:only-of-type {\n",
       "        vertical-align: middle;\n",
       "    }\n",
       "\n",
       "    .dataframe tbody tr th {\n",
       "        vertical-align: top;\n",
       "    }\n",
       "\n",
       "    .dataframe thead th {\n",
       "        text-align: right;\n",
       "    }\n",
       "</style>\n",
       "<table border=\"1\" class=\"dataframe\">\n",
       "  <thead>\n",
       "    <tr style=\"text-align: right;\">\n",
       "      <th></th>\n",
       "      <th>SUBJECT_ID</th>\n",
       "      <th>HADM_ID</th>\n",
       "      <th>ICUSTAY_ID</th>\n",
       "      <th>ADMITTIME</th>\n",
       "      <th>INTIME</th>\n",
       "      <th>DISCHTIME</th>\n",
       "      <th>OUTTIME</th>\n",
       "      <th>GENDER</th>\n",
       "      <th>DOB</th>\n",
       "      <th>DOD</th>\n",
       "      <th>...</th>\n",
       "      <th>AGE</th>\n",
       "      <th>FIRST_HADM</th>\n",
       "      <th>FIRST_ICU</th>\n",
       "      <th>DIEINHOSPITAL</th>\n",
       "      <th>DIEINICU</th>\n",
       "      <th>Readmission_30</th>\n",
       "      <th>Readmission_60</th>\n",
       "      <th>HOURS_FROM_ADMIT</th>\n",
       "      <th>ICU_within_12hr_of_admit</th>\n",
       "      <th>Multiple_ICUs</th>\n",
       "    </tr>\n",
       "  </thead>\n",
       "  <tbody>\n",
       "    <tr>\n",
       "      <th>0</th>\n",
       "      <td>10000690</td>\n",
       "      <td>25860671</td>\n",
       "      <td>37081114</td>\n",
       "      <td>2150-11-02 18:02:00</td>\n",
       "      <td>2150-11-02 19:37:00</td>\n",
       "      <td>2150-11-12 13:45:00</td>\n",
       "      <td>2150-11-06 17:03:17</td>\n",
       "      <td>F</td>\n",
       "      <td>2064-01-01</td>\n",
       "      <td>2152-01-30</td>\n",
       "      <td>...</td>\n",
       "      <td>86.0</td>\n",
       "      <td>1</td>\n",
       "      <td>1</td>\n",
       "      <td>0</td>\n",
       "      <td>0</td>\n",
       "      <td>0</td>\n",
       "      <td>0</td>\n",
       "      <td>1.583333</td>\n",
       "      <td>1</td>\n",
       "      <td>0</td>\n",
       "    </tr>\n",
       "    <tr>\n",
       "      <th>1</th>\n",
       "      <td>10001217</td>\n",
       "      <td>24597018</td>\n",
       "      <td>37067082</td>\n",
       "      <td>2157-11-18 22:56:00</td>\n",
       "      <td>2157-11-20 19:18:02</td>\n",
       "      <td>2157-11-25 18:00:00</td>\n",
       "      <td>2157-11-21 22:08:00</td>\n",
       "      <td>F</td>\n",
       "      <td>2102-01-01</td>\n",
       "      <td>NaT</td>\n",
       "      <td>...</td>\n",
       "      <td>55.0</td>\n",
       "      <td>1</td>\n",
       "      <td>1</td>\n",
       "      <td>0</td>\n",
       "      <td>0</td>\n",
       "      <td>0</td>\n",
       "      <td>0</td>\n",
       "      <td>44.367222</td>\n",
       "      <td>0</td>\n",
       "      <td>0</td>\n",
       "    </tr>\n",
       "  </tbody>\n",
       "</table>\n",
       "<p>2 rows × 27 columns</p>\n",
       "</div>"
      ],
      "text/plain": [
       "   SUBJECT_ID   HADM_ID  ICUSTAY_ID           ADMITTIME              INTIME  \\\n",
       "0    10000690  25860671    37081114 2150-11-02 18:02:00 2150-11-02 19:37:00   \n",
       "1    10001217  24597018    37067082 2157-11-18 22:56:00 2157-11-20 19:18:02   \n",
       "\n",
       "            DISCHTIME             OUTTIME GENDER        DOB        DOD  ...  \\\n",
       "0 2150-11-12 13:45:00 2150-11-06 17:03:17      F 2064-01-01 2152-01-30  ...   \n",
       "1 2157-11-25 18:00:00 2157-11-21 22:08:00      F 2102-01-01        NaT  ...   \n",
       "\n",
       "    AGE FIRST_HADM FIRST_ICU DIEINHOSPITAL DIEINICU Readmission_30  \\\n",
       "0  86.0          1         1             0        0              0   \n",
       "1  55.0          1         1             0        0              0   \n",
       "\n",
       "   Readmission_60  HOURS_FROM_ADMIT  ICU_within_12hr_of_admit  Multiple_ICUs  \n",
       "0               0          1.583333                         1              0  \n",
       "1               0         44.367222                         0              0  \n",
       "\n",
       "[2 rows x 27 columns]"
      ]
     },
     "execution_count": 14,
     "metadata": {},
     "output_type": "execute_result"
    }
   ],
   "source": [
    "df.head(2)"
   ]
  },
  {
   "cell_type": "code",
   "execution_count": 15,
   "id": "1ad97499-2485-4952-aec1-1f969e4708ba",
   "metadata": {},
   "outputs": [
    {
     "data": {
      "text/plain": [
       "Index(['DOD', 'DEATHTIME'], dtype='object')"
      ]
     },
     "execution_count": 15,
     "metadata": {},
     "output_type": "execute_result"
    }
   ],
   "source": [
    "df.columns[df.isnull().any()]"
   ]
  },
  {
   "cell_type": "code",
   "execution_count": 16,
   "id": "9f285928-1716-47ee-8635-ace2bb1dc2c2",
   "metadata": {},
   "outputs": [
    {
     "data": {
      "text/plain": [
       "M    37990\n",
       "F    29235\n",
       "Name: GENDER, dtype: int64"
      ]
     },
     "execution_count": 16,
     "metadata": {},
     "output_type": "execute_result"
    }
   ],
   "source": [
    "df.GENDER.value_counts()"
   ]
  },
  {
   "cell_type": "code",
   "execution_count": 17,
   "id": "e10dd864-135e-4dd4-a0f6-edf3fb0b4632",
   "metadata": {},
   "outputs": [
    {
     "name": "stdout",
     "output_type": "stream",
     "text": [
      "------------------------Female----------------------------\n",
      "Final ———— ： (29235, 27) SUBJECT_ID: 23150 HADM_ID: 29235 ICUSTAY_ID: 29235\n",
      "DIEINHOSPITAL: Counter({0: 25831, 1: 3404})\n",
      "DIEINICU: Counter({0: 27023, 1: 2212})\n",
      "Readmission_30: Counter({0: 28175, 1: 1060})\n",
      "Readmission_60: Counter({0: 27401, 1: 1834})\n",
      "ICU_within_12hr_of_admit: Counter({1: 20669, 0: 8566})\n",
      "Multiple_ICUs: Counter({0: 26683, 1: 2552})\n"
     ]
    }
   ],
   "source": [
    "df_female = df[df.GENDER == 'F']\n",
    "print('---------------------------Female-------------------------------------')\n",
    "print('Final  ———— ：',df_female.shape, 'SUBJECT_ID:',len(df_female.SUBJECT_ID.unique()),'HADM_ID:',len(df_female.HADM_ID.unique()), 'ICUSTAY_ID:',len(df_female.ICUSTAY_ID.unique()))\n",
    "print('DIEINHOSPITAL:',Counter(df_female['DIEINHOSPITAL']))\n",
    "print('DIEINICU:',Counter(df_female['DIEINICU']))\n",
    "print('Readmission_30:',Counter(df_female['Readmission_30']))\n",
    "print('Readmission_60:',Counter(df_female['Readmission_60']))\n",
    "print('ICU_within_12hr_of_admit:',Counter(df_female['ICU_within_12hr_of_admit']))\n",
    "print('Multiple_ICUs:',Counter(df_female['Multiple_ICUs']))"
   ]
  },
  {
   "cell_type": "code",
   "execution_count": 18,
   "id": "fa8685c9-183c-4b58-8587-1c03685d779d",
   "metadata": {},
   "outputs": [],
   "source": [
    "df.to_csv('D:/2025UTI/IV/MIMIC4_p.csv', index=False)"
   ]
  },
  {
   "cell_type": "markdown",
   "id": "c0cbc8c2-a096-48fe-a66e-de678e549e60",
   "metadata": {
    "jp-MarkdownHeadingCollapsed": true
   },
   "source": [
   
   ]
  },
  {
   "cell_type": "code",
   "execution_count": 2,
   "id": "b88e6ab5-712d-4596-9a53-a136b61b7352",
   "metadata": {},
   "outputs": [
    {
     "name": "stdout",
     "output_type": "stream",
     "text": [
      "------------------------------------------------------------------------\n",
      "Final Data： (67225, 27) SUBJECT_ID: 53715 HADM_ID: 67225 ICUSTAY_ID: 67225\n",
      "DIEINHOSPITAL: Counter({0: 59635, 1: 7590})\n",
      "DIEINICU: Counter({0: 62220, 1: 5005})\n",
      "Readmission_30: Counter({0: 64796, 1: 2429})\n",
      "Readmission_60: Counter({0: 62993, 1: 4232})\n",
      "ICU_within_12hr_of_admit: Counter({1: 47012, 0: 20213})\n",
      "Multiple_ICUs: Counter({0: 61177, 1: 6048})\n"
     ]
    }
   ],
   "source": [
    "df = pd.read_csv('D:/2025UTI/IV/MIMIC4_p.csv')\n",
    "print('------------------------------------------------------------------------')\n",
    "print('Final Data：',df.shape, 'SUBJECT_ID:',len(df.SUBJECT_ID.unique()),'HADM_ID:',len(df.HADM_ID.unique()), 'ICUSTAY_ID:',len(df.ICUSTAY_ID.unique()))\n",
    "print('DIEINHOSPITAL:',Counter(df['DIEINHOSPITAL']))\n",
    "print('DIEINICU:',Counter(df['DIEINICU']))\n",
    "print('Readmission_30:',Counter(df['Readmission_30']))\n",
    "print('Readmission_60:',Counter(df['Readmission_60']))\n",
    "print('ICU_within_12hr_of_admit:',Counter(df['ICU_within_12hr_of_admit']))\n",
    "print('Multiple_ICUs:',Counter(df['Multiple_ICUs']))"
   ]
  },
  {
   "cell_type": "code",
   "execution_count": 3,
   "id": "63f14b85-d411-41c0-9c70-1044cea2e88f",
   "metadata": {},
   "outputs": [
    {
     "name": "stdout",
     "output_type": "stream",
     "text": [
      "(14567, 3)\n",
      "(112107, 3)\n",
      "(112114, 3)\n",
      "(17208, 2) 17208\n"
     ]
    }
   ],
   "source": [

    "D_ICD_DIAGNOSES = pd.read_csv('D:/mimic-iii-clinical-database-1.4/mimic-iii-clinical-database-1.4/D_ICD_DIAGNOSES.csv.gz')\n",
    "D_ICD_DIAGNOSES.columns = D_ICD_DIAGNOSES.columns.str.upper()\n",
    "D_ICD_DIAGNOSES['ICD_VERSION'] = 9\n",
    "D_ICD_DIAGNOSES = D_ICD_DIAGNOSES[['ICD9_CODE','ICD_VERSION','LONG_TITLE']]\n",
    "D_ICD_DIAGNOSES.columns = ['ICD_CODE', 'ICD_VERSION', 'ICD_TEXT']\n",
    "print(D_ICD_DIAGNOSES.shape)\n",
    "\n",
    "D_4_DIAGNOSES = pd.read_csv('D:/mimic-iv-3.1/mimiciv/3.1/hosp/D_ICD_DIAGNOSES.csv.gz')\n",
    "D_4_DIAGNOSES.columns = D_4_DIAGNOSES.columns.str.upper()\n",
    "D_4_DIAGNOSES.columns = ['ICD_CODE', 'ICD_VERSION', 'ICD_TEXT']\n",
    "print(D_4_DIAGNOSES.shape)\n",
    "\n",
    "D_ICD_DIAGNOSES = pd.concat([D_ICD_DIAGNOSES,D_4_DIAGNOSES])\n",
    "D_ICD_DIAGNOSES = D_ICD_DIAGNOSES.drop_duplicates(keep='first')\n",
    "print(D_ICD_DIAGNOSES.shape)\n",
    "\n",
    "diag_9_10 = pd.read_csv('/0_diag_9_10.csv')\n",
    "diag_9_10.columns = ['ICD_CODE', 'ROOT']\n",
    "diag_9_10 = diag_9_10[~diag_9_10.duplicated(subset=['ICD_CODE'], keep=False)]\n",
    "diag_9_10 = diag_9_10.dropna(subset=['ROOT'])\n",
    "print(diag_9_10.shape,len(diag_9_10.ICD_CODE.unique()))"
   ]
  },
  {
   "cell_type": "code",
   "execution_count": 4,
   "id": "60d033a4-913c-4e74-95f2-49566115dc4f",
   "metadata": {},
   "outputs": [
    {
     "name": "stdout",
     "output_type": "stream",
     "text": [
      "5342 11954\n",
      "86 {'V2509', 'E8301', 'V549', 'V453', 'V133', 'V170', 'V580', 'V4960', 'V103', 'V902', 'V163', 'V489', 'V671', 'V161', 'V182', 'V667', 'E892', 'E8029', 'V183', 'V850', 'V061', 'V2501', 'V169', 'V091', 'V812', 'E8020', 'V153', 'V180', 'V452', 'E8352', 'V714', 'E8350', 'V9039', 'E8319', 'V451', 'V155', 'V560', 'V486', 'E8339', 'V851', 'E8389', 'V173', 'V252', 'E8341', 'V664', 'V672', 'V189', 'V454', 'E8310', 'V109', 'V610', 'E8351', 'E8330', 'V093', 'V011', 'E896', 'V694', 'V854', 'V2541', 'V692', 'E895', 'V9081', 'V789', 'V9089', 'V707', 'V653', 'E8840', 'V655', 'E8359', 'V160', 'V4981', 'V9010', 'V698', 'V090', 'V175', 'V222', 'V172', 'V171', 'V232', 'V230', 'V162', 'V151', 'V712', 'V652', 'V619', 'V235'}\n"
     ]
    }
   ],
   "source": [
   
    "D_ICD_9 = D_ICD_DIAGNOSES[D_ICD_DIAGNOSES.ICD_VERSION == 9]\n",
    "D_ICD_10 = D_ICD_DIAGNOSES[D_ICD_DIAGNOSES.ICD_VERSION == 10]\n",
    "diag_9 = D_ICD_9[D_ICD_9.ICD_CODE.isin(diag_9_10.ICD_CODE)].ICD_CODE.values\n",
    "diag_10 = D_ICD_10[D_ICD_10.ICD_CODE.isin(diag_9_10.ICD_CODE)].ICD_CODE.values\n",
    "print(len(diag_9), len(diag_10))\n",
    "intersection = set(diag_9) & set(diag_10)\n",
    "print(len(intersection), intersection)"
   ]
  },
  {
   "cell_type": "code",
   "execution_count": 5,
   "id": "b38bd0ee-0f11-450e-8857-e0e512874836",
   "metadata": {},
   "outputs": [
    {
     "name": "stdout",
     "output_type": "stream",
     "text": [
      "11868\n"
     ]
    }
   ],
   "source": [
    "diag_10 = list(set(diag_10)-set(intersection))\n",
    "print(len(diag_10))"
   ]
  },
  {
   "cell_type": "code",
   "execution_count": 6,
   "id": "47b5ed1e-987d-41ea-8602-1158777392c6",
   "metadata": {},
   "outputs": [
    {
     "data": {
      "text/plain": [
       "(5340, 2)"
      ]
     },
     "execution_count": 6,
     "metadata": {},
     "output_type": "execute_result"
    }
   ],
   "source": [
    "only_diag_9_10 = diag_9_10[diag_9_10.ICD_CODE.isin(diag_9)]\n",
    "only_diag_9_10.shape"
   ]
  },
  {
   "cell_type": "code",
   "execution_count": 7,
   "id": "394f3bc8-6a96-4889-9cb9-e864106e96da",
   "metadata": {},
   "outputs": [],
   "source": [
    "del(diag_9_10)"
   ]
  },
  {
   "cell_type": "code",
   "execution_count": 8,
   "id": "b56c045b-eb8c-4cf9-9885-2ee9cae47f55",
   "metadata": {},
   "outputs": [
    {
     "name": "stdout",
     "output_type": "stream",
     "text": [
      "多囊性卵巢: 2 ['2564', 'E282']\n",
      "卵巢肿瘤: 7 20 27 ['1830', '1986', '220', '2362', 'V1043', 'V1641', 'V8402', 'C56', 'C561', 'C562', 'C569', 'C796', 'C7960', 'C7961', 'C7962', 'D27', 'D270', 'D271', 'D279', 'D391', 'D3910', 'D3911', 'D3912', 'Z1273', 'Z1502', 'Z8041', 'Z8543']\n",
      "子宫内膜异位: 9 177 186 ['6170', '6171', '6172', '6173', '6174', '6175', '6176', '6178', '6179', 'N80', 'N800', 'N8000', 'N8001', 'N8002', 'N801', 'N8010', 'N80101', 'N80102', 'N80103', 'N80109', 'N8011', 'N80111', 'N80112', 'N80113', 'N80119', 'N8012', 'N80121', 'N80122', 'N80123', 'N80129', 'N802', 'N8020', 'N80201', 'N80202', 'N80203', 'N80209', 'N8021', 'N80211', 'N80212', 'N80213', 'N80219', 'N8022', 'N80221', 'N80222', 'N80223', 'N80229', 'N803', 'N8030', 'N8031', 'N80311', 'N80312', 'N80319', 'N8032', 'N80321', 'N80322', 'N80329', 'N8033', 'N80331', 'N80332', 'N80333', 'N80339', 'N8034', 'N80341', 'N80342', 'N80343', 'N80349', 'N8035', 'N80351', 'N80352', 'N80353', 'N80359', 'N8036', 'N80361', 'N80362', 'N80363', 'N80369', 'N8037', 'N80371', 'N80372', 'N80373', 'N80379', 'N8038', 'N80381', 'N80382', 'N80383', 'N80389', 'N8039', 'N80391', 'N80392', 'N80399', 'N803A', 'N803A1', 'N803A2', 'N803A3', 'N803A9', 'N803B', 'N803B1', 'N803B2', 'N803B3', 'N803B9', 'N803C', 'N803C1', 'N803C2', 'N803C3', 'N803C9', 'N804', 'N8040', 'N8041', 'N8042', 'N805', 'N8050', 'N8051', 'N80511', 'N80512', 'N80519', 'N8052', 'N80521', 'N80522', 'N80529', 'N8053', 'N80531', 'N80532', 'N80539', 'N8054', 'N80541', 'N80542', 'N80549', 'N8055', 'N80551', 'N80552', 'N80559', 'N8056', 'N80561', 'N80562', 'N80569', 'N806', 'N808', 'N809', 'N80A', 'N80A0', 'N80A1', 'N80A2', 'N80A4', 'N80A41', 'N80A42', 'N80A43', 'N80A49', 'N80A5', 'N80A51', 'N80A52', 'N80A53', 'N80A59', 'N80A6', 'N80A61', 'N80A62', 'N80A63', 'N80A69', 'N80B', 'N80B1', 'N80B2', 'N80B3', 'N80B31', 'N80B32', 'N80B39', 'N80B4', 'N80B5', 'N80B6', 'N80C', 'N80C0', 'N80C1', 'N80C10', 'N80C11', 'N80C19', 'N80C2', 'N80C3', 'N80C4', 'N80C9', 'N80D', 'N80D0', 'N80D1', 'N80D2', 'N80D3', 'N80D4', 'N80D5', 'N80D6', 'N80D9']\n",
      "平滑肌瘤: 4 5 9 ['2180', '2181', '2182', '2189', 'D25', 'D250', 'D251', 'D252', 'D259']\n",
      "尿道感染|阴道炎: 9 62 71 ['5990', '61610', '61611', '6174', '6273', '77182', '99664', 'E8796', 'V1302', 'N390', 'N760', 'N761', 'N771', 'N804', 'N8040', 'N8041', 'N8042', 'N952', 'N99521', 'N99531', 'O0338', 'O0388', 'O0488', 'O0738', 'O0883', 'O233', 'O2330', 'O2331', 'O2332', 'O2333', 'O234', 'O2340', 'O2341', 'O2342', 'O2343', 'O8613', 'O862', 'O8620', 'O8629', 'P393', 'T835', 'T8351', 'T83518', 'T83518A', 'T83518D', 'T83518S', 'T8351XA', 'T8351XD', 'T8351XS', 'T8359', 'T83590', 'T83590A', 'T83590D', 'T83590S', 'T83591', 'T83591A', 'T83591D', 'T83591S', 'T83593', 'T83593A', 'T83593D', 'T83593S', 'T83598', 'T83598A', 'T83598D', 'T83598S', 'T8359XA', 'T8359XD', 'T8359XS', 'Y846', 'Z87440']\n",
      "AKI: 8 5 13 ['5845', '5846', '5847', '5848', '5849', '66930', '66932', '66934', 'N17', 'N170', 'N171', 'N172', 'N179']\n",
      "CKD: 6 10 16 ['5851', '5852', '5853', '5854', '5855', '5859', 'N18', 'N181', 'N182', 'N183', 'N1830', 'N1831', 'N1832', 'N184', 'N185', 'N189']\n"
     ]
    }
   ],
   "source": [
    "PCOS_9 = ['2564']\n",
    "PCOS_10 = ['E282']\n",
    "PCOS_ids = list(PCOS_9+PCOS_10)\n",
    "print('多囊性卵巢:', len(PCOS_ids), PCOS_ids)\n",
    "\n",
    "Neoplasm_ovary_9 = ['1830', '1986', '220', '2362', 'V1043', 'V1641', 'V8402']\n",
    "Neoplasm_ovary_10 = ['C56', 'C561', 'C562', 'C569', 'C796', 'C7960', 'C7961', 'C7962','D27', 'D270', 'D271', 'D279', 'D391', 'D3910', 'D3911', 'D3912','Z1273', 'Z1502', 'Z8041', 'Z8543']\n",
    "Neoplasm_ovary_ids = list(Neoplasm_ovary_9 + Neoplasm_ovary_10)\n",
    "print('卵巢肿瘤:', len(Neoplasm_ovary_9),len(Neoplasm_ovary_10),len(Neoplasm_ovary_ids),Neoplasm_ovary_ids)\n",
    "\n",
    "Endometriosis_9 = ['6170', '6171', '6172', '6173', '6174', '6175', '6176', '6178','6179']\n",
    "Endometriosis_10 = ['N80', 'N800', 'N8000', 'N8001', 'N8002', 'N801', 'N8010', 'N80101', 'N80102', 'N80103', 'N80109', 'N8011', 'N80111', 'N80112', 'N80113', 'N80119', 'N8012', 'N80121', 'N80122', 'N80123', 'N80129', 'N802', 'N8020', 'N80201', 'N80202', 'N80203', 'N80209', 'N8021', 'N80211', 'N80212', 'N80213', 'N80219', 'N8022', 'N80221', 'N80222', 'N80223', 'N80229', 'N803', 'N8030', 'N8031', 'N80311', 'N80312', 'N80319', 'N8032', 'N80321', 'N80322', 'N80329', 'N8033', 'N80331', 'N80332', 'N80333', 'N80339', 'N8034', 'N80341', 'N80342', 'N80343', 'N80349', 'N8035', 'N80351', 'N80352', 'N80353', 'N80359', 'N8036', 'N80361', 'N80362', 'N80363', 'N80369', 'N8037', 'N80371', 'N80372', 'N80373', 'N80379', 'N8038', 'N80381', 'N80382', 'N80383', 'N80389', 'N8039', 'N80391', 'N80392', 'N80399', 'N803A', 'N803A1', 'N803A2', 'N803A3', 'N803A9', 'N803B', 'N803B1', 'N803B2', 'N803B3', 'N803B9', 'N803C', 'N803C1', 'N803C2', 'N803C3', 'N803C9', 'N804', 'N8040', 'N8041', 'N8042', 'N805', 'N8050', 'N8051', 'N80511', 'N80512', 'N80519', 'N8052', 'N80521', 'N80522', 'N80529', 'N8053', 'N80531', 'N80532', 'N80539', 'N8054', 'N80541', 'N80542', 'N80549', 'N8055', 'N80551', 'N80552', 'N80559', 'N8056', 'N80561', 'N80562', 'N80569', 'N806', 'N808', 'N809', 'N80A', 'N80A0', 'N80A1', 'N80A2', 'N80A4', 'N80A41', 'N80A42', 'N80A43', 'N80A49', 'N80A5', 'N80A51', 'N80A52', 'N80A53', 'N80A59', 'N80A6', 'N80A61', 'N80A62', 'N80A63', 'N80A69', 'N80B', 'N80B1', 'N80B2', 'N80B3', 'N80B31', 'N80B32', 'N80B39', 'N80B4', 'N80B5', 'N80B6', 'N80C', 'N80C0', 'N80C1', 'N80C10', 'N80C11', 'N80C19', 'N80C2', 'N80C3', 'N80C4', 'N80C9', 'N80D', 'N80D0', 'N80D1', 'N80D2', 'N80D3', 'N80D4', 'N80D5', 'N80D6', 'N80D9']\n",
    "Endometriosis_ids = list(Endometriosis_9 + Endometriosis_10)\n",
    "print('子宫内膜异位:', len(Endometriosis_9), len(Endometriosis_10), len(Endometriosis_ids), Endometriosis_ids)\n",
    "\n",
    "Leiomyoma_9 = ['2180', '2181', '2182', '2189']\n",
    "Leiomyoma_10 = ['D25', 'D250', 'D251', 'D252', 'D259']\n",
    "Leiomyoma_ids = list(Leiomyoma_9 + Leiomyoma_10)\n",
    "print('平滑肌瘤:', len(Leiomyoma_9), len(Leiomyoma_10), len(Leiomyoma_ids), Leiomyoma_ids)\n",
    "\n",
    "Va_uti_9 = ['5990', '61610', '61611', '6174', '6273', '77182', '99664', 'E8796', 'V1302']\n",
    "Va_uti_10 = ['N390', 'N760', 'N761', 'N771', 'N804', 'N8040', 'N8041', 'N8042','N952', 'N99521', 'N99531', 'O0338', 'O0388', 'O0488', 'O0738',\n",
    " 'O0883', 'O233', 'O2330', 'O2331', 'O2332', 'O2333', 'O234','O2340', 'O2341', 'O2342', 'O2343', 'O8613', 'O862', 'O8620',\n",
    " 'O8629', 'P393', 'T835', 'T8351', 'T83518', 'T83518A', 'T83518D', 'T83518S', 'T8351XA', 'T8351XD', 'T8351XS', 'T8359', 'T83590',\n",
    " 'T83590A', 'T83590D', 'T83590S', 'T83591', 'T83591A', 'T83591D','T83591S', 'T83593', 'T83593A', 'T83593D', 'T83593S', 'T83598',\n",
    " 'T83598A', 'T83598D', 'T83598S', 'T8359XA', 'T8359XD', 'T8359XS','Y846', 'Z87440']\n",
    "Va_uti_ids = list(Va_uti_9 + Va_uti_10)\n",
    "print('尿道感染|阴道炎:', len(Va_uti_9), len(Va_uti_10), len(Va_uti_ids), Va_uti_ids)\n",
    "\n",
    "check_AKI_9 = ['5845', '5846', '5847', '5848','5849','66930','66932','66934']\n",
    "check_AKI_10 = ['N17','N170','N171','N172','N179']\n",
    "AKI_ids = list(check_AKI_9 + check_AKI_10)\n",
    "print('AKI:', len(check_AKI_9), len(check_AKI_10), len(AKI_ids), AKI_ids)\n",
    "\n",
    "check_CKD_9 = ['5851', '5852', '5853', '5854', '5855','5859'] \n",
    "check_CKD_10 = ['N18','N181','N182', 'N183', 'N1830', 'N1831', 'N1832', 'N184', 'N185', 'N189']\n",
    "CKD_ids = list(check_CKD_9 + check_CKD_10)\n",
    "print('CKD:', len(check_CKD_9), len(check_CKD_10), len(CKD_ids), CKD_ids)"
   ]
  },
  {
   "cell_type": "code",
   "execution_count": 9,
   "id": "d6bf5768-e795-411b-bffd-2cb193e792ed",
   "metadata": {},
   "outputs": [
    {
     "name": "stdout",
     "output_type": "stream",
     "text": [
      "319 319\n"
     ]
    }
   ],
   "source": [
    "specific_need = list(pd.unique(AKI_ids + CKD_ids + PCOS_ids + Neoplasm_ovary_ids + Endometriosis_ids + Leiomyoma_ids + Va_uti_ids))\n",
    "print(len(specific_need),len(D_ICD_DIAGNOSES[D_ICD_DIAGNOSES.ICD_CODE.isin(specific_need)].ICD_CODE.unique()))"
   ]
  },
  {
   "cell_type": "code",
   "execution_count": 10,
   "id": "9d6cded0-488d-460d-9bef-3711262e6c20",
   "metadata": {},
   "outputs": [
    {
     "data": {
      "text/html": [
       "<div>\n",
       "<style scoped>\n",
       "    .dataframe tbody tr th:only-of-type {\n",
       "        vertical-align: middle;\n",
       "    }\n",
       "\n",
       "    .dataframe tbody tr th {\n",
       "        vertical-align: top;\n",
       "    }\n",
       "\n",
       "    .dataframe thead th {\n",
       "        text-align: right;\n",
       "    }\n",
       "</style>\n",
       "<table border=\"1\" class=\"dataframe\">\n",
       "  <thead>\n",
       "    <tr style=\"text-align: right;\">\n",
       "      <th></th>\n",
       "      <th>ICD_CODE</th>\n",
       "      <th>ICD_VERSION</th>\n",
       "      <th>ICD_TEXT</th>\n",
       "    </tr>\n",
       "  </thead>\n",
       "  <tbody>\n",
       "    <tr>\n",
       "      <th>1608</th>\n",
       "      <td>2564</td>\n",
       "      <td>9</td>\n",
       "      <td>Polycystic ovaries</td>\n",
       "    </tr>\n",
       "    <tr>\n",
       "      <th>1721</th>\n",
       "      <td>2362</td>\n",
       "      <td>9</td>\n",
       "      <td>Neoplasm of uncertain behavior of ovary</td>\n",
       "    </tr>\n",
       "    <tr>\n",
       "      <th>2043</th>\n",
       "      <td>1830</td>\n",
       "      <td>9</td>\n",
       "      <td>Malignant neoplasm of ovary</td>\n",
       "    </tr>\n",
       "    <tr>\n",
       "      <th>2151</th>\n",
       "      <td>1986</td>\n",
       "      <td>9</td>\n",
       "      <td>Secondary malignant neoplasm of ovary</td>\n",
       "    </tr>\n",
       "    <tr>\n",
       "      <th>2739</th>\n",
       "      <td>2180</td>\n",
       "      <td>9</td>\n",
       "      <td>Submucous leiomyoma of uterus</td>\n",
       "    </tr>\n",
       "  </tbody>\n",
       "</table>\n",
       "</div>"
      ],
      "text/plain": [
       "     ICD_CODE  ICD_VERSION                                 ICD_TEXT\n",
       "1608     2564            9                       Polycystic ovaries\n",
       "1721     2362            9  Neoplasm of uncertain behavior of ovary\n",
       "2043     1830            9              Malignant neoplasm of ovary\n",
       "2151     1986            9    Secondary malignant neoplasm of ovary\n",
       "2739     2180            9            Submucous leiomyoma of uterus"
      ]
     },
     "execution_count": 10,
     "metadata": {},
     "output_type": "execute_result"
    }
   ],
   "source": [
    "specific_need = D_ICD_DIAGNOSES[D_ICD_DIAGNOSES.ICD_CODE.isin(specific_need)]\n",
    "specific_need.head()"
   ]
  },
  {
   "cell_type": "code",
   "execution_count": 11,
   "id": "45f1b9a5-9b6a-426f-aedf-e0b0504283e5",
   "metadata": {},
   "outputs": [
    {
     "name": "stdout",
     "output_type": "stream",
     "text": [
      "43 276\n"
     ]
    }
   ],
   "source": [
    "matched_9 = list(pd.unique(list(specific_need[specific_need.ICD_VERSION == 9].ICD_CODE.values)))\n",
    "matched_10 = list(pd.unique(list(specific_need[specific_need.ICD_VERSION == 10].ICD_CODE.values)))\n",
    "print(len(matched_9),len(matched_10))"
   ]
  },
  {
   "cell_type": "code",
   "execution_count": 12,
   "id": "e59e6f1b-5599-4abf-b2e2-df359c03382b",
   "metadata": {},
   "outputs": [
    {
     "name": "stdout",
     "output_type": "stream",
     "text": [
      "33 10\n",
      "286\n",
      "需要单独纳入的ICD9： 10\n",
      "需要纳入的ICD10： 286\n"
     ]
    }
   ],
   "source": [
    "matched_9_isin = only_diag_9_10[only_diag_9_10.ICD_CODE.isin(matched_9)].ICD_CODE.values #需要的label9，有对应的ICD10\n",
    "matched_9_notin = list(set(matched_9)-set(matched_9_isin))  #需要的label9，没有对应的ICD10\n",
    "print(len(matched_9_isin),len(matched_9_notin))\n",
    "\n",
    "matched_10_add = list(pd.unique(list(matched_10) + list(pd.unique(only_diag_9_10[only_diag_9_10.ICD_CODE.isin(matched_9)].ROOT.values))))\n",
    "print(len(matched_10_add))\n",
    "\n",
    "print('需要单独纳入的ICD9：',len(matched_9_notin))\n",
    "print('需要纳入的ICD10：',len(matched_10_add))"
   ]
  },
  {
   "cell_type": "code",
   "execution_count": 13,
   "id": "8890784c-873d-4e1d-8cc5-7560358b4da7",
   "metadata": {},
   "outputs": [],
   "source": [
    "# 检查高频 diagnoses\n",
    "def diag_9_10_check(df,diag_9_10,icds,dataset,n):\n",
    "    if dataset == 'MIMICIV':\n",
    "        print(dataset, 'ICD_VERSION:',Counter(df.ICD_VERSION))\n",
    "    else:\n",
    "        df['ICD_VERSION'] = 9\n",
    "        print(dataset,'ICD_VERSION:',Counter(df.ICD_VERSION))\n",
    "\n",
    "    d_9 = df[df.ICD_VERSION == 9]\n",
    "    d_10 = df[df.ICD_VERSION == 10]\n",
    "    print(d_9.shape,d_10.shape)\n",
    "    \n",
    "    po_9 = d_9[d_9.ICD_CODE.isin(icds[icds.ICD_VERSION ==9].ICD_CODE)]\n",
    "    po_10 = d_10[d_10.ICD_CODE.isin(icds[icds.ICD_VERSION ==10].ICD_CODE)]\n",
    "    print('包含相应ICD9：',po_9.shape,'包含相应ICD10：',po_10.shape)\n",
    "    print('存在的ICD9个数：',len(po_9.ICD_CODE.unique()),'存在的ICD10个数：',len(po_10.ICD_CODE.unique()))\n",
    "\n",
    "    # 全部的CODE\n",
    "    all_9code = po_9.ICD_CODE.value_counts()\n",
    "    all_9code = all_9code[all_9code>n].index\n",
    "    print('全部出现频率高的9code:', len(all_9code), all_9code)\n",
    "    all_10code = po_10.ICD_CODE.value_counts()\n",
    "    all_10code = all_10code[all_10code>n].index\n",
    "    print('全部出现频率高的10code:', len(all_10code), all_10code)\n",
    "    \n",
    "    # 存在9-10对应的CODE，看看个数\n",
    "    cc_9code = po_9[po_9.ICD_CODE.isin(diag_9_10[diag_9_10.ICD_CODE.isin(po_9.ICD_CODE.unique())].ICD_CODE)].ICD_CODE.value_counts()\n",
    "    cc_9code = cc_9code[cc_9code>n].index\n",
    "    print('在diag_9_10出现频率高的9code:', len(cc_9code), cc_9code)\n",
    "    print('没有在diag_9_10的9code:', len(list(set(all_9code) - set(cc_9code))), list(set(all_9code) - set(cc_9code)))\n",
    "    cc_9code_10 = list(diag_9_10[diag_9_10.ICD_CODE.isin(cc_9code)].ROOT.unique())\n",
    "    print('对应的10code：',len(cc_9code_10),cc_9code_10)\n",
    "\n",
    "    cc_10code = po_10[po_10.ICD_CODE.isin(diag_9_10[diag_9_10.ROOT.isin(po_10.ICD_CODE.unique())].ICD_CODE)].ICD_CODE.value_counts()\n",
    "    cc_10code = cc_10code[cc_10code>n]\n",
    "    print('在diag_9_10出现频率高的10code:', len(cc_10code.index), cc_10code.index)\n",
    "\n",
    "    print('-----------------------------Final Screen-----------------------------')\n",
    "    print('全部的ICD_10：',len(pd.unique(list(all_10code)+list(cc_9code_10))),list(pd.unique(list(all_10code)+list(cc_9code_10))))\n",
    "    print('没有对应的9_code:：',len(list(set(all_9code) - set(cc_9code))), list(set(all_9code) - set(cc_9code)))\n",
    "\n",
    "    return list(pd.unique(list(all_10code)+list(cc_9code_10))), list(set(all_9code) - set(cc_9code))"
   ]
  },
  {
   "cell_type": "code",
   "execution_count": 14,
   "id": "4e9d2652-5624-485f-9ffe-15238e6f90e2",
   "metadata": {},
   "outputs": [
    {
     "name": "stdout",
     "output_type": "stream",
     "text": [
      "(6364488, 4) 545497 28562\n"
     ]
    }
   ],
   "source": [
    "IV_diagnoses_raw = pd.read_csv('D:/mimic-iv-3.1/mimiciv/3.1/hosp/diagnoses_icd.csv.gz')\n",
    "IV_diagnoses_raw.columns = IV_diagnoses_raw.columns.str.upper()\n",
    "IV_diagnoses_raw = IV_diagnoses_raw[['SUBJECT_ID', 'HADM_ID', 'ICD_CODE','ICD_VERSION']]\n",
    "print(IV_diagnoses_raw.shape, len(IV_diagnoses_raw.HADM_ID.unique()),len(IV_diagnoses_raw.ICD_CODE.unique()))"
   ]
  },
  {
   "cell_type": "code",
   "execution_count": 15,
   "id": "38c704a5-48a7-4950-bbd3-c4b88a0257e2",
   "metadata": {},
   "outputs": [
    {
     "name": "stdout",
     "output_type": "stream",
     "text": [
      "MIMICIV ICD_VERSION: Counter({10: 3455747, 9: 2908741})\n",
      "(2908741, 4) (3455747, 4)\n",
      "包含相应ICD9： (2908741, 4) 包含相应ICD10： (3455747, 4)\n",
      "存在的ICD9个数： 9143 存在的ICD10个数： 19440\n",
      "全部出现频率高的9code: 186 Index(['4019', '2724', '53081', '25000', '42731', '4280', '311', '41401',\n",
      "       'V1582', '5849',\n",
      "       ...\n",
      "       'V667', 'V4502', '78321', 'V462', '5363', '29410', '70703', '66411',\n",
      "       'V433', 'V5811'],\n",
      "      dtype='object', length=186)\n",
      "全部出现频率高的10code: 209 Index(['E785', 'I10', 'Z87891', 'K219', 'F329', 'I2510', 'F419', 'N179',\n",
      "       'Z20822', 'Z7901',\n",
      "       ...\n",
      "       'I132', 'G936', 'J441', 'K449', 'E11649', 'K921', 'X58XXXA', 'K3184',\n",
      "       'K7030', 'Z8619'],\n",
      "      dtype='object', length=209)\n",
      "在diag_9_10出现频率高的9code: 163 Index(['4019', '2724', '53081', '25000', '42731', '4280', '311', '41401',\n",
      "       'V1582', '5849',\n",
      "       ...\n",
      "       'V08', '2639', '58381', 'V667', 'V4502', '78321', '29410', '5363',\n",
      "       '70703', 'V5811'],\n",
      "      dtype='object', length=163)\n",
      "没有在diag_9_10的9code: 23 ['66411', 'E9331', 'E8497', 'E8889', 'E8798', 'E8499', 'E8490', 'V433', 'V462', 'V4364', 'V1255', 'V8741', 'V4365', 'V6284', 'E8781', 'E8782', 'E8859', 'V1254', 'V1251', 'E8788', 'V270', '64891', 'V600']\n",
      "对应的10code： 89 ['I95', 'E87', 'R10', 'F10', 'Z21', 'R68', 'J44', 'F30', 'K70', 'J69', 'I50', 'J98', 'N17', 'R09', 'I47', 'D64', 'I25', 'M15', 'M81', 'R58', 'F41', 'I10', 'I34', 'I21', 'I12', 'E11', 'Z51', 'K22', 'J45', 'F32', 'M79', 'Z91', 'K59', 'R45', 'G43', 'G61', 'E78', 'E66', 'Z95', 'J18', 'N18', 'R69', 'R00', 'R19', 'D50', 'A04', 'E89', 'N39', 'Z00', 'T78', 'K57', 'R78', 'D69', 'I42', 'I27', 'G89', 'B15', 'A40', 'G47', 'E44', 'F05', 'T81', 'M10', 'L89', 'Z85', 'H40', 'Z81', 'F43', 'K85', 'N23', 'K41', 'D70', 'K75', 'H35', 'N40', 'G40', 'R06', 'M48', 'I73', 'L03', 'G60', 'M06', 'C78', 'R63', 'G44', 'F04', 'C79', 'N05', 'K31']\n",
      "在diag_9_10出现频率高的10code: 0 Index([], dtype='object')\n",
      "-----------------------------Final Screen-----------------------------\n",
      "全部的ICD_10： 296 ['E785', 'I10', 'Z87891', 'K219', 'F329', 'I2510', 'F419', 'N179', 'Z20822', 'Z7901', 'E039', 'Z794', 'E119', 'F17210', 'G4733', 'E669', 'D649', 'I4891', 'J45909', 'Z7902', 'Y929', 'D62', 'Z66', 'E1122', 'J449', 'E871', 'N390', 'I129', 'E872', 'I110', 'N189', 'I252', 'Z8673', 'G8929', 'Z955', 'Z86718', 'I480', 'J9601', 'I130', 'K5900', 'N400', 'G4700', 'M109', 'Z951', 'D696', 'I5032', 'Y92230', 'E1165', 'D509', 'Z515', 'E876', 'E875', 'D72829', 'J189', 'Z86711', 'Z23', 'M810', 'Z370', 'I959', 'N183', 'E860', 'R45851', 'Y838', 'N186', 'M1990', 'Y92239', 'I5033', 'E43', 'E7800', 'Y92009', 'E6601', 'E8339', 'Z20828', 'A419', 'I5022', 'F4310', 'G92', 'Z781', 'Z992', 'Z85828', 'Z9181', 'E861', 'D631', 'Z853', 'R339', 'F319', 'Z8249', 'R0902', 'R197', 'R000', 'E559', 'T451X5A', 'G40909', 'D6959', 'E1140', 'F0390', 'I2720', 'H409', 'G43909', 'Z8546', 'R079', 'E870', 'F05', 'I5023', 'R1310', 'Z950', 'K766', 'Z006', 'R6521', 'Z9114', 'I951', 'I739', 'R112', 'G629', 'B9620', 'E8342', 'I214', 'Y848', 'F10129', 'Z6841', 'M549', 'I350', 'J9811', 'J690', 'R740', 'B1920', 'R0789', 'Z681', 'R001', 'Z9981', 'E1151', 'N170', 'J90', 'R55', 'I471', 'I120', 'F1010', 'I340', 'N401', 'I255', 'D638', 'E46', 'F32A', 'Z590', 'Z1159', 'M545', 'G893', 'C787', 'D684', 'R338', 'R509', 'C7951', 'W19XXXA', 'E1142', 'D61818', 'U071', 'R531', 'I4892', 'N1830', 'Z720', 'I509', 'N184', 'R110', 'Z952', 'Z7982', 'R109', 'Z923', 'R42', 'Z7984', 'M069', 'E11319', 'Z9884', 'Z9049', 'R627', 'I472', 'D630', 'Z5111', 'Y832', 'G9341', 'R188', 'B9689', 'D689', 'E8770', 'T380X5A', 'K760', 'M797', 'R791', 'I8510', 'K7469', 'Z9221', 'R51', 'E440', 'M8580', 'I21A1', 'Z8616', 'K7031', 'F909', 'F17200', 'Z915', 'I132', 'G936', 'J441', 'K449', 'E11649', 'K921', 'X58XXXA', 'K3184', 'K7030', 'Z8619', 'I95', 'E87', 'R10', 'F10', 'Z21', 'R68', 'J44', 'F30', 'K70', 'J69', 'I50', 'J98', 'N17', 'R09', 'I47', 'D64', 'I25', 'M15', 'M81', 'R58', 'F41', 'I34', 'I21', 'I12', 'E11', 'Z51', 'K22', 'J45', 'F32', 'M79', 'Z91', 'K59', 'R45', 'G43', 'G61', 'E78', 'E66', 'Z95', 'J18', 'N18', 'R69', 'R00', 'R19', 'D50', 'A04', 'E89', 'N39', 'Z00', 'T78', 'K57', 'R78', 'D69', 'I42', 'I27', 'G89', 'B15', 'A40', 'G47', 'E44', 'T81', 'M10', 'L89', 'Z85', 'H40', 'Z81', 'F43', 'K85', 'N23', 'K41', 'D70', 'K75', 'H35', 'N40', 'G40', 'R06', 'M48', 'I73', 'L03', 'G60', 'M06', 'C78', 'R63', 'G44', 'F04', 'C79', 'N05', 'K31']\n",
      "没有对应的9_code:： 23 ['66411', 'E9331', 'E8497', 'E8889', 'E8798', 'E8499', 'E8490', 'V433', 'V462', 'V4364', 'V1255', 'V8741', 'V4365', 'V6284', 'E8781', 'E8782', 'E8859', 'V1254', 'V1251', 'E8788', 'V270', '64891', 'V600']\n"
     ]
    }
   ],
   "source": [
    "#全部的code\n",
    "D_10code, D_9code = diag_9_10_check(IV_diagnoses_raw,only_diag_9_10,D_ICD_DIAGNOSES,'MIMICIV',3000)"
   ]
  },
  {
   "cell_type": "code",
   "execution_count": 16,
   "id": "bd74d705-bbdd-4093-a520-cbc880b91d8d",
   "metadata": {},
   "outputs": [
    {
     "name": "stdout",
     "output_type": "stream",
     "text": [
      "296 23\n"
     ]
    }
   ],
   "source": [
    "print(len(D_10code),len(D_9code))"
   ]
  },
  {
   "cell_type": "code",
   "execution_count": 18,
   "id": "4c98d088-c41b-44c4-bde5-0be82b5b487a",
   "metadata": {},
   "outputs": [
    {
     "data": {
      "text/plain": [
       "148"
      ]
     },
     "execution_count": 18,
     "metadata": {},
     "output_type": "execute_result"
    }
   ],
   "source": [
    "d_10_iii = ['I95', 'E87', 'R10', 'F10', 'Z21', 'R68', 'J44', 'F30', 'K70', 'J69', 'I50', 'J98', 'N17', 'K92', 'R09', 'I47', 'D64', 'I25', 'M15', 'M81', 'R58', 'F41', 'I10', 'I34', 'I21', 'N18', 'I12', 'E11', 'Z51', 'K22', 'G93', 'G35', 'J45', 'F32', 'M79', 'Z91', 'K59', 'R45', 'I20', 'G43', 'G61', 'E78', 'E66', 'Z95', 'C33', 'J18', 'J41', 'R69', 'R00', 'T82', 'Q20', 'R19', 'K80', 'D50', 'A04', 'F19', 'B37', 'E89', 'N39', 'T78', 'Z00', 'K56', 'K57', 'K29', 'R78', 'D69', 'I42', 'I27', 'G89', 'B15', 'A40', 'T81', 'E83', 'G47', 'D66', 'E44', 'F05', 'K66', 'B95', 'K76', 'K91', 'N28', 'M10', 'L89', 'I44', 'I69', 'J15', 'Z85', 'I24', 'I66', 'G81', 'H40', 'Z81', 'G44', 'K75', 'I85', 'I61', 'K85', 'N23', 'K41', 'D70', 'K31', 'J93', 'N40', 'H35', 'C79', 'I31', 'I33', 'G40', 'M48', 'I73', 'M60', 'F04', 'L03', 'G60', 'S06', 'G30', 'I82', 'S12', 'I26', 'M06', 'E22', 'S27', 'C78', 'G97', 'G20', 'J84', 'I67', 'I60', 'D61', 'I71', 'B20', 'J43', 'Z16', 'I70', 'C22', 'I07', 'R06', 'C61', 'I62', 'N05', 'I08', 'C82', 'N13', 'J95', 'S01', 'M32', 'Z23']\n",
    "len(d_10_iii)"
   ]
  },
  {
   "cell_type": "code",
   "execution_count": 19,
   "id": "f6aae62a-78c4-43c0-8791-2f7a815d75c0",
   "metadata": {},
   "outputs": [
    {
     "data": {
      "text/plain": [
       "68"
      ]
     },
     "execution_count": 19,
     "metadata": {},
     "output_type": "execute_result"
    }
   ],
   "source": [
    "d_9_iii = ['E9342', 'V1254', 'V433', 'E8790', 'V4364', 'E8859', 'E9320', '76519', 'V502', '7470', 'V290', '99731', 'V1259', '76527', '7742', '6930', 'E9478', '7756', '76517', 'E8889', 'V3000', '76516', '77081', 'E8490', 'V293', 'V422', '9974', '86121', '7464', '9973', '43310', '7793', 'E8786', 'E8781', 'V3101', 'E8788', '39891', 'E8498', 'E8780', 'V4365', '7746', 'V420', '769', '9971', '76518', 'E8809', '7661', '2113', 'V441', 'V1251', 'V8741', '77089', '5570', 'E8798', 'E9331', '9975', 'E8497', '7706', '99702', '76528', 'V3001', 'V440', 'V462', 'E8782', '76526', '77981', '7766', '77989']\n",
    "len(d_9_iii)"
   ]
  },
  {
   "cell_type": "code",
   "execution_count": 20,
   "id": "a0ccfe3c-7af6-44fa-8506-387ce9478c93",
   "metadata": {},
   "outputs": [
    {
     "name": "stdout",
     "output_type": "stream",
     "text": [
      "356 75\n"
     ]
    }
   ],
   "source": [
    "d_10_iii_iv = list(pd.unique(d_10_iii + D_10code))\n",
    "d_9_iii_iv = list(pd.unique(d_9_iii + D_9code))\n",
    "print(len(d_10_iii_iv),len(d_9_iii_iv))"
   ]
  },
  {
   "cell_type": "code",
   "execution_count": 21,
   "id": "b3455238-ba7e-4c37-8daf-426c1a650709",
   "metadata": {},
   "outputs": [],
   "source": [
    "del(D_10code, D_9code,d_10_iii,d_9_iii)"
   ]
  },
  {
   "cell_type": "code",
   "execution_count": 24,
   "id": "5ce607e8-6b86-45e4-af07-3b8adfe58f92",
   "metadata": {},
   "outputs": [
    {
     "name": "stdout",
     "output_type": "stream",
     "text": [
      "44 280\n"
     ]
    }
   ],
   "source": [
    "label_9 = PCOS_9 + Neoplasm_ovary_9 + Endometriosis_9 + Leiomyoma_9 + Va_uti_9 + check_AKI_9 + check_CKD_9\n",
    "label_10 = PCOS_10 + Neoplasm_ovary_10 + Endometriosis_10 + Leiomyoma_10 + Va_uti_10 + check_AKI_10 + check_CKD_10\n",
    "print(len(label_9), len(label_10))"
   ]
  },
  {
   "cell_type": "code",
   "execution_count": 25,
   "id": "32017ea7-af34-4c82-a9b4-194b9f2df253",
   "metadata": {},
   "outputs": [
    {
     "name": "stdout",
     "output_type": "stream",
     "text": [
      "抛开用于分组的标签，最终纳入的初始 Diag：\n",
      "Final_9： 80\n",
      "Final_10： 623\n"
     ]
    }
   ],
   "source": [
    "print('抛开用于分组的标签，最终纳入的初始 Diag：')\n",
    "Final_9 = list(pd.unique(d_9_iii_iv + matched_9_notin))\n",
    "Final_9 = list(set(Final_9)-set(['E8809','E8889', 'V270', 'V4364', 'V446', 'V600','E894']))\n",
    "Final_10 = list(pd.unique(d_10_iii_iv + matched_10_add))\n",
    "Final_10 = list(set(Final_10)-set(['E8339', 'E8342','N40', 'N400', 'N401', 'Z8546','V433','V462','V474','V536','V556','V290', 'V293', 'V420', 'V422', 'V433','V440', 'V441', 'V462', 'V502']))\n",
    "\n",
    "print('Final_9：',len(Final_9))\n",
    "print('Final_10：',len(Final_10))"
   ]
  },
  {
   "cell_type": "code",
   "execution_count": 26,
   "id": "c38387a6-ca0e-4617-8d3f-1a3d1c15b8cb",
   "metadata": {},
   "outputs": [
    {
     "data": {
      "text/plain": [
       "703"
      ]
     },
     "execution_count": 26,
     "metadata": {},
     "output_type": "execute_result"
    }
   ],
   "source": [
    "len(pd.unique(Final_9+Final_10))"
   ]
  },
  {
   "cell_type": "code",
   "execution_count": 29,
   "id": "af22cf2f-5656-4c57-a3b9-4390af3aa759",
   "metadata": {},
   "outputs": [],
   "source": [
    "# tt = D_ICD_DIAGNOSES[D_ICD_DIAGNOSES.ICD_CODE.isin(pd.unique(Final_9+Final_10))]\n",
    "# print(tt.shape)\n",
    "# tt[tt.duplicated(subset=['ICD_CODE'],keep=False)]"
   ]
  },
  {
   "cell_type": "code",
   "execution_count": 27,
   "id": "bcc88fcf-654c-46c3-9cf8-d924678c1132",
   "metadata": {},
   "outputs": [
    {
     "data": {
      "text/plain": [
       "736"
      ]
     },
     "execution_count": 27,
     "metadata": {},
     "output_type": "execute_result"
    }
   ],
   "source": [
    "len(pd.unique(Final_9+Final_10+label_9+label_10))"
   ]
  },
  {
   "cell_type": "code",
   "execution_count": 30,
   "id": "bdec478d-f0bd-4395-bcd8-361daf21680b",
   "metadata": {},
   "outputs": [],
   "source": [
    "# 定点取 ICD9 和 ICD10 对应的\n",
    "def get_diag(df,Final_9,Final_10,label_9,label_10,dataset,patients,only_diag_9_10):\n",
    "    if dataset == 'MIMICIV':\n",
    "        print(dataset,'ICD_VERSION:',Counter(df.ICD_VERSION))\n",
    "    else:\n",
    "        df['ICD_VERSION'] = 9\n",
    "        print(dataset,'ICD_VERSION:',Counter(df.ICD_VERSION))\n",
    "        \n",
    "    df_diag_9 = df[df.ICD_VERSION == 9]\n",
    "    df_diag_10 = df[df.ICD_VERSION == 10]\n",
    "    print('ICD 9:',df_diag_9.shape, 'ICD 10:',df_diag_10.shape)\n",
    "\n",
    "    # ----------------------------------对所有包括label列进行处理\n",
    "    # 对没有mapped的 ICD_9进行处理\n",
    "    df_diag_9_add = df_diag_9[df_diag_9.ICD_CODE.isin(list(pd.unique(Final_9+label_9)))] #一定要单独加进去的 icd9\n",
    "    df_diag_9_mapped = df_diag_9[~(df_diag_9.ICD_CODE.isin(Final_9))] #找有映射的\n",
    "    df_diag_9_mapped = pd.merge(df_diag_9_mapped,only_diag_9_10,on='ICD_CODE',how='left')\n",
    "    df_diag_9_mapped = df_diag_9_mapped[df_diag_9_mapped.ROOT.isin(list(pd.unique(Final_10+label_10)))]\n",
    "    print('补充的ICD9：', len(df_diag_9_add.ICD_CODE.unique()))\n",
    "    print('9_mapped：', len(df_diag_9_mapped.ICD_CODE.unique()), len(df_diag_9_mapped.ROOT.unique()))\n",
    "\n",
    "    # 对 ICD_10 进行处理\n",
    "    df_diag_10 = df_diag_10[df_diag_10.ICD_CODE.isin(list(pd.unique(Final_10+label_10)))]\n",
    "    print('ICD_10:', len(df_diag_10.ICD_CODE.unique()))\n",
    "\n",
    "    all_df_diag = pd.concat([df_diag_9_mapped,df_diag_9_add])\n",
    "    all_df_diag = pd.concat([all_df_diag,df_diag_10])\n",
    "    all_df_diag['ROOT'] = all_df_diag['ROOT'].fillna(all_df_diag['ICD_CODE'])\n",
    "    all_df_diag = all_df_diag.drop_duplicates(subset=['HADM_ID', 'ICD_CODE', 'ICD_VERSION', 'ROOT'], keep='first')\n",
    "    print(all_df_diag.shape, len(all_df_diag.HADM_ID.unique()), len(all_df_diag.ICD_CODE.unique()), len(all_df_diag.ROOT.unique()))\n",
    "    print(len(list(all_df_diag.ROOT.unique())))\n",
    "\n",
    "    all_df_diag = all_df_diag[all_df_diag.HADM_ID.isin(patients.HADM_ID)]\n",
    "    print(all_df_diag.shape, len(all_df_diag.HADM_ID.unique()), len(all_df_diag.ICD_CODE.unique()), len(all_df_diag.ROOT.unique()))\n",
    "    print(len(list(all_df_diag.ROOT.unique())))\n",
    "\n",
    "    # Group by subject and admission ID to list ICD codes per ROOT category\n",
    "    all_df_diag = all_df_diag.groupby(['SUBJECT_ID', 'HADM_ID', 'ROOT'])['ICD_CODE'].apply(list).reset_index()\n",
    "    # Pivot the grouped data to create a matrix for HADM_ID and ROOT categories\n",
    "    all_df_diag = all_df_diag.pivot(index='HADM_ID', columns='ROOT', values='ICD_CODE')\n",
    "    all_df_diag = all_df_diag.reset_index()\n",
    "    print(all_df_diag.shape,len(all_df_diag.HADM_ID.unique()))\n",
    "    \n",
    "    all_df_diag.loc[:, all_df_diag.columns != 'HADM_ID'] = all_df_diag.loc[:, all_df_diag.columns != 'HADM_ID'].notna().astype(int)\n",
    "    zero_cols = all_df_diag.columns[all_df_diag.eq(0).all()].tolist()\n",
    "    zero_cols = list(set(zero_cols)-set(label_9+label_10))\n",
    "    all_df_diag = all_df_diag.drop(columns=zero_cols)\n",
    "    print(all_df_diag.shape,len(all_df_diag.HADM_ID.unique()))\n",
    "\n",
    "    all_df_diag.columns = [\n",
    "    ('Diag_9_' + col if col in (Final_9 + label_9) \n",
    "     else 'Diag_10_' + col if col in (Final_10 + label_10) \n",
    "     else col)\n",
    "    for col in all_df_diag.columns]\n",
    "\n",
    "    return all_df_diag"
   ]
  },
  {
   "cell_type": "code",
   "execution_count": 31,
   "id": "98e6a687-672a-43e7-ad78-f3869bbbb526",
   "metadata": {},
   "outputs": [
    {
     "name": "stdout",
     "output_type": "stream",
     "text": [
      "MIMICIV ICD_VERSION: Counter({10: 3455747, 9: 2908741})\n",
      "ICD 9: (2908741, 4) ICD 10: (3455747, 4)\n",
      "补充的ICD9： 86\n",
      "9_mapped： 2106 160\n",
      "ICD_10: 281\n",
      "(4472422, 5) 529642 2440 504\n",
      "504\n",
      "(892148, 5) 66981 2336 482\n",
      "482\n",
      "(66981, 483) 66981\n",
      "(66981, 483) 66981\n"
     ]
    }
   ],
   "source": [
    "all_df_diag = get_diag(IV_diagnoses_raw,Final_9,Final_10,label_9,label_10,'MIMICIV',df,only_diag_9_10)"
   ]
  },
  {
   "cell_type": "code",
   "execution_count": 32,
   "id": "f238e2d5-49e9-4def-a2c4-296216ff0b30",
   "metadata": {},
   "outputs": [
    {
     "data": {
      "text/html": [
       "<div>\n",
       "<style scoped>\n",
       "    .dataframe tbody tr th:only-of-type {\n",
       "        vertical-align: middle;\n",
       "    }\n",
       "\n",
       "    .dataframe tbody tr th {\n",
       "        vertical-align: top;\n",
       "    }\n",
       "\n",
       "    .dataframe thead th {\n",
       "        text-align: right;\n",
       "    }\n",
       "</style>\n",
       "<table border=\"1\" class=\"dataframe\">\n",
       "  <thead>\n",
       "    <tr style=\"text-align: right;\">\n",
       "      <th></th>\n",
       "      <th>HADM_ID</th>\n",
       "      <th>Diag_9_1830</th>\n",
       "      <th>Diag_9_1986</th>\n",
       "      <th>Diag_9_2113</th>\n",
       "      <th>Diag_9_2180</th>\n",
       "      <th>Diag_9_2181</th>\n",
       "      <th>Diag_9_2182</th>\n",
       "      <th>Diag_9_2189</th>\n",
       "      <th>Diag_9_220</th>\n",
       "      <th>Diag_9_2362</th>\n",
       "      <th>...</th>\n",
       "      <th>Diag_10_Z9221</th>\n",
       "      <th>Diag_10_Z923</th>\n",
       "      <th>Diag_10_Z95</th>\n",
       "      <th>Diag_10_Z950</th>\n",
       "      <th>Diag_10_Z951</th>\n",
       "      <th>Diag_10_Z952</th>\n",
       "      <th>Diag_10_Z955</th>\n",
       "      <th>Diag_10_Z9884</th>\n",
       "      <th>Diag_10_Z992</th>\n",
       "      <th>Diag_10_Z9981</th>\n",
       "    </tr>\n",
       "  </thead>\n",
       "  <tbody>\n",
       "    <tr>\n",
       "      <th>0</th>\n",
       "      <td>20000147</td>\n",
       "      <td>0</td>\n",
       "      <td>0</td>\n",
       "      <td>0</td>\n",
       "      <td>0</td>\n",
       "      <td>0</td>\n",
       "      <td>0</td>\n",
       "      <td>0</td>\n",
       "      <td>0</td>\n",
       "      <td>0</td>\n",
       "      <td>...</td>\n",
       "      <td>0</td>\n",
       "      <td>0</td>\n",
       "      <td>0</td>\n",
       "      <td>0</td>\n",
       "      <td>0</td>\n",
       "      <td>0</td>\n",
       "      <td>0</td>\n",
       "      <td>0</td>\n",
       "      <td>0</td>\n",
       "      <td>0</td>\n",
       "    </tr>\n",
       "    <tr>\n",
       "      <th>1</th>\n",
       "      <td>20001305</td>\n",
       "      <td>0</td>\n",
       "      <td>0</td>\n",
       "      <td>0</td>\n",
       "      <td>0</td>\n",
       "      <td>0</td>\n",
       "      <td>0</td>\n",
       "      <td>0</td>\n",
       "      <td>0</td>\n",
       "      <td>0</td>\n",
       "      <td>...</td>\n",
       "      <td>0</td>\n",
       "      <td>0</td>\n",
       "      <td>0</td>\n",
       "      <td>0</td>\n",
       "      <td>0</td>\n",
       "      <td>0</td>\n",
       "      <td>0</td>\n",
       "      <td>0</td>\n",
       "      <td>0</td>\n",
       "      <td>1</td>\n",
       "    </tr>\n",
       "    <tr>\n",
       "      <th>2</th>\n",
       "      <td>20001361</td>\n",
       "      <td>0</td>\n",
       "      <td>0</td>\n",
       "      <td>0</td>\n",
       "      <td>0</td>\n",
       "      <td>0</td>\n",
       "      <td>0</td>\n",
       "      <td>0</td>\n",
       "      <td>0</td>\n",
       "      <td>0</td>\n",
       "      <td>...</td>\n",
       "      <td>0</td>\n",
       "      <td>0</td>\n",
       "      <td>0</td>\n",
       "      <td>0</td>\n",
       "      <td>0</td>\n",
       "      <td>0</td>\n",
       "      <td>0</td>\n",
       "      <td>0</td>\n",
       "      <td>0</td>\n",
       "      <td>0</td>\n",
       "    </tr>\n",
       "    <tr>\n",
       "      <th>3</th>\n",
       "      <td>20001494</td>\n",
       "      <td>0</td>\n",
       "      <td>0</td>\n",
       "      <td>0</td>\n",
       "      <td>0</td>\n",
       "      <td>0</td>\n",
       "      <td>0</td>\n",
       "      <td>0</td>\n",
       "      <td>0</td>\n",
       "      <td>0</td>\n",
       "      <td>...</td>\n",
       "      <td>0</td>\n",
       "      <td>1</td>\n",
       "      <td>0</td>\n",
       "      <td>0</td>\n",
       "      <td>0</td>\n",
       "      <td>0</td>\n",
       "      <td>0</td>\n",
       "      <td>0</td>\n",
       "      <td>0</td>\n",
       "      <td>0</td>\n",
       "    </tr>\n",
       "    <tr>\n",
       "      <th>4</th>\n",
       "      <td>20001770</td>\n",
       "      <td>0</td>\n",
       "      <td>0</td>\n",
       "      <td>0</td>\n",
       "      <td>0</td>\n",
       "      <td>0</td>\n",
       "      <td>0</td>\n",
       "      <td>0</td>\n",
       "      <td>0</td>\n",
       "      <td>0</td>\n",
       "      <td>...</td>\n",
       "      <td>0</td>\n",
       "      <td>0</td>\n",
       "      <td>0</td>\n",
       "      <td>0</td>\n",
       "      <td>0</td>\n",
       "      <td>0</td>\n",
       "      <td>0</td>\n",
       "      <td>0</td>\n",
       "      <td>0</td>\n",
       "      <td>0</td>\n",
       "    </tr>\n",
       "  </tbody>\n",
       "</table>\n",
       "<p>5 rows × 483 columns</p>\n",
       "</div>"
      ],
      "text/plain": [
       "    HADM_ID  Diag_9_1830  Diag_9_1986  Diag_9_2113  Diag_9_2180  Diag_9_2181  \\\n",
       "0  20000147            0            0            0            0            0   \n",
       "1  20001305            0            0            0            0            0   \n",
       "2  20001361            0            0            0            0            0   \n",
       "3  20001494            0            0            0            0            0   \n",
       "4  20001770            0            0            0            0            0   \n",
       "\n",
       "   Diag_9_2182  Diag_9_2189  Diag_9_220  Diag_9_2362  ...  Diag_10_Z9221  \\\n",
       "0            0            0           0            0  ...              0   \n",
       "1            0            0           0            0  ...              0   \n",
       "2            0            0           0            0  ...              0   \n",
       "3            0            0           0            0  ...              0   \n",
       "4            0            0           0            0  ...              0   \n",
       "\n",
       "   Diag_10_Z923  Diag_10_Z95  Diag_10_Z950  Diag_10_Z951  Diag_10_Z952  \\\n",
       "0             0            0             0             0             0   \n",
       "1             0            0             0             0             0   \n",
       "2             0            0             0             0             0   \n",
       "3             1            0             0             0             0   \n",
       "4             0            0             0             0             0   \n",
       "\n",
       "   Diag_10_Z955  Diag_10_Z9884  Diag_10_Z992  Diag_10_Z9981  \n",
       "0             0              0             0              0  \n",
       "1             0              0             0              1  \n",
       "2             0              0             0              0  \n",
       "3             0              0             0              0  \n",
       "4             0              0             0              0  \n",
       "\n",
       "[5 rows x 483 columns]"
      ]
     },
     "execution_count": 32,
     "metadata": {},
     "output_type": "execute_result"
    }
   ],
   "source": [
    "all_df_diag.head()"
   ]
  },
  {
   "cell_type": "code",
   "execution_count": 33,
   "id": "be22d4ab-24da-40bd-8489-226feda6ca26",
   "metadata": {},
   "outputs": [
    {
     "name": "stdout",
     "output_type": "stream",
     "text": [
      "44 280\n",
      "43 276\n",
      "43 276\n",
      "35 55\n",
      "10 16 2 19 14 9 20\n"
     ]
    }
   ],
   "source": [
    "print(len(label_9),len(label_10))\n",
    "print(len(pd.unique(label_9)),len(pd.unique(label_10)))\n",
    "now_l_9 = list(pd.unique(label_9))\n",
    "now_l_9 = ['Diag_9_'+i for i in now_l_9]\n",
    "now_l_10 = list(pd.unique(label_10))\n",
    "now_l_10 = ['Diag_10_'+i for i in now_l_10]\n",
    "print(len(now_l_9),len(now_l_10))\n",
    "\n",
    "# 有些feature压根没有sample\n",
    "existing_l_9 = list(set(now_l_9) & set(all_df_diag.columns))\n",
    "existing_l_10 = list(set(now_l_10) & set(all_df_diag.columns))\n",
    "print(len(existing_l_9),len(existing_l_10))\n",
    "\n",
    "# 具体到什么标签\n",
    "# a_d = [i.split('_')[-1] for i in all_df_diag.columns if 'Diag_' in i]\n",
    "existing_AKI = list(set(['Diag_9_'+i for i in check_AKI_9]+['Diag_10_'+i for i in check_AKI_10]) & set(all_df_diag.columns))\n",
    "existing_CKD = list(set(['Diag_9_'+i for i in check_CKD_9]+['Diag_10_'+i for i in check_CKD_10]) & set(all_df_diag.columns))\n",
    "existing_PCOS = list(set(['Diag_9_'+i for i in PCOS_9]+['Diag_10_'+i for i in PCOS_10]) & set(all_df_diag.columns))\n",
    "existing_Neoplasm_ovary = list(set(['Diag_9_'+i for i in Neoplasm_ovary_9]+['Diag_10_'+i for i in Neoplasm_ovary_10]) & set(all_df_diag.columns))\n",
    "existing_Endometriosis = list(set(['Diag_9_'+i for i in Endometriosis_9]+['Diag_10_'+i for i in Endometriosis_10]) & set(all_df_diag.columns))\n",
    "existing_Leiomyoma = list(set(['Diag_9_'+i for i in Leiomyoma_9]+['Diag_10_'+i for i in Leiomyoma_10]) & set(all_df_diag.columns))\n",
    "existing_Va_uti = list(set(['Diag_9_'+i for i in Va_uti_9]+['Diag_10_'+i for i in Va_uti_10]) & set(all_df_diag.columns))\n",
    "print(len(existing_AKI),len(existing_CKD),len(existing_PCOS),len(existing_Neoplasm_ovary),len(existing_Endometriosis),len(existing_Leiomyoma),len(existing_Va_uti))"
   ]
  },
  {
   "cell_type": "code",
   "execution_count": 34,
   "id": "27927e85-6260-4bd1-8580-53e6f8a0bad7",
   "metadata": {},
   "outputs": [
    {
     "name": "stdout",
     "output_type": "stream",
     "text": [
      "Counter({0: 45562, 1: 21419}) Counter({0: 45562, 1: 21419})\n",
      "\n",
      "\n",
      "Counter({0: 54014, 1: 12967}) Counter({0: 54014, 1: 12967})\n",
      "\n",
      "\n",
      "Counter({0: 66910, 1: 71})\n",
      "2 ['Diag_9_2564', 'Diag_10_E282']\n",
      "Diag_9_2564 Polycystic ovaries Counter({0: 66956, 1: 25})\n",
      "Diag_10_E282 Polycystic ovarian syndrome Counter({0: 66935, 1: 46})\n",
      "\n",
      "\n",
      "Counter({0: 66635, 1: 346})\n",
      "19 ['Diag_10_C7960', 'Diag_10_Z8041', 'Diag_10_D27', 'Diag_10_C562', 'Diag_10_C569', 'Diag_9_1986', 'Diag_10_C7962', 'Diag_10_Z8543', 'Diag_9_1830', 'Diag_9_V1641', 'Diag_10_D270', 'Diag_9_2362', 'Diag_9_V1043', 'Diag_10_D3912', 'Diag_10_C56', 'Diag_10_C7961', 'Diag_10_D271', 'Diag_9_220', 'Diag_10_C561']\n",
      "Diag_10_C7960 Secondary malignant neoplasm of unspecified ovary Counter({0: 66972, 1: 9})\n",
      "Diag_10_Z8041 Family history of malignant neoplasm of ovary Counter({0: 66961, 1: 20})\n",
      "Diag_10_D27 Benign neoplasm of ovary Counter({0: 66965, 1: 16})\n",
      "Diag_10_C562 Malignant neoplasm of left ovary Counter({0: 66963, 1: 18})\n",
      "Diag_10_C569 Malignant neoplasm of unspecified ovary Counter({0: 66943, 1: 38})\n",
      "Diag_9_1986 Secondary malignant neoplasm of ovary Counter({0: 66968, 1: 13})\n",
      "Diag_10_C7962 Secondary malignant neoplasm of left ovary Counter({0: 66975, 1: 6})\n",
      "Diag_10_Z8543 Personal history of malignant neoplasm of ovary Counter({0: 66911, 1: 70})\n",
      "Diag_9_1830 Malignant neoplasm of ovary Counter({0: 66931, 1: 50})\n",
      "Diag_9_V1641 Family history of malignant neoplasm of ovary Counter({0: 66965, 1: 16})\n",
      "Diag_10_D270 Benign neoplasm of right ovary Counter({0: 66973, 1: 8})\n",
      "Diag_9_2362 Neoplasm of uncertain behavior of ovary Counter({0: 66980, 1: 1})\n",
      "Diag_9_V1043 Personal history of malignant neoplasm of ovary Counter({0: 66917, 1: 64})\n",
      "Diag_10_D3912 Neoplasm of uncertain behavior of left ovary Counter({0: 66979, 1: 2})\n",
      "Diag_10_C56 Malignant neoplasm of ovary Counter({0: 66928, 1: 53})\n",
      "Diag_10_C7961 Secondary malignant neoplasm of right ovary Counter({0: 66969, 1: 12})\n",
      "Diag_10_D271 Benign neoplasm of left ovary Counter({0: 66975, 1: 6})\n",
      "Diag_9_220 Benign neoplasm of ovary Counter({0: 66965, 1: 16})\n",
      "Diag_10_C561 Malignant neoplasm of right ovary Counter({0: 66959, 1: 22})\n",
      "\n",
      "\n",
      "Counter({0: 66944, 1: 37})\n",
      "14 ['Diag_10_N803', 'Diag_10_N800', 'Diag_9_6172', 'Diag_10_N809', 'Diag_9_6179', 'Diag_10_N805', 'Diag_10_N808', 'Diag_9_6175', 'Diag_10_N802', 'Diag_9_6171', 'Diag_10_N801', 'Diag_9_6173', 'Diag_10_N80', 'Diag_9_6170']\n",
      "Diag_10_N803 Endometriosis of pelvic peritoneum Counter({0: 66977, 1: 4})\n",
      "Diag_10_N800 Endometriosis of uterus Counter({0: 66978, 1: 3})\n",
      "Diag_9_6172 Endometriosis of fallopian tube Counter({0: 66980, 1: 1})\n",
      "Diag_10_N809 Endometriosis, unspecified Counter({0: 66968, 1: 13})\n",
      "Diag_9_6179 Endometriosis, site unspecified Counter({0: 66971, 1: 10})\n",
      "Diag_10_N805 Endometriosis of intestine Counter({0: 66980, 1: 1})\n",
      "Diag_10_N808 Other endometriosis Counter({0: 66979, 1: 2})\n",
      "Diag_9_6175 Endometriosis of intestine Counter({0: 66978, 1: 3})\n",
      "Diag_10_N802 Endometriosis of fallopian tube Counter({0: 66979, 1: 2})\n",
      "Diag_9_6171 Endometriosis of ovary Counter({0: 66980, 1: 1})\n",
      "Diag_10_N801 Endometriosis of ovary Counter({0: 66978, 1: 3})\n",
      "Diag_9_6173 Endometriosis of pelvic peritoneum Counter({0: 66980, 1: 1})\n",
      "Diag_10_N80 Endometriosis Counter({0: 66964, 1: 17})\n",
      "Diag_9_6170 Endometriosis of uterus Counter({0: 66977, 1: 4})\n",
      "\n",
      "\n",
      "Counter({0: 66815, 1: 166})\n",
      "9 ['Diag_9_2180', 'Diag_10_D259', 'Diag_10_D252', 'Diag_10_D250', 'Diag_9_2181', 'Diag_10_D25', 'Diag_9_2189', 'Diag_10_D251', 'Diag_9_2182']\n",
      "Diag_9_2180 Submucous leiomyoma of uterus Counter({0: 66977, 1: 4})\n",
      "Diag_10_D259 Leiomyoma of uterus, unspecified Counter({0: 66917, 1: 64})\n",
      "Diag_10_D252 Subserosal leiomyoma of uterus Counter({0: 66972, 1: 9})\n",
      "Diag_10_D250 Submucous leiomyoma of uterus Counter({0: 66978, 1: 3})\n",
      "Diag_9_2181 Intramural leiomyoma of uterus Counter({0: 66971, 1: 10})\n",
      "Diag_10_D25 Leiomyoma of uterus Counter({0: 66893, 1: 88})\n",
      "Diag_9_2189 Leiomyoma of uterus, unspecified Counter({0: 66911, 1: 70})\n",
      "Diag_10_D251 Intramural leiomyoma of uterus Counter({0: 66976, 1: 5})\n",
      "Diag_9_2182 Subserous leiomyoma of uterus Counter({0: 66974, 1: 7})\n",
      "\n",
      "\n",
      "Counter({0: 57541, 1: 9440})\n",
      "20 ['Diag_9_5990', 'Diag_10_T83518A', 'Diag_10_N760', 'Diag_10_N952', 'Diag_9_99664', 'Diag_10_O8620', 'Diag_10_T83598A', 'Diag_10_T83593A', 'Diag_10_O2342', 'Diag_9_V1302', 'Diag_9_61610', 'Diag_10_T8351XA', 'Diag_10_O2343', 'Diag_10_T8359XA', 'Diag_10_N390', 'Diag_10_Z87440', 'Diag_10_N99521', 'Diag_10_Y846', 'Diag_9_E8796', 'Diag_9_6273']\n",
      "Diag_9_5990 Urinary tract infection, site not specified Counter({0: 62389, 1: 4592})\n",
      " Infection and inflammatory reaction due to other urinary catheter, initial encounter Counter({0: 66947, 1: 34})\n",
      "Diag_10_N760 Acute vaginitis Counter({0: 66965, 1: 16})\n",
      "Diag_10_N952 Postmenopausal atrophic vaginitis Counter({0: 66970, 1: 11})\n",
      "Diag_9_99664 Infection and inflammatory reaction due to indwelling urinary catheter Counter({0: 66793, 1: 188})\n",
      "Diag_10_O8620 Urinary tract infection following delivery, unspecified Counter({0: 66974, 1: 7})\n",
      "Diag_10_T83598A Infection and inflammatory reaction due to other prosthetic device, implant and graft in urinary system, initial encounter Counter({0: 66980, 1: 1})\n",
      "Diag_10_T83593A Infection and inflammatory reaction due to other urinary stents, initial encounter Counter({0: 66977, 1: 4})\n",
      "Diag_10_O2342 Unspecified infection of urinary tract in pregnancy, second trimester Counter({0: 66979, 1: 2})\n",
      "Diag_9_V1302 Personal history, urinary (tract) infection Counter({0: 66703, 1: 278})\n",
      "Diag_9_61610 Vaginitis and vulvovaginitis, unspecified Counter({0: 66952, 1: 29})\n",
      "Diag_10_T8351XA Infection and inflammatory reaction due to indwelling urinary catheter, initial encounter Counter({0: 66927, 1: 54})\n",
      "Diag_10_O2343 Unspecified infection of urinary tract in pregnancy, third trimester Counter({0: 66980, 1: 1})\n",
      "Diag_10_T8359XA Infection and inflammatory reaction due to prosthetic device, implant and graft in urinary system, initial encounter Counter({0: 66979, 1: 2})\n",
      "Diag_10_N390 Urinary tract infection, site not specified Counter({0: 62790, 1: 4191})\n",
      "Diag_10_Z87440 Personal history of urinary (tract) infections Counter({0: 66688, 1: 293})\n",
      "Diag_10_N99521 Infection of incontinent external stoma of urinary tract Counter({0: 66975, 1: 6})\n",
      "Diag_10_Y846 Urinary catheterization as the cause of abnormal reaction of the patient, or of later complication, without mention of misadventure at the time of the procedure Counter({0: 66621, 1: 360})\n",
      "Diag_9_E8796 Urinary catheterization as the cause of abnormal reaction of patient, or of later complication, without mention of misadventure at time of procedure Counter({0: 66706, 1: 275})\n",
      "Diag_9_6273 Postmenopausal atrophic vaginitis Counter({0: 66971, 1: 10})\n",
      "\n",
      "\n"
     ]
    }
   ],
   "source": [
    "all_df_diag['Group_AKI'] = (all_df_diag[existing_AKI] == 1).any(axis=1).astype(int)\n",
    "print(Counter(all_df_diag['Group_AKI']), Counter(all_df_diag['Group_AKI']))\n",
    "print('\\n')\n",
    "\n",
    "all_df_diag['Group_CKD'] = (all_df_diag[existing_CKD] == 1).any(axis=1).astype(int)\n",
    "print(Counter(all_df_diag['Group_CKD']), Counter(all_df_diag['Group_CKD']))\n",
    "print('\\n')\n",
    "\n",
    "all_df_diag['Group_PCOS'] = (all_df_diag[existing_PCOS] == 1).any(axis=1).astype(int)\n",
    "print(Counter(all_df_diag['Group_PCOS']))\n",
    "print(len(existing_PCOS), existing_PCOS)\n",
    "for c in existing_PCOS:\n",
    "    print(c,D_ICD_DIAGNOSES[D_ICD_DIAGNOSES.ICD_CODE==c.split('_')[-1]].ICD_TEXT.values[0],Counter(all_df_diag[c]))\n",
    "print('\\n')\n",
    "\n",
    "all_df_diag['Group_Neoplasm_ovary'] = (all_df_diag[existing_Neoplasm_ovary] == 1).any(axis=1).astype(int)\n",
    "print(Counter(all_df_diag['Group_Neoplasm_ovary']))\n",
    "print(len(existing_Neoplasm_ovary), existing_Neoplasm_ovary)\n",
    "for c in existing_Neoplasm_ovary:\n",
    "    print(c,D_ICD_DIAGNOSES[D_ICD_DIAGNOSES.ICD_CODE==c.split('_')[-1]].ICD_TEXT.values[0],Counter(all_df_diag[c]))\n",
    "print('\\n')\n",
    "\n",
    "all_df_diag['Group_Endometriosis'] = (all_df_diag[existing_Endometriosis] == 1).any(axis=1).astype(int)\n",
    "print(Counter(all_df_diag['Group_Endometriosis']))\n",
    "print(len(existing_Endometriosis), existing_Endometriosis)\n",
    "for c in existing_Endometriosis:\n",
    "    print(c,D_ICD_DIAGNOSES[D_ICD_DIAGNOSES.ICD_CODE==c.split('_')[-1]].ICD_TEXT.values[0],Counter(all_df_diag[c]))\n",
    "print('\\n')\n",
    "\n",
    "all_df_diag['Group_Leiomyoma'] = (all_df_diag[existing_Leiomyoma] == 1).any(axis=1).astype(int)\n",
    "print(Counter(all_df_diag['Group_Leiomyoma']))\n",
    "print(len(existing_Leiomyoma), existing_Leiomyoma)\n",
    "for c in existing_Leiomyoma:\n",
    "    print(c,D_ICD_DIAGNOSES[D_ICD_DIAGNOSES.ICD_CODE==c.split('_')[-1]].ICD_TEXT.values[0],Counter(all_df_diag[c]))\n",
    "print('\\n')\n",
    "\n",
    "all_df_diag['Group_Va_uti'] = (all_df_diag[existing_Va_uti] == 1).any(axis=1).astype(int)\n",
    "print(Counter(all_df_diag['Group_Va_uti']))\n",
    "print(len(existing_Va_uti), existing_Va_uti)\n",
    "for c in existing_Va_uti:\n",
    "    print(c,D_ICD_DIAGNOSES[D_ICD_DIAGNOSES.ICD_CODE==c.split('_')[-1]].ICD_TEXT.values[0],Counter(all_df_diag[c]))\n",
    "print('\\n')"
   ]
  },
  {
   "cell_type": "code",
   "execution_count": 35,
   "id": "799269f6-364d-4609-b48f-f0a74571fcab",
   "metadata": {},
   "outputs": [
    {
     "data": {
      "text/html": [
       "<div>\n",
       "<style scoped>\n",
       "    .dataframe tbody tr th:only-of-type {\n",
       "        vertical-align: middle;\n",
       "    }\n",
       "\n",
       "    .dataframe tbody tr th {\n",
       "        vertical-align: top;\n",
       "    }\n",
       "\n",
       "    .dataframe thead th {\n",
       "        text-align: right;\n",
       "    }\n",
       "</style>\n",
       "<table border=\"1\" class=\"dataframe\">\n",
       "  <thead>\n",
       "    <tr style=\"text-align: right;\">\n",
       "      <th></th>\n",
       "      <th>HADM_ID</th>\n",
       "      <th>Diag_9_1830</th>\n",
       "      <th>Diag_9_1986</th>\n",
       "      <th>Diag_9_2113</th>\n",
       "      <th>Diag_9_2180</th>\n",
       "      <th>Diag_9_2181</th>\n",
       "      <th>Diag_9_2182</th>\n",
       "      <th>Diag_9_2189</th>\n",
       "      <th>Diag_9_220</th>\n",
       "      <th>Diag_9_2362</th>\n",
       "      <th>...</th>\n",
       "      <th>Diag_10_Z9884</th>\n",
       "      <th>Diag_10_Z992</th>\n",
       "      <th>Diag_10_Z9981</th>\n",
       "      <th>Group_AKI</th>\n",
       "      <th>Group_CKD</th>\n",
       "      <th>Group_PCOS</th>\n",
       "      <th>Group_Neoplasm_ovary</th>\n",
       "      <th>Group_Endometriosis</th>\n",
       "      <th>Group_Leiomyoma</th>\n",
       "      <th>Group_Va_uti</th>\n",
       "    </tr>\n",
       "  </thead>\n",
       "  <tbody>\n",
       "    <tr>\n",
       "      <th>0</th>\n",
       "      <td>20000147</td>\n",
       "      <td>0</td>\n",
       "      <td>0</td>\n",
       "      <td>0</td>\n",
       "      <td>0</td>\n",
       "      <td>0</td>\n",
       "      <td>0</td>\n",
       "      <td>0</td>\n",
       "      <td>0</td>\n",
       "      <td>0</td>\n",
       "      <td>...</td>\n",
       "      <td>0</td>\n",
       "      <td>0</td>\n",
       "      <td>0</td>\n",
       "      <td>0</td>\n",
       "      <td>0</td>\n",
       "      <td>0</td>\n",
       "      <td>0</td>\n",
       "      <td>0</td>\n",
       "      <td>0</td>\n",
       "      <td>0</td>\n",
       "    </tr>\n",
       "    <tr>\n",
       "      <th>1</th>\n",
       "      <td>20001305</td>\n",
       "      <td>0</td>\n",
       "      <td>0</td>\n",
       "      <td>0</td>\n",
       "      <td>0</td>\n",
       "      <td>0</td>\n",
       "      <td>0</td>\n",
       "      <td>0</td>\n",
       "      <td>0</td>\n",
       "      <td>0</td>\n",
       "      <td>...</td>\n",
       "      <td>0</td>\n",
       "      <td>0</td>\n",
       "      <td>1</td>\n",
       "      <td>1</td>\n",
       "      <td>0</td>\n",
       "      <td>0</td>\n",
       "      <td>0</td>\n",
       "      <td>0</td>\n",
       "      <td>0</td>\n",
       "      <td>0</td>\n",
       "    </tr>\n",
       "    <tr>\n",
       "      <th>2</th>\n",
       "      <td>20001361</td>\n",
       "      <td>0</td>\n",
       "      <td>0</td>\n",
       "      <td>0</td>\n",
       "      <td>0</td>\n",
       "      <td>0</td>\n",
       "      <td>0</td>\n",
       "      <td>0</td>\n",
       "      <td>0</td>\n",
       "      <td>0</td>\n",
       "      <td>...</td>\n",
       "      <td>0</td>\n",
       "      <td>0</td>\n",
       "      <td>0</td>\n",
       "      <td>1</td>\n",
       "      <td>0</td>\n",
       "      <td>0</td>\n",
       "      <td>0</td>\n",
       "      <td>0</td>\n",
       "      <td>0</td>\n",
       "      <td>0</td>\n",
       "    </tr>\n",
       "    <tr>\n",
       "      <th>3</th>\n",
       "      <td>20001494</td>\n",
       "      <td>0</td>\n",
       "      <td>0</td>\n",
       "      <td>0</td>\n",
       "      <td>0</td>\n",
       "      <td>0</td>\n",
       "      <td>0</td>\n",
       "      <td>0</td>\n",
       "      <td>0</td>\n",
       "      <td>0</td>\n",
       "      <td>...</td>\n",
       "      <td>0</td>\n",
       "      <td>0</td>\n",
       "      <td>0</td>\n",
       "      <td>0</td>\n",
       "      <td>0</td>\n",
       "      <td>0</td>\n",
       "      <td>0</td>\n",
       "      <td>0</td>\n",
       "      <td>0</td>\n",
       "      <td>0</td>\n",
       "    </tr>\n",
       "    <tr>\n",
       "      <th>4</th>\n",
       "      <td>20001770</td>\n",
       "      <td>0</td>\n",
       "      <td>0</td>\n",
       "      <td>0</td>\n",
       "      <td>0</td>\n",
       "      <td>0</td>\n",
       "      <td>0</td>\n",
       "      <td>0</td>\n",
       "      <td>0</td>\n",
       "      <td>0</td>\n",
       "      <td>...</td>\n",
       "      <td>0</td>\n",
       "      <td>0</td>\n",
       "      <td>0</td>\n",
       "      <td>1</td>\n",
       "      <td>0</td>\n",
       "      <td>0</td>\n",
       "      <td>0</td>\n",
       "      <td>0</td>\n",
       "      <td>0</td>\n",
       "      <td>0</td>\n",
       "    </tr>\n",
       "  </tbody>\n",
       "</table>\n",
       "<p>5 rows × 490 columns</p>\n",
       "</div>"
      ],
      "text/plain": [
       "    HADM_ID  Diag_9_1830  Diag_9_1986  Diag_9_2113  Diag_9_2180  Diag_9_2181  \\\n",
       "0  20000147            0            0            0            0            0   \n",
       "1  20001305            0            0            0            0            0   \n",
       "2  20001361            0            0            0            0            0   \n",
       "3  20001494            0            0            0            0            0   \n",
       "4  20001770            0            0            0            0            0   \n",
       "\n",
       "   Diag_9_2182  Diag_9_2189  Diag_9_220  Diag_9_2362  ...  Diag_10_Z9884  \\\n",
       "0            0            0           0            0  ...              0   \n",
       "1            0            0           0            0  ...              0   \n",
       "2            0            0           0            0  ...              0   \n",
       "3            0            0           0            0  ...              0   \n",
       "4            0            0           0            0  ...              0   \n",
       "\n",
       "   Diag_10_Z992  Diag_10_Z9981  Group_AKI  Group_CKD  Group_PCOS  \\\n",
       "0             0              0          0          0           0   \n",
       "1             0              1          1          0           0   \n",
       "2             0              0          1          0           0   \n",
       "3             0              0          0          0           0   \n",
       "4             0              0          1          0           0   \n",
       "\n",
       "   Group_Neoplasm_ovary  Group_Endometriosis  Group_Leiomyoma  Group_Va_uti  \n",
       "0                     0                    0                0             0  \n",
       "1                     0                    0                0             0  \n",
       "2                     0                    0                0             0  \n",
       "3                     0                    0                0             0  \n",
       "4                     0                    0                0             0  \n",
       "\n",
       "[5 rows x 490 columns]"
      ]
     },
     "execution_count": 35,
     "metadata": {},
     "output_type": "execute_result"
    }
   ],
   "source": [
    "all_df_diag.head()"
   ]
  },
  {
   "cell_type": "code",
   "execution_count": 36,
   "id": "4d8c4fb0-6094-4d2d-9754-562185c029bf",
   "metadata": {},
   "outputs": [
    {
     "data": {
      "text/plain": [
       "(66981, 490)"
      ]
     },
     "execution_count": 36,
     "metadata": {},
     "output_type": "execute_result"
    }
   ],
   "source": [
    "all_df_diag.shape"
   ]
  },
  {
   "cell_type": "code",
   "execution_count": 37,
   "id": "f787f2db-e479-488f-9156-4554c7187b54",
   "metadata": {},
   "outputs": [],
   "source": [
    "all_df_diag.to_csv('D:/2025UTI/IV/IV_all_diag.csv',index=False)"
   ]
  },
  {
   "cell_type": "markdown",
   "id": "9a952729-23ca-45e0-b399-d74ce81626bc",
   "metadata": {},
   "source": [
    "### 检查III和IV的诊断信息，并把一样意思的icd合并"
   ]
  },
  {
   "cell_type": "code",
   "execution_count": 38,
   "id": "20200c8c-86b5-4636-9548-d367cb3bba6d",
   "metadata": {},
   "outputs": [],
   "source": [
    "all_df_diag = pd.read_csv('D:/2025UTI/IV/IV_all_diag.csv')"
   ]
  },
  {
   "cell_type": "code",
   "execution_count": 45,
   "id": "fea8e1e0-3e81-4890-bdbc-0785ef59a858",
   "metadata": {},
   "outputs": [
    {
     "data": {
      "text/plain": [
       "90"
      ]
     },
     "execution_count": 45,
     "metadata": {},
     "output_type": "execute_result"
    }
   ],
   "source": [
    "existing_labels = existing_AKI + existing_CKD + existing_PCOS + existing_Neoplasm_ovary + existing_Endometriosis + existing_Leiomyoma + existing_Va_uti\n",
    "len(existing_labels)"
   ]
  },
  {
   "cell_type": "code",
   "execution_count": 46,
   "id": "f0f7e640-2456-468f-af87-2c91a79ad1d0",
   "metadata": {},
   "outputs": [
    {
     "name": "stdout",
     "output_type": "stream",
     "text": [
      "(66981, 490)\n"
     ]
    },
    {
     "data": {
      "text/plain": [
       "(66981, 400)"
      ]
     },
     "execution_count": 46,
     "metadata": {},
     "output_type": "execute_result"
    }
   ],
   "source": [
    "print(all_df_diag.shape)\n",
    "all_df_diag = all_df_diag.drop(columns=existing_labels, errors='ignore')\n",
    "all_df_diag.shape"
   ]
  },
  {
   "cell_type": "code",
   "execution_count": 47,
   "id": "9ae38000-8e7a-4d84-a348-b28fca1ffedd",
   "metadata": {},
   "outputs": [
    {
     "data": {
      "text/plain": [
       "392"
      ]
     },
     "execution_count": 47,
     "metadata": {},
     "output_type": "execute_result"
    }
   ],
   "source": [
    "iv_ids = [i for i in all_df_diag.columns if 'Diag_' in i]\n",
    "len(iv_ids)"
   ]
  },
  {
   "cell_type": "code",
   "execution_count": 48,
   "id": "cc89b972-1bcc-456b-8e56-8b13044836b5",
   "metadata": {},
   "outputs": [
    {
     "data": {
      "text/plain": [
       "392"
      ]
     },
     "execution_count": 48,
     "metadata": {},
     "output_type": "execute_result"
    }
   ],
   "source": [
    "iii_ids = ['Diag_9_2113', 'Diag_9_39891', 'Diag_9_43310', 'Diag_9_5570', 'Diag_9_64891', 'Diag_9_66411', 'Diag_9_6930', 'Diag_9_7464', 'Diag_9_7470', 'Diag_9_86121', 'Diag_9_99702', 'Diag_9_9971', 'Diag_9_9973', 'Diag_9_99731', 'Diag_9_9974', 'Diag_9_9975', 'Diag_10_A04', 'Diag_10_A40', 'Diag_10_B15', 'Diag_10_B20', 'Diag_10_B37', 'Diag_10_B95', 'Diag_10_C22', 'Diag_10_C33', 'Diag_10_C61', 'Diag_10_C78', 'Diag_10_C79', 'Diag_10_C82', 'Diag_10_D50', 'Diag_10_D61', 'Diag_10_D64', 'Diag_10_D66', 'Diag_10_D69', 'Diag_10_D70', 'Diag_10_E11', 'Diag_10_E22', 'Diag_10_E28', 'Diag_10_E43', 'Diag_10_E44', 'Diag_10_E66', 'Diag_10_E78', 'Diag_10_E83', 'Diag_9_E8490', 'Diag_9_E8497', 'Diag_9_E8498', 'Diag_9_E8499', 'Diag_10_E87', 'Diag_9_E8780', 'Diag_9_E8781', 'Diag_9_E8782', 'Diag_9_E8786', 'Diag_9_E8788', 'Diag_9_E8790', 'Diag_9_E8798', 'Diag_9_E8859', 'Diag_10_E89', 'Diag_9_E9320', 'Diag_9_E9331', 'Diag_9_E9342', 'Diag_9_E9478', 'Diag_10_F04', 'Diag_10_F05', 'Diag_10_F10', 'Diag_10_F19', 'Diag_10_F30', 'Diag_10_F32', 'Diag_10_F41', 'Diag_10_F43', 'Diag_10_G20', 'Diag_10_G30', 'Diag_10_G35', 'Diag_10_G40', 'Diag_10_G43', 'Diag_10_G44', 'Diag_10_G47', 'Diag_10_G60', 'Diag_10_G61', 'Diag_10_G81', 'Diag_10_G89', 'Diag_10_G93', 'Diag_10_G97', 'Diag_10_H35', 'Diag_10_H40', 'Diag_10_I07', 'Diag_10_I08', 'Diag_10_I10', 'Diag_10_I12', 'Diag_10_I20', 'Diag_10_I21', 'Diag_10_I24', 'Diag_10_I25', 'Diag_10_I26', 'Diag_10_I27', 'Diag_10_I31', 'Diag_10_I33', 'Diag_10_I34', 'Diag_10_I42', 'Diag_10_I44', 'Diag_10_I47', 'Diag_10_I50', 'Diag_10_I60', 'Diag_10_I61', 'Diag_10_I62', 'Diag_10_I66', 'Diag_10_I67', 'Diag_10_I69', 'Diag_10_I70', 'Diag_10_I71', 'Diag_10_I73', 'Diag_10_I82', 'Diag_10_I85', 'Diag_10_I95', 'Diag_10_J15', 'Diag_10_J18', 'Diag_10_J41', 'Diag_10_J43', 'Diag_10_J44', 'Diag_10_J45', 'Diag_10_J69', 'Diag_10_J84', 'Diag_10_J93', 'Diag_10_J95', 'Diag_10_J98', 'Diag_10_K22', 'Diag_10_K29', 'Diag_10_K31', 'Diag_10_K41', 'Diag_10_K56', 'Diag_10_K57', 'Diag_10_K59', 'Diag_10_K66', 'Diag_10_K70', 'Diag_10_K75', 'Diag_10_K76', 'Diag_10_K80', 'Diag_10_K85', 'Diag_10_K91', 'Diag_10_K92', 'Diag_10_L03', 'Diag_10_L89', 'Diag_10_M06', 'Diag_10_M10', 'Diag_10_M15', 'Diag_10_M32', 'Diag_10_M48', 'Diag_10_M60', 'Diag_10_M79', 'Diag_10_M81', 'Diag_10_N05', 'Diag_10_N13', 'Diag_10_N23', 'Diag_10_N28', 'Diag_10_N39', 'Diag_10_N72', 'Diag_10_N92', 'Diag_10_O75', 'Diag_10_Q20', 'Diag_10_R00', 'Diag_10_R06', 'Diag_10_R09', 'Diag_10_R10', 'Diag_10_R19', 'Diag_10_R45', 'Diag_10_R58', 'Diag_10_R63', 'Diag_10_R68', 'Diag_10_R69', 'Diag_10_R78', 'Diag_10_S01', 'Diag_10_S06', 'Diag_10_S12', 'Diag_10_S27', 'Diag_10_T78', 'Diag_10_T81', 'Diag_10_T82', 'Diag_9_V1251', 'Diag_9_V1254', 'Diag_9_V1255', 'Diag_9_V1259', 'Diag_9_V420', 'Diag_9_V422', 'Diag_9_V433', 'Diag_9_V4365', 'Diag_9_V440', 'Diag_9_V441', 'Diag_9_V462', 'Diag_9_V6284', 'Diag_9_V8741', 'Diag_10_Z00', 'Diag_10_Z16', 'Diag_10_Z21', 'Diag_10_Z23', 'Diag_10_Z51', 'Diag_10_Z80', 'Diag_10_Z81', 'Diag_10_Z85', 'Diag_10_Z87', 'Diag_10_Z91', 'Diag_10_Z95']\n",
    "iv_ids = list(pd.unique(iv_ids+iii_ids))\n",
    "len(iv_ids)"
   ]
  },
  {
   "cell_type": "code",
   "execution_count": 50,
   "id": "b4f82b0c-87ae-43c1-854c-0b2fb2d90d32",
   "metadata": {},
   "outputs": [],
   "source": [
    "# print(iv_ids)"
   ]
  },
  {
   "cell_type": "code",
   "execution_count": 51,
   "id": "534a82d1-0025-4189-9110-7500a73e7dd1",
   "metadata": {},
   "outputs": [],
   "source": [
    "iv_ids_dict = pd.DataFrame()\n",
    "for i in iv_ids:\n",
    "    iv_ids_dict = pd.concat([iv_ids_dict, D_ICD_DIAGNOSES[(D_ICD_DIAGNOSES.ICD_CODE == i.split('_')[-1])&(D_ICD_DIAGNOSES.ICD_VERSION == int(i.split('_')[1]))]])\n",
    "iv_ids_dict = iv_ids_dict.sort_values(by=['ICD_TEXT'])\n",
    "duplicated = iv_ids_dict[iv_ids_dict.duplicated(subset=['ICD_TEXT'],keep=False)]"
   ]
  },
  {
   "cell_type": "code",
   "execution_count": 52,
   "id": "2b4d6e99-ddf9-4a93-ad78-729217ec440f",
   "metadata": {},
   "outputs": [
    {
     "data": {
      "text/html": [
       "<div>\n",
       "<style scoped>\n",
       "    .dataframe tbody tr th:only-of-type {\n",
       "        vertical-align: middle;\n",
       "    }\n",
       "\n",
       "    .dataframe tbody tr th {\n",
       "        vertical-align: top;\n",
       "    }\n",
       "\n",
       "    .dataframe thead th {\n",
       "        text-align: right;\n",
       "    }\n",
       "</style>\n",
       "<table border=\"1\" class=\"dataframe\">\n",
       "  <thead>\n",
       "    <tr style=\"text-align: right;\">\n",
       "      <th></th>\n",
       "      <th>ICD_CODE</th>\n",
       "      <th>ICD_VERSION</th>\n",
       "      <th>ICD_TEXT</th>\n",
       "    </tr>\n",
       "  </thead>\n",
       "  <tbody>\n",
       "    <tr>\n",
       "      <th>111932</th>\n",
       "      <td>Z9221</td>\n",
       "      <td>10</td>\n",
       "      <td>Personal history of antineoplastic chemotherapy</td>\n",
       "    </tr>\n",
       "    <tr>\n",
       "      <th>13394</th>\n",
       "      <td>V8741</td>\n",
       "      <td>9</td>\n",
       "      <td>Personal history of antineoplastic chemotherapy</td>\n",
       "    </tr>\n",
       "    <tr>\n",
       "      <th>111667</th>\n",
       "      <td>Z86711</td>\n",
       "      <td>10</td>\n",
       "      <td>Personal history of pulmonary embolism</td>\n",
       "    </tr>\n",
       "    <tr>\n",
       "      <th>13376</th>\n",
       "      <td>V1255</td>\n",
       "      <td>9</td>\n",
       "      <td>Personal history of pulmonary embolism</td>\n",
       "    </tr>\n",
       "    <tr>\n",
       "      <th>111670</th>\n",
       "      <td>Z8673</td>\n",
       "      <td>10</td>\n",
       "      <td>Personal history of transient ischemic attack ...</td>\n",
       "    </tr>\n",
       "    <tr>\n",
       "      <th>13375</th>\n",
       "      <td>V1254</td>\n",
       "      <td>9</td>\n",
       "      <td>Personal history of transient ischemic attack ...</td>\n",
       "    </tr>\n",
       "    <tr>\n",
       "      <th>26673</th>\n",
       "      <td>J18</td>\n",
       "      <td>10</td>\n",
       "      <td>Pneumonia, unspecified organism</td>\n",
       "    </tr>\n",
       "    <tr>\n",
       "      <th>26678</th>\n",
       "      <td>J189</td>\n",
       "      <td>10</td>\n",
       "      <td>Pneumonia, unspecified organism</td>\n",
       "    </tr>\n",
       "  </tbody>\n",
       "</table>\n",
       "</div>"
      ],
      "text/plain": [
       "       ICD_CODE  ICD_VERSION  \\\n",
       "111932    Z9221           10   \n",
       "13394     V8741            9   \n",
       "111667   Z86711           10   \n",
       "13376     V1255            9   \n",
       "111670    Z8673           10   \n",
       "13375     V1254            9   \n",
       "26673       J18           10   \n",
       "26678      J189           10   \n",
       "\n",
       "                                                 ICD_TEXT  \n",
       "111932    Personal history of antineoplastic chemotherapy  \n",
       "13394     Personal history of antineoplastic chemotherapy  \n",
       "111667             Personal history of pulmonary embolism  \n",
       "13376              Personal history of pulmonary embolism  \n",
       "111670  Personal history of transient ischemic attack ...  \n",
       "13375   Personal history of transient ischemic attack ...  \n",
       "26673                     Pneumonia, unspecified organism  \n",
       "26678                     Pneumonia, unspecified organism  "
      ]
     },
     "execution_count": 52,
     "metadata": {},
     "output_type": "execute_result"
    }
   ],
   "source": [
    "duplicated"
   ]
  },
  {
   "cell_type": "code",
   "execution_count": 53,
   "id": "7df4a09f-1e67-4cca-99c0-a5a8ee840221",
   "metadata": {},
   "outputs": [
    {
     "name": "stdout",
     "output_type": "stream",
     "text": [
      "\n",
      " Personal history of antineoplastic chemotherapy\n",
      "Counter({0: 66455, 1: 526})\n",
      "Counter({0: 66100, 1: 881})\n",
      "Counter({0: 65574, 1: 1407})\n",
      "\n",
      " Personal history of pulmonary embolism\n",
      "Counter({0: 65661, 1: 1320})\n",
      "Counter({0: 66442, 1: 539})\n",
      "Counter({0: 65122, 1: 1859})\n",
      "\n",
      " Personal history of transient ischemic attack (TIA), and cerebral infarction without residual deficits\n",
      "Counter({0: 64356, 1: 2625})\n",
      "Counter({0: 65227, 1: 1754})\n",
      "Counter({0: 62602, 1: 4379})\n",
      "\n",
      " Pneumonia, unspecified organism\n",
      "Counter({0: 63506, 1: 3475})\n",
      "Counter({0: 63672, 1: 3309})\n",
      "Counter({0: 60197, 1: 6784})\n"
     ]
    }
   ],
   "source": [
    "dupi_ids = []\n",
    "for i in pd.unique(duplicated['ICD_TEXT'].values):\n",
    "    print('\\n',i)\n",
    "    \n",
    "    # 找到当前 ICD_TEXT 的所有行\n",
    "    this_rows = duplicated[duplicated['ICD_TEXT'] == i]\n",
    "    \n",
    "    # 构造列名列表：Diag_版本_编码\n",
    "    this_cols = ('Diag_' + this_rows['ICD_VERSION'].astype(str) + '_' + this_rows['ICD_CODE'].astype(str)).tolist()\n",
    "    dupi_ids.extend(this_cols)\n",
    "    \n",
    "    # 过滤出 all_df_diag 中确实存在的列\n",
    "    this_cols_existing = [col for col in this_cols if col in all_df_diag.columns]\n",
    "    \n",
    "    # 打印计数信息\n",
    "    for j in this_cols:\n",
    "        if j in all_df_diag.columns:\n",
    "            print(Counter(all_df_diag[j]))\n",
    "        else:\n",
    "            print(f\"  Column {j} not found in all_df_diag for {i}\")\n",
    "\n",
    "    # 如果没有匹配的列，跳过这一轮\n",
    "    if not this_cols_existing:\n",
    "        print(f\"  No matching columns in all_df_diag for {i}\")\n",
    "        continue\n",
    "\n",
    "    # 聚合新的一列\n",
    "    all_df_diag['Diag_' + i] = all_df_diag[this_cols_existing].eq(1).any(axis=1).astype(int)\n",
    "    \n",
    "    # 打印新列的计数\n",
    "    print(Counter(all_df_diag['Diag_' + i]))\n"
   ]
  },
  {
   "cell_type": "code",
   "execution_count": 54,
   "id": "fffd338f-8a5d-4877-ab84-66b6ccec92c8",
   "metadata": {},
   "outputs": [
    {
     "name": "stdout",
     "output_type": "stream",
     "text": [
      "(66981, 404)\n"
     ]
    },
    {
     "data": {
      "text/plain": [
       "(66981, 396)"
      ]
     },
     "execution_count": 54,
     "metadata": {},
     "output_type": "execute_result"
    }
   ],
   "source": [
    "## 删除重复列\n",
    "print(all_df_diag.shape)\n",
    "all_df_diag = all_df_diag.drop(columns=dupi_ids, errors='ignore')\n",
    "all_df_diag.shape"
   ]
  },
  {
   "cell_type": "code",
   "execution_count": 63,
   "id": "a572cc06-8acb-42d9-88e6-f86826b372a0",
   "metadata": {},
   "outputs": [
    {
     "data": {
      "text/plain": [
       "(66981, 396)"
      ]
     },
     "execution_count": 63,
     "metadata": {},
     "output_type": "execute_result"
    }
   ],
   "source": [
    "all_df_diag.shape"
   ]
  },
  {
   "cell_type": "code",
   "execution_count": 64,
   "id": "bfcd5f69-f6f0-489e-aa23-141b64e776bb",
   "metadata": {},
   "outputs": [],
   "source": [
    "all_df_diag.to_csv('D:/2025UTI/IV/IV_all_diag.csv',index=False)"
   ]
  },
  {
   "cell_type": "code",
   "execution_count": 67,
   "id": "03c1ac12-429a-497c-b859-a515d80b8eb3",
   "metadata": {},
   "outputs": [],
   "source": [
    "all_df_diag = pd.read_csv('D:/2025UTI/IV/IV_all_diag.csv')"
   ]
  },
  {
   "cell_type": "code",
   "execution_count": 68,
   "id": "5af34dbb-6053-48df-b483-c2a44766318a",
   "metadata": {},
   "outputs": [
    {
     "data": {
      "text/plain": [
       "207"
      ]
     },
     "execution_count": 68,
     "metadata": {},
     "output_type": "execute_result"
    }
   ],
   "source": [
    "f_iii = ['HADM_ID', 'Diag_9_2113', 'Diag_9_39891', 'Diag_9_43310', 'Diag_9_5570', 'Diag_9_64891', 'Diag_9_66411', 'Diag_9_6930', 'Diag_9_7464', 'Diag_9_7470', 'Diag_9_86121', 'Diag_9_99702', 'Diag_9_9971', 'Diag_9_9973', 'Diag_9_99731', 'Diag_9_9974', 'Diag_9_9975', 'Diag_10_A04', 'Diag_10_A40', 'Diag_10_B15', 'Diag_10_B20', 'Diag_10_B37', 'Diag_10_B95', 'Diag_10_C22', 'Diag_10_C33', 'Diag_10_C61', 'Diag_10_C78', 'Diag_10_C79', 'Diag_10_C82', 'Diag_10_D50', 'Diag_10_D61', 'Diag_10_D64', 'Diag_10_D66', 'Diag_10_D69', 'Diag_10_D70', 'Diag_10_E11', 'Diag_10_E22', 'Diag_10_E28', 'Diag_10_E43', 'Diag_10_E44', 'Diag_10_E66', 'Diag_10_E78', 'Diag_10_E83', 'Diag_9_E8490', 'Diag_9_E8497', 'Diag_9_E8498', 'Diag_9_E8499', 'Diag_10_E87', 'Diag_9_E8780', 'Diag_9_E8781', 'Diag_9_E8782', 'Diag_9_E8786', 'Diag_9_E8788', 'Diag_9_E8790', 'Diag_9_E8798', 'Diag_9_E8859', 'Diag_10_E89', 'Diag_9_E9320', 'Diag_9_E9331', 'Diag_9_E9342', 'Diag_9_E9478', 'Diag_10_F04', 'Diag_10_F05', 'Diag_10_F10', 'Diag_10_F19', 'Diag_10_F30', 'Diag_10_F32', 'Diag_10_F41', 'Diag_10_F43', 'Diag_10_G20', 'Diag_10_G30', 'Diag_10_G35', 'Diag_10_G40', 'Diag_10_G43', 'Diag_10_G44', 'Diag_10_G47', 'Diag_10_G60', 'Diag_10_G61', 'Diag_10_G81', 'Diag_10_G89', 'Diag_10_G93', 'Diag_10_G97', 'Diag_10_H35', 'Diag_10_H40', 'Diag_10_I07', 'Diag_10_I08', 'Diag_10_I10', 'Diag_10_I12', 'Diag_10_I20', 'Diag_10_I21', 'Diag_10_I24', 'Diag_10_I25', 'Diag_10_I26', 'Diag_10_I27', 'Diag_10_I31', 'Diag_10_I33', 'Diag_10_I34', 'Diag_10_I42', 'Diag_10_I44', 'Diag_10_I47', 'Diag_10_I50', 'Diag_10_I60', 'Diag_10_I61', 'Diag_10_I62', 'Diag_10_I66', 'Diag_10_I67', 'Diag_10_I69', 'Diag_10_I70', 'Diag_10_I71', 'Diag_10_I73', 'Diag_10_I82', 'Diag_10_I85', 'Diag_10_I95', 'Diag_10_J15', 'Diag_10_J41', 'Diag_10_J43', 'Diag_10_J44', 'Diag_10_J45', 'Diag_10_J69', 'Diag_10_J84', 'Diag_10_J93', 'Diag_10_J95', 'Diag_10_J98', 'Diag_10_K22', 'Diag_10_K29', 'Diag_10_K31', 'Diag_10_K41', 'Diag_10_K56', 'Diag_10_K57', 'Diag_10_K59', 'Diag_10_K66', 'Diag_10_K70', 'Diag_10_K75', 'Diag_10_K76', 'Diag_10_K80', 'Diag_10_K85', 'Diag_10_K91', 'Diag_10_K92', 'Diag_10_L03', 'Diag_10_L89', 'Diag_10_M06', 'Diag_10_M10', 'Diag_10_M15', 'Diag_10_M32', 'Diag_10_M48', 'Diag_10_M60', 'Diag_10_M79', 'Diag_10_M81', 'Diag_10_N05', 'Diag_10_N13', 'Diag_10_N23', 'Diag_10_N28', 'Diag_10_N39', 'Diag_10_N72', 'Diag_10_N92', 'Diag_10_O75', 'Diag_10_Q20', 'Diag_10_R00', 'Diag_10_R06', 'Diag_10_R09', 'Diag_10_R10', 'Diag_10_R19', 'Diag_10_R45', 'Diag_10_R58', 'Diag_10_R63', 'Diag_10_R68', 'Diag_10_R69', 'Diag_10_R78', 'Diag_10_S01', 'Diag_10_S06', 'Diag_10_S12', 'Diag_10_S27', 'Diag_10_T78', 'Diag_10_T81', 'Diag_10_T82', 'Diag_9_V1251', 'Diag_9_V1259', 'Diag_9_V420', 'Diag_9_V422', 'Diag_9_V433', 'Diag_9_V4365', 'Diag_9_V440', 'Diag_9_V441', 'Diag_9_V462', 'Diag_9_V6284', 'Diag_10_Z00', 'Diag_10_Z16', 'Diag_10_Z21', 'Diag_10_Z23', 'Diag_10_Z51', 'Diag_10_Z80', 'Diag_10_Z81', 'Diag_10_Z85', 'Diag_10_Z87', 'Diag_10_Z91', 'Diag_10_Z95', 'Group_AKI', 'Group_CKD', 'Group_PCOS', 'Group_Neoplasm_ovary', 'Group_Endometriosis', 'Group_Leiomyoma', 'Group_Va_uti', 'Diag_Personal history of antineoplastic chemotherapy', 'Diag_Personal history of pulmonary embolism', 'Diag_Personal history of transient ischemic attack (TIA), and cerebral infarction without residual deficits', 'Diag_Pneumonia, unspecified organism']\n",
    "len(f_iii)"
   ]
  },
  {
   "cell_type": "code",
   "execution_count": 69,
   "id": "b3c5c39b-83e2-4c94-bba2-b81bf83213c5",
   "metadata": {},
   "outputs": [
    {
     "name": "stdout",
     "output_type": "stream",
     "text": [
      "[]\n"
     ]
    }
   ],
   "source": [
    "print(list(set(f_iii)-set(all_df_diag.columns)))"
   ]
  },
  {
   "cell_type": "code",
   "execution_count": 72,
   "id": "ef5508e6-ff29-42eb-b0ba-d256ac5a1c3c",
   "metadata": {},
   "outputs": [
    {
     "data": {
      "text/html": [
       "<div>\n",
       "<style scoped>\n",
       "    .dataframe tbody tr th:only-of-type {\n",
       "        vertical-align: middle;\n",
       "    }\n",
       "\n",
       "    .dataframe tbody tr th {\n",
       "        vertical-align: top;\n",
       "    }\n",
       "\n",
       "    .dataframe thead th {\n",
       "        text-align: right;\n",
       "    }\n",
       "</style>\n",
       "<table border=\"1\" class=\"dataframe\">\n",
       "  <thead>\n",
       "    <tr style=\"text-align: right;\">\n",
       "      <th></th>\n",
       "      <th>ICD_CODE</th>\n",
       "      <th>ICD_VERSION</th>\n",
       "      <th>ICD_TEXT</th>\n",
       "    </tr>\n",
       "  </thead>\n",
       "  <tbody>\n",
       "    <tr>\n",
       "      <th>13071</th>\n",
       "      <td>B1920</td>\n",
       "      <td>10</td>\n",
       "      <td>Unspecified viral hepatitis C without hepatic ...</td>\n",
       "    </tr>\n",
       "    <tr>\n",
       "      <th>13501</th>\n",
       "      <td>B9620</td>\n",
       "      <td>10</td>\n",
       "      <td>Unspecified Escherichia coli [E. coli] as the ...</td>\n",
       "    </tr>\n",
       "    <tr>\n",
       "      <th>13514</th>\n",
       "      <td>B9689</td>\n",
       "      <td>10</td>\n",
       "      <td>Other specified bacterial agents as the cause ...</td>\n",
       "    </tr>\n",
       "    <tr>\n",
       "      <th>14366</th>\n",
       "      <td>C787</td>\n",
       "      <td>10</td>\n",
       "      <td>Secondary malignant neoplasm of liver and intr...</td>\n",
       "    </tr>\n",
       "    <tr>\n",
       "      <th>14387</th>\n",
       "      <td>C7951</td>\n",
       "      <td>10</td>\n",
       "      <td>Secondary malignant neoplasm of bone</td>\n",
       "    </tr>\n",
       "    <tr>\n",
       "      <th>...</th>\n",
       "      <td>...</td>\n",
       "      <td>...</td>\n",
       "      <td>...</td>\n",
       "    </tr>\n",
       "    <tr>\n",
       "      <th>111985</th>\n",
       "      <td>Z952</td>\n",
       "      <td>10</td>\n",
       "      <td>Presence of prosthetic heart valve</td>\n",
       "    </tr>\n",
       "    <tr>\n",
       "      <th>111988</th>\n",
       "      <td>Z955</td>\n",
       "      <td>10</td>\n",
       "      <td>Presence of coronary angioplasty implant and g...</td>\n",
       "    </tr>\n",
       "    <tr>\n",
       "      <th>112088</th>\n",
       "      <td>Z9884</td>\n",
       "      <td>10</td>\n",
       "      <td>Bariatric surgery status</td>\n",
       "    </tr>\n",
       "    <tr>\n",
       "      <th>112102</th>\n",
       "      <td>Z992</td>\n",
       "      <td>10</td>\n",
       "      <td>Dependence on renal dialysis</td>\n",
       "    </tr>\n",
       "    <tr>\n",
       "      <th>112105</th>\n",
       "      <td>Z9981</td>\n",
       "      <td>10</td>\n",
       "      <td>Dependence on supplemental oxygen</td>\n",
       "    </tr>\n",
       "  </tbody>\n",
       "</table>\n",
       "<p>185 rows × 3 columns</p>\n",
       "</div>"
      ],
      "text/plain": [
       "       ICD_CODE  ICD_VERSION  \\\n",
       "13071     B1920           10   \n",
       "13501     B9620           10   \n",
       "13514     B9689           10   \n",
       "14366      C787           10   \n",
       "14387     C7951           10   \n",
       "...         ...          ...   \n",
       "111985     Z952           10   \n",
       "111988     Z955           10   \n",
       "112088    Z9884           10   \n",
       "112102     Z992           10   \n",
       "112105    Z9981           10   \n",
       "\n",
       "                                                 ICD_TEXT  \n",
       "13071   Unspecified viral hepatitis C without hepatic ...  \n",
       "13501   Unspecified Escherichia coli [E. coli] as the ...  \n",
       "13514   Other specified bacterial agents as the cause ...  \n",
       "14366   Secondary malignant neoplasm of liver and intr...  \n",
       "14387                Secondary malignant neoplasm of bone  \n",
       "...                                                   ...  \n",
       "111985                 Presence of prosthetic heart valve  \n",
       "111988  Presence of coronary angioplasty implant and g...  \n",
       "112088                           Bariatric surgery status  \n",
       "112102                       Dependence on renal dialysis  \n",
       "112105                  Dependence on supplemental oxygen  \n",
       "\n",
       "[185 rows x 3 columns]"
      ]
     },
     "execution_count": 72,
     "metadata": {},
     "output_type": "execute_result"
    }
   ],
   "source": [
    "oii = list(set(all_df_diag.columns)-set(f_iii+['Diag_10_A419','Diag_10_D62','Diag_10_R6521','Diag_10_Z794']))\n",
    "oii_id = [i.split('_')[-1] for i in oii if 'Diag_' in i]\n",
    "D_ICD_DIAGNOSES[D_ICD_DIAGNOSES.ICD_CODE.isin(oii_id)]#.ICD_TEXT.values"
   ]
  },
  {
   "cell_type": "code",
   "execution_count": 73,
   "id": "99038f02-45bc-4fe9-b530-a84dfc73178e",
   "metadata": {},
   "outputs": [
    {
     "name": "stdout",
     "output_type": "stream",
     "text": [
      "['Diag_10_D61818', 'Diag_10_Z950', 'Diag_10_Z7901', 'Diag_10_G43909', 'Diag_10_G629', 'Diag_10_E039', 'Diag_10_I5032', 'Diag_10_I472', 'Diag_10_F32A', 'Diag_10_R627', 'Diag_10_Z87891', 'Diag_10_Z85828', 'Diag_10_K760', 'Diag_10_E860', 'Diag_10_I110', 'Diag_10_Z5111', 'Diag_10_Z86718', 'Diag_10_D696', 'Diag_10_E1151', 'Diag_10_I21A1', 'Diag_10_G8929', 'Diag_10_Z370', 'Diag_10_M069', 'Diag_10_J45909', 'Diag_10_F17200', 'Diag_10_I129', 'Diag_10_M1990', 'Diag_10_E861', 'Diag_10_I4891', 'Diag_10_R45851', 'Diag_10_Y832', 'Diag_10_I340', 'Diag_10_R1310', 'Diag_10_R338', 'Diag_10_R51', 'Diag_10_R079', 'Diag_10_Y848', 'Diag_10_Y929', 'Diag_10_I5023', 'Diag_10_M810', 'Diag_10_H409', 'Diag_10_R339', 'Diag_10_J441', 'Diag_10_Z951', 'Diag_10_G9341', 'Diag_10_R791', 'Diag_10_K7030', 'Diag_10_I509', 'Diag_10_D649', 'Diag_10_K3184', 'Diag_10_Z7902', 'Diag_10_I350', 'Diag_10_I8510', 'Diag_10_I951', 'Diag_10_M549', 'Diag_10_N186', 'Diag_10_E876', 'Diag_10_Z923', 'Diag_10_J690', 'Diag_10_I5022', 'Diag_10_D72829', 'Diag_10_E875', 'Diag_10_R188', 'Diag_10_F1010', 'Diag_10_E1142', 'Diag_10_G4700', 'Diag_10_B9620', 'Diag_10_G4733', 'Diag_10_F4310', 'Diag_10_Z006', 'Diag_10_D631', 'Diag_10_I120', 'Diag_10_E872', 'Diag_10_Z20828', 'Diag_10_E871', 'Diag_10_D689', 'Diag_10_Z9114', 'Diag_10_Z853', 'Diag_10_E1165', 'Diag_10_J9601', 'Diag_10_Z7984', 'Diag_10_Y92009', 'Diag_10_I480', 'Diag_10_K5900', 'Diag_10_Z9181', 'Diag_10_Z66', 'Diag_10_Z7982', 'Diag_10_E7800', 'Diag_10_U071', 'Diag_10_E559', 'Diag_10_F909', 'Diag_10_M8580', 'Diag_10_Z781', 'Diag_10_D6959', 'Diag_10_F10129', 'Diag_10_Z8249', 'Diag_10_J9811', 'Diag_10_F419', 'Diag_10_J90', 'Diag_10_C787', 'Diag_10_M545', 'Diag_10_M797', 'Diag_10_F17210', 'Diag_10_J449', 'Diag_10_G893', 'Diag_10_X58XXXA', 'Diag_10_R42', 'Diag_10_R112', 'Diag_10_E6601', 'Diag_10_R197', 'Diag_10_Z20822', 'Diag_10_D509', 'Diag_10_I130', 'Diag_10_T451X5A', 'Diag_10_D638', 'Diag_10_Z720', 'Diag_10_I4892', 'Diag_10_M109', 'Diag_10_R55', 'Diag_10_Z992', 'Diag_10_C7951', 'Diag_10_Z515', 'Diag_10_Y92230', 'Diag_10_K921', 'Diag_10_I2510', 'Diag_10_E11319', 'Diag_10_E46', 'Diag_10_R110', 'Diag_10_I252', 'Diag_10_E669', 'Diag_10_R109', 'Diag_10_E1122', 'Diag_10_K7469', 'Diag_10_R740', 'Diag_10_F0390', 'Diag_10_Z915', 'Diag_10_Z955', 'Diag_10_G936', 'Diag_10_Z9049', 'Diag_10_G92', 'Diag_10_E1140', 'Diag_10_Z8619', 'Diag_10_I959', 'Diag_10_I739', 'Diag_10_B1920', 'Diag_10_I2720', 'Diag_10_F329', 'Diag_10_Z6841', 'Diag_10_R509', 'Diag_10_Z9884', 'Diag_10_Y92239', 'Diag_10_W19XXXA', 'Diag_10_Z952', 'Diag_10_K7031', 'Diag_10_R0789', 'Diag_10_K449', 'Diag_10_T380X5A', 'Diag_10_D630', 'Diag_10_D684', 'Diag_10_I214', 'Diag_10_I5033', 'Diag_10_Z9981', 'Diag_10_E8770', 'Diag_10_E11649', 'Diag_10_E785', 'Diag_10_R531', 'Diag_10_Z590', 'Diag_10_Z8616', 'Diag_10_E119', 'Diag_10_B9689', 'Diag_10_R001', 'Diag_10_E440', 'Diag_10_I132', 'Diag_10_G40909', 'Diag_10_Y838', 'Diag_10_Z1159', 'Diag_10_I471', 'Diag_10_Z681', 'Diag_10_R000', 'Diag_10_I255', 'Diag_10_K219', 'Diag_10_K766', 'Diag_10_E870', 'Diag_10_F319', 'Diag_10_R0902']\n"
     ]
    }
   ],
   "source": [
    "print(oii)"
   ]
  },
  {
   "cell_type": "code",
   "execution_count": 74,
   "id": "ae2ce49d-865b-4139-bd56-072ee27d323b",
   "metadata": {},
   "outputs": [
    {
     "name": "stdout",
     "output_type": "stream",
     "text": [
      "(66981, 396)\n"
     ]
    },
    {
     "data": {
      "text/plain": [
       "(66981, 211)"
      ]
     },
     "execution_count": 74,
     "metadata": {},
     "output_type": "execute_result"
    }
   ],
   "source": [
    "## 对齐MIMIC III， 删除III没有的列\n",
    "print(all_df_diag.shape)\n",
    "all_df_diag = all_df_diag.drop(columns=oii, errors='ignore')\n",
    "all_df_diag.shape"
   ]
  },
  {
   "cell_type": "code",
   "execution_count": 75,
   "id": "cdf11ad5-025d-4fa7-8052-629d12390fd2",
   "metadata": {},
   "outputs": [
    {
     "data": {
      "text/html": [
       "<div>\n",
       "<style scoped>\n",
       "    .dataframe tbody tr th:only-of-type {\n",
       "        vertical-align: middle;\n",
       "    }\n",
       "\n",
       "    .dataframe tbody tr th {\n",
       "        vertical-align: top;\n",
       "    }\n",
       "\n",
       "    .dataframe thead th {\n",
       "        text-align: right;\n",
       "    }\n",
       "</style>\n",
       "<table border=\"1\" class=\"dataframe\">\n",
       "  <thead>\n",
       "    <tr style=\"text-align: right;\">\n",
       "      <th></th>\n",
       "      <th>ICD_CODE</th>\n",
       "      <th>ICD_VERSION</th>\n",
       "      <th>ICD_TEXT</th>\n",
       "    </tr>\n",
       "  </thead>\n",
       "  <tbody>\n",
       "  </tbody>\n",
       "</table>\n",
       "</div>"
      ],
      "text/plain": [
       "Empty DataFrame\n",
       "Columns: [ICD_CODE, ICD_VERSION, ICD_TEXT]\n",
       "Index: []"
      ]
     },
     "execution_count": 75,
     "metadata": {},
     "output_type": "execute_result"
    }
   ],
   "source": [
    "oii = list(set(all_df_diag.columns)-set(f_iii+['Diag_10_A419','Diag_10_D62','Diag_10_R6521','Diag_10_Z794']))\n",
    "oii_id = [i.split('_')[-1] for i in oii if 'Diag_' in i]\n",
    "D_ICD_DIAGNOSES[D_ICD_DIAGNOSES.ICD_CODE.isin(oii_id)]#.ICD_TEXT.values"
   ]
  },
  {
   "cell_type": "code",
   "execution_count": 76,
   "id": "5b81d4e7-f0c3-477a-a533-76255499e0f7",
   "metadata": {},
   "outputs": [],
   "source": [
    "all_df_diag.to_csv('D:/2025UTI/IV/IV_all_diag_matchIII.csv',index=False)"
   ]
  },
  {
   "cell_type": "code",
   "execution_count": 77,
   "id": "ce7d5ed8-9092-443c-b052-ffb9bd97a088",
   "metadata": {},
   "outputs": [
    {
     "name": "stdout",
     "output_type": "stream",
     "text": [
      "['HADM_ID', 'Diag_9_2113', 'Diag_9_39891', 'Diag_9_43310', 'Diag_9_5570', 'Diag_9_64891', 'Diag_9_66411', 'Diag_9_6930', 'Diag_9_7464', 'Diag_9_7470', 'Diag_9_86121', 'Diag_9_99702', 'Diag_9_9971', 'Diag_9_9973', 'Diag_9_99731', 'Diag_9_9974', 'Diag_9_9975', 'Diag_10_A04', 'Diag_10_A40', 'Diag_10_A419', 'Diag_10_B15', 'Diag_10_B20', 'Diag_10_B37', 'Diag_10_B95', 'Diag_10_C22', 'Diag_10_C33', 'Diag_10_C61', 'Diag_10_C78', 'Diag_10_C79', 'Diag_10_C82', 'Diag_10_D50', 'Diag_10_D61', 'Diag_10_D62', 'Diag_10_D64', 'Diag_10_D66', 'Diag_10_D69', 'Diag_10_D70', 'Diag_10_E11', 'Diag_10_E22', 'Diag_10_E28', 'Diag_10_E43', 'Diag_10_E44', 'Diag_10_E66', 'Diag_10_E78', 'Diag_10_E83', 'Diag_9_E8490', 'Diag_9_E8497', 'Diag_9_E8498', 'Diag_9_E8499', 'Diag_10_E87', 'Diag_9_E8780', 'Diag_9_E8781', 'Diag_9_E8782', 'Diag_9_E8786', 'Diag_9_E8788', 'Diag_9_E8790', 'Diag_9_E8798', 'Diag_9_E8859', 'Diag_10_E89', 'Diag_9_E9320', 'Diag_9_E9331', 'Diag_9_E9342', 'Diag_9_E9478', 'Diag_10_F04', 'Diag_10_F05', 'Diag_10_F10', 'Diag_10_F19', 'Diag_10_F30', 'Diag_10_F32', 'Diag_10_F41', 'Diag_10_F43', 'Diag_10_G20', 'Diag_10_G30', 'Diag_10_G35', 'Diag_10_G40', 'Diag_10_G43', 'Diag_10_G44', 'Diag_10_G47', 'Diag_10_G60', 'Diag_10_G61', 'Diag_10_G81', 'Diag_10_G89', 'Diag_10_G93', 'Diag_10_G97', 'Diag_10_H35', 'Diag_10_H40', 'Diag_10_I07', 'Diag_10_I08', 'Diag_10_I10', 'Diag_10_I12', 'Diag_10_I20', 'Diag_10_I21', 'Diag_10_I24', 'Diag_10_I25', 'Diag_10_I26', 'Diag_10_I27', 'Diag_10_I31', 'Diag_10_I33', 'Diag_10_I34', 'Diag_10_I42', 'Diag_10_I44', 'Diag_10_I47', 'Diag_10_I50', 'Diag_10_I60', 'Diag_10_I61', 'Diag_10_I62', 'Diag_10_I66', 'Diag_10_I67', 'Diag_10_I69', 'Diag_10_I70', 'Diag_10_I71', 'Diag_10_I73', 'Diag_10_I82', 'Diag_10_I85', 'Diag_10_I95', 'Diag_10_J15', 'Diag_10_J41', 'Diag_10_J43', 'Diag_10_J44', 'Diag_10_J45', 'Diag_10_J69', 'Diag_10_J84', 'Diag_10_J93', 'Diag_10_J95', 'Diag_10_J98', 'Diag_10_K22', 'Diag_10_K29', 'Diag_10_K31', 'Diag_10_K41', 'Diag_10_K56', 'Diag_10_K57', 'Diag_10_K59', 'Diag_10_K66', 'Diag_10_K70', 'Diag_10_K75', 'Diag_10_K76', 'Diag_10_K80', 'Diag_10_K85', 'Diag_10_K91', 'Diag_10_K92', 'Diag_10_L03', 'Diag_10_L89', 'Diag_10_M06', 'Diag_10_M10', 'Diag_10_M15', 'Diag_10_M32', 'Diag_10_M48', 'Diag_10_M60', 'Diag_10_M79', 'Diag_10_M81', 'Diag_10_N05', 'Diag_10_N13', 'Diag_10_N23', 'Diag_10_N28', 'Diag_10_N39', 'Diag_10_N72', 'Diag_10_N92', 'Diag_10_O75', 'Diag_10_Q20', 'Diag_10_R00', 'Diag_10_R06', 'Diag_10_R09', 'Diag_10_R10', 'Diag_10_R19', 'Diag_10_R45', 'Diag_10_R58', 'Diag_10_R63', 'Diag_10_R6521', 'Diag_10_R68', 'Diag_10_R69', 'Diag_10_R78', 'Diag_10_S01', 'Diag_10_S06', 'Diag_10_S12', 'Diag_10_S27', 'Diag_10_T78', 'Diag_10_T81', 'Diag_10_T82', 'Diag_9_V1251', 'Diag_9_V1259', 'Diag_9_V420', 'Diag_9_V422', 'Diag_9_V433', 'Diag_9_V4365', 'Diag_9_V440', 'Diag_9_V441', 'Diag_9_V462', 'Diag_9_V6284', 'Diag_10_Z00', 'Diag_10_Z16', 'Diag_10_Z21', 'Diag_10_Z23', 'Diag_10_Z51', 'Diag_10_Z794', 'Diag_10_Z80', 'Diag_10_Z81', 'Diag_10_Z85', 'Diag_10_Z87', 'Diag_10_Z91', 'Diag_10_Z95', 'Group_AKI', 'Group_CKD', 'Group_PCOS', 'Group_Neoplasm_ovary', 'Group_Endometriosis', 'Group_Leiomyoma', 'Group_Va_uti', 'Diag_Personal history of antineoplastic chemotherapy', 'Diag_Personal history of pulmonary embolism', 'Diag_Personal history of transient ischemic attack (TIA), and cerebral infarction without residual deficits', 'Diag_Pneumonia, unspecified organism']\n"
     ]
    }
   ],
   "source": [
    "print(all_df_diag.columns.tolist())"
   ]
  },
  {
   "cell_type": "markdown",
   "id": "24309219-abae-4682-be91-d21b643e911c",
   "metadata": {
    "jp-MarkdownHeadingCollapsed": true
   },
   "source": [
    "# Procedure"
   ]
  },
  {
   "cell_type": "code",
   "execution_count": 78,
   "id": "7405caf8-7a17-4b12-8bb4-d40138615162",
   "metadata": {},
   "outputs": [
    {
     "name": "stdout",
     "output_type": "stream",
     "text": [
      "------------------------------------------------------------------------\n",
      "Final Data： (67225, 27) SUBJECT_ID: 53715 HADM_ID: 67225 ICUSTAY_ID: 67225\n",
      "DIEINHOSPITAL: Counter({0: 59635, 1: 7590})\n",
      "DIEINICU: Counter({0: 62220, 1: 5005})\n",
      "Readmission_30: Counter({0: 64796, 1: 2429})\n",
      "Readmission_60: Counter({0: 62993, 1: 4232})\n",
      "ICU_within_12hr_of_admit: Counter({1: 47012, 0: 20213})\n",
      "Multiple_ICUs: Counter({0: 61177, 1: 6048})\n"
     ]
    }
   ],
   "source": [
    "df = pd.read_csv('D:/2025UTI/IV/MIMIC4_p.csv')\n",
    "print('------------------------------------------------------------------------')\n",
    "print('Final Data：',df.shape, 'SUBJECT_ID:',len(df.SUBJECT_ID.unique()),'HADM_ID:',len(df.HADM_ID.unique()), 'ICUSTAY_ID:',len(df.ICUSTAY_ID.unique()))\n",
    "print('DIEINHOSPITAL:',Counter(df['DIEINHOSPITAL']))\n",
    "print('DIEINICU:',Counter(df['DIEINICU']))\n",
    "print('Readmission_30:',Counter(df['Readmission_30']))\n",
    "print('Readmission_60:',Counter(df['Readmission_60']))\n",
    "print('ICU_within_12hr_of_admit:',Counter(df['ICU_within_12hr_of_admit']))\n",
    "print('Multiple_ICUs:',Counter(df['Multiple_ICUs']))"
   ]
  },
  {
   "cell_type": "code",
   "execution_count": 152,
   "id": "0ee9e77c-7044-46a4-8620-929d4aa3712a",
   "metadata": {},
   "outputs": [
    {
     "name": "stdout",
     "output_type": "stream",
     "text": [
      "10    82534\n",
      "9      3887\n",
      "Name: ICD_VERSION, dtype: int64\n"
     ]
    },
    {
     "data": {
      "text/html": [
       "<div>\n",
       "<style scoped>\n",
       "    .dataframe tbody tr th:only-of-type {\n",
       "        vertical-align: middle;\n",
       "    }\n",
       "\n",
       "    .dataframe tbody tr th {\n",
       "        vertical-align: top;\n",
       "    }\n",
       "\n",
       "    .dataframe thead th {\n",
       "        text-align: right;\n",
       "    }\n",
       "</style>\n",
       "<table border=\"1\" class=\"dataframe\">\n",
       "  <thead>\n",
       "    <tr style=\"text-align: right;\">\n",
       "      <th></th>\n",
       "      <th>ICD_CODE</th>\n",
       "      <th>ICD_VERSION</th>\n",
       "      <th>ICD_TEXT</th>\n",
       "    </tr>\n",
       "  </thead>\n",
       "  <tbody>\n",
       "    <tr>\n",
       "      <th>39513</th>\n",
       "      <td>0HPU8KZ</td>\n",
       "      <td>10</td>\n",
       "      <td>Removal of Nonautologous Tissue Substitute fro...</td>\n",
       "    </tr>\n",
       "    <tr>\n",
       "      <th>53718</th>\n",
       "      <td>0QW247Z</td>\n",
       "      <td>10</td>\n",
       "      <td>Revision of Autologous Tissue Substitute in Ri...</td>\n",
       "    </tr>\n",
       "  </tbody>\n",
       "</table>\n",
       "</div>"
      ],
      "text/plain": [
       "      ICD_CODE  ICD_VERSION                                           ICD_TEXT\n",
       "39513  0HPU8KZ           10  Removal of Nonautologous Tissue Substitute fro...\n",
       "53718  0QW247Z           10  Revision of Autologous Tissue Substitute in Ri..."
      ]
     },
     "execution_count": 152,
     "metadata": {},
     "output_type": "execute_result"
    }
   ],
   "source": [
    "d_iii_icd_procedures = pd.read_csv('D:/mimic-iii-clinical-database-1.4/mimic-iii-clinical-database-1.4/d_icd_procedures.csv.gz')\n",
    "d_iii_icd_procedures = d_iii_icd_procedures.rename(columns={'ICD9_CODE':'ICD_CODE'})\n",
    "d_iii_icd_procedures = d_iii_icd_procedures.rename(columns={'LONG_TITLE':'ICD_TEXT'})\n",
    "d_iii_icd_procedures['ICD_VERSION'] = 9\n",
    "d_iii_icd_procedures = d_iii_icd_procedures[['ICD_CODE', 'ICD_VERSION', 'ICD_TEXT']]\n",
    "d_iii_icd_procedures['ICD_CODE'] = d_iii_icd_procedures['ICD_CODE'].astype(str)\n",
    "\n",
    "d_iv_icd_procedures = pd.read_csv('D:/mimic-iv-3.1/mimiciv/3.1/hosp/d_icd_procedures.csv.gz')\n",
    "d_iv_icd_procedures.columns = ['ICD_CODE', 'ICD_VERSION', 'ICD_TEXT']\n",
    "d_iv_icd_procedures['ICD_CODE'] = d_iv_icd_procedures['ICD_CODE'].astype(str)\n",
    "\n",
    "d_icd_procedures = pd.concat([d_iii_icd_procedures,d_iv_icd_procedures])\n",
    "d_icd_procedures = d_icd_procedures.drop_duplicates(keep='first')\n",
    "\n",
    "# 重复的text对应的ID\n",
    "dd = d_icd_procedures[d_icd_procedures.duplicated(subset=['ICD_TEXT'],keep=False)].sort_values(by='ICD_TEXT')\n",
    "dd = (\n",
    "    dd.groupby('ICD_TEXT')\n",
    "    .agg(\n",
    "        final_ICD_CODE=('ICD_CODE', lambda x: max(x, key=len)),  # 取字符最长的ICD_CODE\n",
    "        all_ICD_CODEs=('ICD_CODE', lambda x: list(x))            # 收集所有ICD_CODE\n",
    "    )\n",
    "    .reset_index()\n",
    ")\n",
    "#删除重复id，保留最长的id\n",
    "d_icd_procedures = (\n",
    "    d_icd_procedures.assign(code_len=d_icd_procedures['ICD_CODE'].str.len())\n",
    "    .sort_values('code_len', ascending=False)\n",
    "    .drop_duplicates(subset=['ICD_TEXT'], keep='first')\n",
    "    .drop(columns='code_len')\n",
    ")\n",
    "\n",
    "p_map = {\n",
    "    code: final \n",
    "    for final, codes in zip(dd['final_ICD_CODE'], dd['all_ICD_CODEs']) \n",
    "    for code in codes if code!=final\n",
    "}\n",
    "\n",
    "print(d_icd_procedures.ICD_VERSION.value_counts())\n",
    "d_icd_procedures.head(2)"
   ]
  },
  {
   "cell_type": "code",
   "execution_count": 155,
   "id": "10835772-adea-4a19-9fc0-ac20e603c4d9",
   "metadata": {},
   "outputs": [
    {
     "name": "stdout",
     "output_type": "stream",
     "text": [
      "(86421, 3) 86415\n"
     ]
    },
    {
     "data": {
      "text/html": [
       "<div>\n",
       "<style scoped>\n",
       "    .dataframe tbody tr th:only-of-type {\n",
       "        vertical-align: middle;\n",
       "    }\n",
       "\n",
       "    .dataframe tbody tr th {\n",
       "        vertical-align: top;\n",
       "    }\n",
       "\n",
       "    .dataframe thead th {\n",
       "        text-align: right;\n",
       "    }\n",
       "</style>\n",
       "<table border=\"1\" class=\"dataframe\">\n",
       "  <thead>\n",
       "    <tr style=\"text-align: right;\">\n",
       "      <th></th>\n",
       "      <th>ICD_CODE</th>\n",
       "      <th>ICD_VERSION</th>\n",
       "      <th>ICD_TEXT</th>\n",
       "    </tr>\n",
       "  </thead>\n",
       "  <tbody>\n",
       "    <tr>\n",
       "      <th>25243</th>\n",
       "      <td>093</td>\n",
       "      <td>9</td>\n",
       "      <td>Other operations on lacrimal gland</td>\n",
       "    </tr>\n",
       "    <tr>\n",
       "      <th>25244</th>\n",
       "      <td>093</td>\n",
       "      <td>10</td>\n",
       "      <td>Ear, Nose, Sinus, Control</td>\n",
       "    </tr>\n",
       "    <tr>\n",
       "      <th>25152</th>\n",
       "      <td>090</td>\n",
       "      <td>9</td>\n",
       "      <td>Incision of lacrimal gland</td>\n",
       "    </tr>\n",
       "    <tr>\n",
       "      <th>25153</th>\n",
       "      <td>090</td>\n",
       "      <td>10</td>\n",
       "      <td>Ear, Nose, Sinus, Alteration</td>\n",
       "    </tr>\n",
       "    <tr>\n",
       "      <th>6422</th>\n",
       "      <td>031</td>\n",
       "      <td>9</td>\n",
       "      <td>Division of intraspinal nerve root</td>\n",
       "    </tr>\n",
       "    <tr>\n",
       "      <th>6423</th>\n",
       "      <td>031</td>\n",
       "      <td>10</td>\n",
       "      <td>Upper Arteries, Bypass</td>\n",
       "    </tr>\n",
       "    <tr>\n",
       "      <th>12755</th>\n",
       "      <td>045</td>\n",
       "      <td>10</td>\n",
       "      <td>Lower Arteries, Destruction</td>\n",
       "    </tr>\n",
       "    <tr>\n",
       "      <th>12754</th>\n",
       "      <td>045</td>\n",
       "      <td>9</td>\n",
       "      <td>Cranial or peripheral nerve graft</td>\n",
       "    </tr>\n",
       "    <tr>\n",
       "      <th>20192</th>\n",
       "      <td>067</td>\n",
       "      <td>10</td>\n",
       "      <td>Lower Veins, Dilation</td>\n",
       "    </tr>\n",
       "    <tr>\n",
       "      <th>20191</th>\n",
       "      <td>067</td>\n",
       "      <td>9</td>\n",
       "      <td>Excision of thyroglossal duct or tract</td>\n",
       "    </tr>\n",
       "    <tr>\n",
       "      <th>17783</th>\n",
       "      <td>059</td>\n",
       "      <td>9</td>\n",
       "      <td>Other operations on nervous system</td>\n",
       "    </tr>\n",
       "    <tr>\n",
       "      <th>17784</th>\n",
       "      <td>059</td>\n",
       "      <td>10</td>\n",
       "      <td>Upper Veins, Drainage</td>\n",
       "    </tr>\n",
       "  </tbody>\n",
       "</table>\n",
       "</div>"
      ],
      "text/plain": [
       "      ICD_CODE  ICD_VERSION                                ICD_TEXT\n",
       "25243      093            9      Other operations on lacrimal gland\n",
       "25244      093           10               Ear, Nose, Sinus, Control\n",
       "25152      090            9              Incision of lacrimal gland\n",
       "25153      090           10            Ear, Nose, Sinus, Alteration\n",
       "6422       031            9      Division of intraspinal nerve root\n",
       "6423       031           10                  Upper Arteries, Bypass\n",
       "12755      045           10             Lower Arteries, Destruction\n",
       "12754      045            9       Cranial or peripheral nerve graft\n",
       "20192      067           10                   Lower Veins, Dilation\n",
       "20191      067            9  Excision of thyroglossal duct or tract\n",
       "17783      059            9      Other operations on nervous system\n",
       "17784      059           10                   Upper Veins, Drainage"
      ]
     },
     "execution_count": 155,
     "metadata": {},
     "output_type": "execute_result"
    }
   ],
   "source": [
    "# pro的icd9和10也有重复的\n",
    "print(d_icd_procedures.shape,len(d_icd_procedures.ICD_CODE.unique()))\n",
    "d_icd_procedures[d_icd_procedures.duplicated('ICD_CODE',keep=False)]#.ICD_TEXT.values"
   ]
  },
  {
   "cell_type": "code",
   "execution_count": 156,
   "id": "f0ff7738-c680-4ea7-99bb-4fd246f2bc71",
   "metadata": {},
   "outputs": [
    {
     "name": "stdout",
     "output_type": "stream",
     "text": [
      "IV_p_raw (816489, 3) 287504\n"
     ]
    }
   ],
   "source": [
    "p_raw = pd.read_csv('D:/mimic-iv-3.1/mimiciv/3.1/hosp/procedures_icd.csv.gz')\n",
    "p_raw.columns = p_raw.columns.str.upper()\n",
    "p_raw = p_raw[['SUBJECT_ID', 'HADM_ID','ICD_CODE']]\n",
    "p_raw['ICD_CODE'] = p_raw['ICD_CODE'].astype(str)\n",
    "p_raw['ICD_CODE'] = p_raw['ICD_CODE'].replace(p_map)\n",
    "p_raw = p_raw.drop_duplicates(keep='first')\n",
    "print('IV_p_raw',p_raw.shape,len(p_raw.HADM_ID.unique()))"
   ]
  },
  {
   "cell_type": "code",
   "execution_count": 157,
   "id": "7e451192-66b5-4c0e-a056-13d56e6eb808",
   "metadata": {},
   "outputs": [
    {
     "data": {
      "text/html": [
       "<div>\n",
       "<style scoped>\n",
       "    .dataframe tbody tr th:only-of-type {\n",
       "        vertical-align: middle;\n",
       "    }\n",
       "\n",
       "    .dataframe tbody tr th {\n",
       "        vertical-align: top;\n",
       "    }\n",
       "\n",
       "    .dataframe thead th {\n",
       "        text-align: right;\n",
       "    }\n",
       "</style>\n",
       "<table border=\"1\" class=\"dataframe\">\n",
       "  <thead>\n",
       "    <tr style=\"text-align: right;\">\n",
       "      <th></th>\n",
       "      <th>SUBJECT_ID</th>\n",
       "      <th>HADM_ID</th>\n",
       "      <th>ICD_CODE</th>\n",
       "    </tr>\n",
       "  </thead>\n",
       "  <tbody>\n",
       "    <tr>\n",
       "      <th>0</th>\n",
       "      <td>10000032</td>\n",
       "      <td>22595853</td>\n",
       "      <td>5491</td>\n",
       "    </tr>\n",
       "    <tr>\n",
       "      <th>1</th>\n",
       "      <td>10000032</td>\n",
       "      <td>22841357</td>\n",
       "      <td>5491</td>\n",
       "    </tr>\n",
       "  </tbody>\n",
       "</table>\n",
       "</div>"
      ],
      "text/plain": [
       "   SUBJECT_ID   HADM_ID ICD_CODE\n",
       "0    10000032  22595853     5491\n",
       "1    10000032  22841357     5491"
      ]
     },
     "execution_count": 157,
     "metadata": {},
     "output_type": "execute_result"
    }
   ],
   "source": [
    "p_raw.head(2)"
   ]
  },
  {
   "cell_type": "code",
   "execution_count": 158,
   "id": "8abe6622-71c8-4d04-a27e-8bf56613ca74",
   "metadata": {},
   "outputs": [
    {
     "name": "stdout",
     "output_type": "stream",
     "text": [
      "71\n"
     ]
    }
   ],
   "source": [
    "## 按照'ICD_VERSION', 'ICD_CODE'来统计\n",
    "#tt = p_raw.value_counts(subset=['ICD_VERSION', 'ICD_CODE'])\n",
    "# most_p = list(tt[tt>2000].index)\n",
    "# most_p_ids = [item[1] for item in most_p]\n",
    "# print(len(most_p),len(most_p_ids),len(pd.unique(most_p_ids)))\n",
    "\n",
    "# 只按照ICD_CODE来统计\n",
    "tt = p_raw.ICD_CODE.value_counts()\n",
    "most_p_ids = list(tt[tt>2000].index)\n",
    "print(len(most_p_ids))"
   ]
  },
  {
   "cell_type": "code",
   "execution_count": 159,
   "id": "1b6a8b55-3832-4c02-82d5-7b2122f3b2fa",
   "metadata": {},
   "outputs": [
    {
     "data": {
      "text/plain": [
       "73"
      ]
     },
     "execution_count": 159,
     "metadata": {},
     "output_type": "execute_result"
    }
   ],
   "source": [
    "iii_p = ['3893', '9604', '966', '9671', '9904', '3961', '9672', '9955', '8856', '3891', '3615', '9915', '8872', '3722', '3995', '9390', '3324', '3723', '4513', '9983', '640', '8853', '0331', '9907', '3612', '311', '9920', '3491', '3404', '0040', '4311', '3895', '3613', '3897', '5491', '3521', '8841', '0066', '9905', '3606', '3607', '8964', '3601', '3322', '3323', '3761', '3611', '0045', '0017', '8855', '9962', '4523', '387', '8842', '0014', '8659', '3950', '5459', '9910', '8847', '0159', '9960', '4443', '4516', '9605', '8848', '3721', '9607', '8622', '8852', '3845', '3522', '9925']\n",
    "len(iii_p)"
   ]
  },
  {
   "cell_type": "code",
   "execution_count": 160,
   "id": "26f4dbd8-dd56-4ff9-8d98-81eac16b42fe",
   "metadata": {},
   "outputs": [
    {
     "data": {
      "text/plain": [
       "124"
      ]
     },
     "execution_count": 160,
     "metadata": {},
     "output_type": "execute_result"
    }
   ],
   "source": [
    "#included Procedures id\n",
    "icds = [9604, 3722, 3723, 225966, 8856, 224270, 3995, 224385, 3615, 225402, 4513, 8872, 9390, 9904, 3891, 3893, 225401, 3897, 9915, 224264, 966, 9671, 9672, 221217, 3961, 221214, 225792, 225454, 225752, 227194, 3324]\n",
    "icds = [str(i) for i in icds]\n",
    "icds = list(pd.unique(icds + most_p_ids+iii_p))\n",
    "len(icds)"
   ]
  },
  {
   "cell_type": "code",
   "execution_count": 161,
   "id": "cf7ce527-1665-409e-9e48-5ac76d1cb3fc",
   "metadata": {},
   "outputs": [
    {
     "data": {
      "text/plain": [
       "111"
      ]
     },
     "execution_count": 161,
     "metadata": {},
     "output_type": "execute_result"
    }
   ],
   "source": [
    "icds = list(d_icd_procedures[d_icd_procedures.ICD_CODE.isin(icds)].ICD_CODE.values)\n",
    "len(icds)"
   ]
  },
  {
   "cell_type": "code",
   "execution_count": 162,
   "id": "fe139dff-05e2-4633-9d81-5ab5adba4eaf",
   "metadata": {},
   "outputs": [
    {
     "name": "stdout",
     "output_type": "stream",
     "text": [
      "['0KQM0ZZ', 'B24BZZ4', 'B211YZZ', 'B2111ZZ', '5A1221Z', '5A1935Z', '5A1D70Z', '5A1955Z', '5A1945Z', '10E0XZZ', '3E0G76Z', '4A023N7', '3E04305', '3E0436Z', '10D00Z1', '10907ZC', '0W9G3ZX', '0W9G3ZZ', '0W9930Z', '02100Z9', '02H633Z', '009U3ZX', '03HY32Z', '02HV33Z', '0DJD8ZZ', '0DJ08ZZ', '0BH17EZ', '8162', '8952', '8964', '7359', '8872', '7309', '8842', '8847', '8848', '8852', '8853', '8855', '8856', '8841', '8938', '5491', '5459', '3324', '3323', '3322', '3491', '3404', '5185', '3522', '3521', '7569', '4513', '4516', '4443', '3995', '4523', '3761', '4311', '3891', '3893', '3895', '3897', '3722', '3723', '3845', '0159', '3961', '3899', '3950', '0040', '0017', '0045', '9960', '0014', '9962', '0066', '0741', '3611', '3607', '3612', '3613', '3615', '3606', '3721', '0331', '9983', '9390', '8622', '8744', '8659', '8051', '9920', '9925', '9904', '9905', '9915', '9907', '9910', '9955', '9607', '9671', '9672', '9605', '9604', '387', '311', '966', '734', '640']\n"
     ]
    }
   ],
   "source": [
    "print(icds)"
   ]
  },
  {
   "cell_type": "code",
   "execution_count": 163,
   "id": "0e49fd9c-17ba-4fc2-861b-7917f86daf3b",
   "metadata": {},
   "outputs": [
    {
     "name": "stdout",
     "output_type": "stream",
     "text": [
      "p_raw_result (170224, 112) 170224\n",
      "p_raw_result (47420, 112) 47420\n",
      "67225 67225) \n",
      "(47420, 113) 47420 47420\n"
     ]
    },
    {
     "data": {
      "text/html": [
       "<div>\n",
       "<style scoped>\n",
       "    .dataframe tbody tr th:only-of-type {\n",
       "        vertical-align: middle;\n",
       "    }\n",
       "\n",
       "    .dataframe tbody tr th {\n",
       "        vertical-align: top;\n",
       "    }\n",
       "\n",
       "    .dataframe thead th {\n",
       "        text-align: right;\n",
       "    }\n",
       "</style>\n",
       "<table border=\"1\" class=\"dataframe\">\n",
       "  <thead>\n",
       "    <tr style=\"text-align: right;\">\n",
       "      <th></th>\n",
       "      <th>ICUSTAY_ID</th>\n",
       "      <th>Pro_0014</th>\n",
       "      <th>Pro_0017</th>\n",
       "      <th>Pro_0040</th>\n",
       "      <th>Pro_0045</th>\n",
       "      <th>Pro_0066</th>\n",
       "      <th>Pro_009U3ZX</th>\n",
       "      <th>Pro_0159</th>\n",
       "      <th>Pro_02100Z9</th>\n",
       "      <th>Pro_02H633Z</th>\n",
       "      <th>...</th>\n",
       "      <th>Pro_9915</th>\n",
       "      <th>Pro_9920</th>\n",
       "      <th>Pro_9925</th>\n",
       "      <th>Pro_9955</th>\n",
       "      <th>Pro_9960</th>\n",
       "      <th>Pro_9962</th>\n",
       "      <th>Pro_9983</th>\n",
       "      <th>Pro_B2111ZZ</th>\n",
       "      <th>Pro_B211YZZ</th>\n",
       "      <th>Pro_B24BZZ4</th>\n",
       "    </tr>\n",
       "  </thead>\n",
       "  <tbody>\n",
       "    <tr>\n",
       "      <th>0</th>\n",
       "      <td>37081114</td>\n",
       "      <td>0.0</td>\n",
       "      <td>0.0</td>\n",
       "      <td>0.0</td>\n",
       "      <td>0.0</td>\n",
       "      <td>0.0</td>\n",
       "      <td>0.0</td>\n",
       "      <td>0.0</td>\n",
       "      <td>0.0</td>\n",
       "      <td>0.0</td>\n",
       "      <td>...</td>\n",
       "      <td>0.0</td>\n",
       "      <td>0.0</td>\n",
       "      <td>0.0</td>\n",
       "      <td>0.0</td>\n",
       "      <td>0.0</td>\n",
       "      <td>0.0</td>\n",
       "      <td>0.0</td>\n",
       "      <td>0.0</td>\n",
       "      <td>0.0</td>\n",
       "      <td>0.0</td>\n",
       "    </tr>\n",
       "    <tr>\n",
       "      <th>1</th>\n",
       "      <td>37067082</td>\n",
       "      <td>0.0</td>\n",
       "      <td>0.0</td>\n",
       "      <td>0.0</td>\n",
       "      <td>0.0</td>\n",
       "      <td>0.0</td>\n",
       "      <td>0.0</td>\n",
       "      <td>0.0</td>\n",
       "      <td>0.0</td>\n",
       "      <td>0.0</td>\n",
       "      <td>...</td>\n",
       "      <td>0.0</td>\n",
       "      <td>0.0</td>\n",
       "      <td>0.0</td>\n",
       "      <td>0.0</td>\n",
       "      <td>0.0</td>\n",
       "      <td>0.0</td>\n",
       "      <td>0.0</td>\n",
       "      <td>0.0</td>\n",
       "      <td>0.0</td>\n",
       "      <td>0.0</td>\n",
       "    </tr>\n",
       "    <tr>\n",
       "      <th>3</th>\n",
       "      <td>37510196</td>\n",
       "      <td>0.0</td>\n",
       "      <td>0.0</td>\n",
       "      <td>0.0</td>\n",
       "      <td>0.0</td>\n",
       "      <td>0.0</td>\n",
       "      <td>0.0</td>\n",
       "      <td>0.0</td>\n",
       "      <td>0.0</td>\n",
       "      <td>0.0</td>\n",
       "      <td>...</td>\n",
       "      <td>0.0</td>\n",
       "      <td>0.0</td>\n",
       "      <td>0.0</td>\n",
       "      <td>0.0</td>\n",
       "      <td>0.0</td>\n",
       "      <td>0.0</td>\n",
       "      <td>0.0</td>\n",
       "      <td>0.0</td>\n",
       "      <td>0.0</td>\n",
       "      <td>0.0</td>\n",
       "    </tr>\n",
       "    <tr>\n",
       "      <th>4</th>\n",
       "      <td>39060235</td>\n",
       "      <td>0.0</td>\n",
       "      <td>0.0</td>\n",
       "      <td>0.0</td>\n",
       "      <td>0.0</td>\n",
       "      <td>0.0</td>\n",
       "      <td>0.0</td>\n",
       "      <td>0.0</td>\n",
       "      <td>0.0</td>\n",
       "      <td>0.0</td>\n",
       "      <td>...</td>\n",
       "      <td>0.0</td>\n",
       "      <td>0.0</td>\n",
       "      <td>0.0</td>\n",
       "      <td>0.0</td>\n",
       "      <td>0.0</td>\n",
       "      <td>0.0</td>\n",
       "      <td>0.0</td>\n",
       "      <td>0.0</td>\n",
       "      <td>0.0</td>\n",
       "      <td>0.0</td>\n",
       "    </tr>\n",
       "    <tr>\n",
       "      <th>5</th>\n",
       "      <td>34672098</td>\n",
       "      <td>0.0</td>\n",
       "      <td>0.0</td>\n",
       "      <td>0.0</td>\n",
       "      <td>0.0</td>\n",
       "      <td>0.0</td>\n",
       "      <td>0.0</td>\n",
       "      <td>0.0</td>\n",
       "      <td>0.0</td>\n",
       "      <td>0.0</td>\n",
       "      <td>...</td>\n",
       "      <td>0.0</td>\n",
       "      <td>0.0</td>\n",
       "      <td>0.0</td>\n",
       "      <td>0.0</td>\n",
       "      <td>0.0</td>\n",
       "      <td>0.0</td>\n",
       "      <td>0.0</td>\n",
       "      <td>0.0</td>\n",
       "      <td>0.0</td>\n",
       "      <td>0.0</td>\n",
       "    </tr>\n",
       "  </tbody>\n",
       "</table>\n",
       "<p>5 rows × 111 columns</p>\n",
       "</div>"
      ],
      "text/plain": [
       "   ICUSTAY_ID  Pro_0014  Pro_0017  Pro_0040  Pro_0045  Pro_0066  Pro_009U3ZX  \\\n",
       "0    37081114       0.0       0.0       0.0       0.0       0.0          0.0   \n",
       "1    37067082       0.0       0.0       0.0       0.0       0.0          0.0   \n",
       "3    37510196       0.0       0.0       0.0       0.0       0.0          0.0   \n",
       "4    39060235       0.0       0.0       0.0       0.0       0.0          0.0   \n",
       "5    34672098       0.0       0.0       0.0       0.0       0.0          0.0   \n",
       "\n",
       "   Pro_0159  Pro_02100Z9  Pro_02H633Z  ...  Pro_9915  Pro_9920  Pro_9925  \\\n",
       "0       0.0          0.0          0.0  ...       0.0       0.0       0.0   \n",
       "1       0.0          0.0          0.0  ...       0.0       0.0       0.0   \n",
       "3       0.0          0.0          0.0  ...       0.0       0.0       0.0   \n",
       "4       0.0          0.0          0.0  ...       0.0       0.0       0.0   \n",
       "5       0.0          0.0          0.0  ...       0.0       0.0       0.0   \n",
       "\n",
       "   Pro_9955  Pro_9960  Pro_9962  Pro_9983  Pro_B2111ZZ  Pro_B211YZZ  \\\n",
       "0       0.0       0.0       0.0       0.0          0.0          0.0   \n",
       "1       0.0       0.0       0.0       0.0          0.0          0.0   \n",
       "3       0.0       0.0       0.0       0.0          0.0          0.0   \n",
       "4       0.0       0.0       0.0       0.0          0.0          0.0   \n",
       "5       0.0       0.0       0.0       0.0          0.0          0.0   \n",
       "\n",
       "   Pro_B24BZZ4  \n",
       "0          0.0  \n",
       "1          0.0  \n",
       "3          0.0  \n",
       "4          0.0  \n",
       "5          0.0  \n",
       "\n",
       "[5 rows x 111 columns]"
      ]
     },
     "execution_count": 163,
     "metadata": {},
     "output_type": "execute_result"
    }
   ],
   "source": [
    "p_raw = p_raw[p_raw.ICD_CODE.isin(icds)][['HADM_ID','ICD_CODE']].pivot_table(index='HADM_ID', columns='ICD_CODE', aggfunc='size', fill_value=np.nan)\n",
    "p_raw = p_raw.reset_index()\n",
    "\n",
    "p_raw.loc[:, p_raw.columns != 'HADM_ID'] = p_raw.loc[:, p_raw.columns != 'HADM_ID'].notna().astype(int)\n",
    "print('p_raw_result',p_raw.shape,len(p_raw.HADM_ID.unique()))\n",
    "\n",
    "p_raw = p_raw[p_raw.HADM_ID.isin(df.HADM_ID)]\n",
    "print('p_raw_result',p_raw.shape,len(p_raw.HADM_ID.unique()))\n",
    "\n",
    "final_p = df[['HADM_ID','ICUSTAY_ID']]\n",
    "final_p = pd.merge(final_p,p_raw,on='HADM_ID',how='left')\n",
    "print(final_p.shape,len(final_p.HADM_ID.unique()),len(final_p.ICUSTAY_ID.unique()))\n",
    "\n",
    "final_p = final_p[~final_p[final_p.columns.difference(['HADM_ID', 'ICUSTAY_ID'])].isna().all(axis=1)]\n",
    "final_p = final_p.fillna(0)\n",
    "print(final_p.shape,len(final_p.HADM_ID.unique()),len(final_p.ICUSTAY_ID.unique()))\n",
    "\n",
    "final_p.columns = final_p.columns.astype(str)\n",
    "final_p.columns = ['Pro_' + col if (col != 'HADM_ID')&(col != 'ICUSTAY_ID') else col for col in final_p.columns]\n",
    "final_p = final_p.loc[:, (final_p != 0).any(axis=0)]\n",
    "final_p = final_p.drop('HADM_ID', axis=1)\n",
    "final_p.head()"
   ]
  },
  {
   "cell_type": "code",
   "execution_count": 164,
   "id": "5c29d407-6fb8-46bb-9da7-1a4ebb772563",
   "metadata": {},
   "outputs": [
    {
     "data": {
      "text/plain": [
       "[]"
      ]
     },
     "execution_count": 164,
     "metadata": {},
     "output_type": "execute_result"
    }
   ],
   "source": [
    "zero_cols = final_p.columns[final_p.eq(0).all()].tolist()\n",
    "zero_cols"
   ]
  },
  {
   "cell_type": "code",
   "execution_count": 173,
   "id": "7f7c1d87-3ef1-47aa-a7fb-99b43c157131",
   "metadata": {},
   "outputs": [
    {
     "data": {
      "text/plain": [
       "(47420, 111)"
      ]
     },
     "execution_count": 173,
     "metadata": {},
     "output_type": "execute_result"
    }
   ],
   "source": [
    "final_p.shape"
   ]
  },
  {
   "cell_type": "code",
   "execution_count": 174,
   "id": "b6eb5828-16bd-40eb-aed8-7b5db8a0a544",
   "metadata": {},
   "outputs": [],
   "source": [
    "final_p.to_csv('D:/2025UTI/IV/IV_all_pro.csv',index=False)"
   ]
  },
  {
   "cell_type": "code",
   "execution_count": 176,
   "id": "0e4ed5cc-4671-4692-bdc6-d7bd1b24dd26",
   "metadata": {},
   "outputs": [
    {
     "data": {
      "text/plain": [
       "82"
      ]
     },
     "execution_count": 176,
     "metadata": {},
     "output_type": "execute_result"
    }
   ],
   "source": [
    "iii_cols = ['ICUSTAY_ID', 'Pro_0014', 'Pro_0017', 'Pro_0040', 'Pro_0045',\n",
    "       'Pro_0066', 'Pro_0159', 'Pro_0331', 'Pro_0741', 'Pro_311', 'Pro_3322',\n",
    "       'Pro_3323', 'Pro_3324', 'Pro_3404', 'Pro_3491', 'Pro_3521', 'Pro_3522',\n",
    "       'Pro_3606', 'Pro_3607', 'Pro_3611', 'Pro_3612', 'Pro_3613', 'Pro_3615',\n",
    "       'Pro_3721', 'Pro_3722', 'Pro_3723', 'Pro_3761', 'Pro_3845', 'Pro_387',\n",
    "       'Pro_3891', 'Pro_3893', 'Pro_3895', 'Pro_3897', 'Pro_3899', 'Pro_3950',\n",
    "       'Pro_3961', 'Pro_3995', 'Pro_4311', 'Pro_4443', 'Pro_4513', 'Pro_4516',\n",
    "       'Pro_4523', 'Pro_5185', 'Pro_5459', 'Pro_5491', 'Pro_7309', 'Pro_734',\n",
    "       'Pro_7359', 'Pro_7569', 'Pro_8051', 'Pro_8162', 'Pro_8622', 'Pro_8659',\n",
    "       'Pro_8744', 'Pro_8841', 'Pro_8842', 'Pro_8847', 'Pro_8848', 'Pro_8852',\n",
    "       'Pro_8853', 'Pro_8855', 'Pro_8856', 'Pro_8872', 'Pro_8938', 'Pro_8964',\n",
    "       'Pro_9390', 'Pro_9604', 'Pro_9605', 'Pro_9607', 'Pro_966', 'Pro_9671',\n",
    "       'Pro_9672', 'Pro_9904', 'Pro_9905', 'Pro_9907', 'Pro_9910', 'Pro_9915',\n",
    "       'Pro_9920', 'Pro_9925', 'Pro_9955', 'Pro_9960', 'Pro_9962']\n",
    "len(iii_cols)"
   ]
  },
  {
   "cell_type": "code",
   "execution_count": 177,
   "id": "c120b74c-d96c-4506-b795-ed4b5f7b85dd",
   "metadata": {},
   "outputs": [
    {
     "name": "stdout",
     "output_type": "stream",
     "text": [
      "set()\n"
     ]
    }
   ],
   "source": [
    "print(set(iii_cols)-set(final_p.columns))"
   ]
  },
  {
   "cell_type": "code",
   "execution_count": 178,
   "id": "bdb74d0d-c7a8-45fd-b05e-b1d69561aff5",
   "metadata": {},
   "outputs": [
    {
     "data": {
      "text/html": [
       "<div>\n",
       "<style scoped>\n",
       "    .dataframe tbody tr th:only-of-type {\n",
       "        vertical-align: middle;\n",
       "    }\n",
       "\n",
       "    .dataframe tbody tr th {\n",
       "        vertical-align: top;\n",
       "    }\n",
       "\n",
       "    .dataframe thead th {\n",
       "        text-align: right;\n",
       "    }\n",
       "</style>\n",
       "<table border=\"1\" class=\"dataframe\">\n",
       "  <thead>\n",
       "    <tr style=\"text-align: right;\">\n",
       "      <th></th>\n",
       "      <th>ICD_CODE</th>\n",
       "      <th>ICD_VERSION</th>\n",
       "      <th>ICD_TEXT</th>\n",
       "    </tr>\n",
       "  </thead>\n",
       "  <tbody>\n",
       "  </tbody>\n",
       "</table>\n",
       "</div>"
      ],
      "text/plain": [
       "Empty DataFrame\n",
       "Columns: [ICD_CODE, ICD_VERSION, ICD_TEXT]\n",
       "Index: []"
      ]
     },
     "execution_count": 178,
     "metadata": {},
     "output_type": "execute_result"
    }
   ],
   "source": [
    "d_icd_procedures[d_icd_procedures.ICD_CODE.isin([i.split('_')[-1] for i in list(set(iii_cols)-set(final_p.columns))])]"
   ]
  },
  {
   "cell_type": "code",
   "execution_count": 179,
   "id": "d5d1afa6-aa4c-40f6-8c34-0c7825fc48b8",
   "metadata": {},
   "outputs": [
    {
     "name": "stdout",
     "output_type": "stream",
     "text": [
      "{'Pro_5A1945Z', 'Pro_4A023N7', 'Pro_5A1221Z', 'Pro_3E0G76Z', 'Pro_10E0XZZ', 'Pro_3E04305', 'Pro_009U3ZX', 'Pro_9983', 'Pro_5A1D70Z', 'Pro_02HV33Z', 'Pro_3E0436Z', 'Pro_10907ZC', 'Pro_0BH17EZ', 'Pro_03HY32Z', 'Pro_8952', 'Pro_5A1935Z', 'Pro_0DJ08ZZ', 'Pro_0W9930Z', 'Pro_10D00Z1', 'Pro_0DJD8ZZ', 'Pro_B2111ZZ', 'Pro_0KQM0ZZ', 'Pro_B211YZZ', 'Pro_0W9G3ZZ', 'Pro_02H633Z', 'Pro_02100Z9', 'Pro_B24BZZ4', 'Pro_5A1955Z', 'Pro_0W9G3ZX'}\n"
     ]
    }
   ],
   "source": [
    "print(set(final_p.columns)-set(iii_cols))"
   ]
  },
  {
   "cell_type": "code",
   "execution_count": 180,
   "id": "84088d53-868e-4f86-a3f0-ec66619ca154",
   "metadata": {},
   "outputs": [
    {
     "data": {
      "text/plain": [
       "array(['Repair Perineum Muscle, Open Approach',\n",
       "       'Ultrasonography of Heart with Aorta, Transesophageal',\n",
       "       'Fluoroscopy of Multiple Coronary Arteries using Other Contrast',\n",
       "       'Fluoroscopy of Multiple Coronary Arteries using Low Osmolar Contrast',\n",
       "       'Performance of Cardiac Output, Continuous',\n",
       "       'Respiratory Ventilation, Less than 24 Consecutive Hours',\n",
       "       'Performance of Urinary Filtration, Intermittent, Less than 6 Hours Per Day',\n",
       "       'Respiratory Ventilation, Greater than 96 Consecutive Hours',\n",
       "       'Respiratory Ventilation, 24-96 Consecutive Hours',\n",
       "       'Delivery of Products of Conception, External Approach',\n",
       "       'Introduction of Nutritional Substance into Upper GI, Via Natural or Artificial Opening',\n",
       "       'Measurement of Cardiac Sampling and Pressure, Left Heart, Percutaneous Approach',\n",
       "       'Introduction of Other Antineoplastic into Central Vein, Percutaneous Approach',\n",
       "       'Introduction of Nutritional Substance into Central Vein, Percutaneous Approach',\n",
       "       'Extraction of Products of Conception, Low, Open Approach',\n",
       "       'Drainage of Amniotic Fluid, Therapeutic from Products of Conception, Via Natural or Artificial Opening',\n",
       "       'Drainage of Peritoneal Cavity, Percutaneous Approach, Diagnostic',\n",
       "       'Drainage of Peritoneal Cavity, Percutaneous Approach',\n",
       "       'Drainage of Right Pleural Cavity with Drainage Device, Percutaneous Approach',\n",
       "       'Bypass Coronary Artery, One Artery from Left Internal Mammary, Open Approach',\n",
       "       'Insertion of Infusion Device into Right Atrium, Percutaneous Approach',\n",
       "       'Drainage of Spinal Canal, Percutaneous Approach, Diagnostic',\n",
       "       'Insertion of Monitoring Device into Upper Artery, Percutaneous Approach',\n",
       "       'Insertion of Infusion Device into Superior Vena Cava, Percutaneous Approach',\n",
       "       'Inspection of Lower Intestinal Tract, Via Natural or Artificial Opening Endoscopic',\n",
       "       'Inspection of Upper Intestinal Tract, Via Natural or Artificial Opening Endoscopic',\n",
       "       'Insertion of Endotracheal Airway into Trachea, Via Natural or Artificial Opening',\n",
       "       'Electrocardiogram', 'Other phototherapy'], dtype=object)"
      ]
     },
     "execution_count": 180,
     "metadata": {},
     "output_type": "execute_result"
    }
   ],
   "source": [
    "d_icd_procedures[d_icd_procedures.ICD_CODE.isin([i.split('_')[-1] for i in list(set(final_p.columns)-set(iii_cols))])].ICD_TEXT.values"
   ]
  },
  {
   "cell_type": "code",
   "execution_count": 175,
   "id": "6a4f10b5-3420-48ca-848f-2d088b046b46",
   "metadata": {},
   "outputs": [
    {
     "data": {
      "text/plain": [
       "(47420, 111)"
      ]
     },
     "execution_count": 175,
     "metadata": {},
     "output_type": "execute_result"
    }
   ],
   "source": [
    "final_p.shape"
   ]
  },
  {
   "cell_type": "code",
   "execution_count": 182,
   "id": "e13a5ad0-e176-4c85-9277-5c9952e7b6fe",
   "metadata": {},
   "outputs": [],
   "source": [
    "final_p[iii_cols].to_csv('D:/2025UTI/IV/IV_all_pro_matchIII.csv',index=False)"
   ]
  },
  {
   "cell_type": "markdown",
   "id": "88cb036b-f41f-442d-a8c2-95190d3916a1",
   "metadata": {
    "jp-MarkdownHeadingCollapsed": true
   },
   "source": [
    "# Med"
   ]
  },
  {
   "cell_type": "code",
   "execution_count": 211,
   "id": "a58a104a-a9f1-4624-90a5-b8ddf3c4e9ad",
   "metadata": {},
   "outputs": [
    {
     "name": "stdout",
     "output_type": "stream",
     "text": [
      "(20292611, 21)\n",
      "(7432739, 21)\n"
     ]
    }
   ],
   "source": [
    "PRESCRIPTIONS = pd.read_csv('D:/mimic-iv-3.1/mimiciv/3.1/hosp/prescriptions.csv.gz', dtype={'ndc':'category'})\n",
    "PRESCRIPTIONS.columns = PRESCRIPTIONS.columns.str.upper()\n",
    "\n",
    "PRESCRIPTIONS.rename(columns={'STAY_ID': 'ICUSTAY_ID','STARTTIME':'STARTDATE','STOPTIME':'ENDDATE'}, inplace=True)\n",
    "print(PRESCRIPTIONS.shape)\n",
    "PRESCRIPTIONS = PRESCRIPTIONS[PRESCRIPTIONS.HADM_ID.isin(df.HADM_ID)]\n",
    "print(PRESCRIPTIONS.shape)\n",
    "\n",
    "PRESCRIPTIONS.STARTDATE = pd.to_datetime(PRESCRIPTIONS.STARTDATE)\n",
    "PRESCRIPTIONS.ENDDATE = pd.to_datetime(PRESCRIPTIONS.ENDDATE)"
   ]
  },
  {
   "cell_type": "code",
   "execution_count": 212,
   "id": "7fa075ff-dcd7-4e3f-b06a-e3b70bdf7657",
   "metadata": {},
   "outputs": [],
   "source": [
    "PRESCRIPTIONS['DRUG'] = PRESCRIPTIONS['DRUG'].str.strip().replace({\n",
    "\n",
    "    'Azithromycin ': 'Azithromycin',\n",
    "    'CeftriaXONE': 'Ceftriaxone',  # 统一为小写x\n",
    "    'CefTRIAXone': 'Ceftriaxone',  # 补充可能存在的其他拼写\n",
    "    'MetRONIDAZOLE (FLagyl)': 'Metronidazole',\n",
    "    'Piperacillin-Tazobactam Na': 'Piperacillin-Tazobactam',\n",
    "    'Piperacillin Tazobactam': 'Piperacillin-Tazobactam',\n",
    "    'LevETIRAcetam': 'Levetiracetam',\n",
    "    'CefTAZidime': 'Ceftazidime',\n",
    "    'CefePIME': 'Cefepime',\n",
    "    'FoLIC Acid': 'Folic Acid',\n",
    "    'PredniSONE': 'Prednisone',\n",
    "    \n",
    "    'LORazepam': 'Lorazepam',\n",
    "    'Midazolam HCl': 'Midazolam',\n",
    "    'HYDROmorphone (Dilaudid)': 'Hydromorphone',\n",
    "    'OxyCODONE (Immediate Release)': 'Oxycodone',\n",
    "    'OxycoDONE (Immediate Release) ': 'Oxycodone',  # 建议去掉\"(Immediate Release)\"保持简洁\n",
    "    'Oxycodone (Immediate Release)': 'Oxycodone',\n",
    "    'LevETIRAcetam':'Levetiracetam',\n",
    "    \n",
    "    'Amiodarone HCl': 'Amiodarone',\n",
    "    'Metoprolol Tartrate': 'Metoprolol',\n",
    "    'Metoprolol Succinate XL': 'Metoprolol',\n",
    "    'Phenylephrine HCl': 'Phenylephrine',\n",
    "    'Hydralazine Hcl': 'Hydralazine',\n",
    "    'Ciprofloxacin Hcl':'Ciprofloxacin',\n",
    "    \n",
    "    'Heparin Sodium': 'Heparin',\n",
    "    'Heparin Flush (10 units/ml)': 'Heparin',\n",
    "    'Heparin Dwell (1000 Units/mL)': 'Heparin',\n",
    "    'Heparin Flush Cvl  (100 Units/Ml)': 'Heparin',\n",
    "    \n",
    "    'Potassium Chloride Replacement (Critical Care and Oncology)': 'Potassium Chloride',\n",
    "    'Potassium Chloride (Powder)': 'Potassium Chloride',\n",
    "    'Pantoprazole Sodium': 'Pantoprazole',\n",
    "    'Aspirin EC': 'Aspirin',\n",
    "    'Vancomycin HCl': 'Vancomycin',\n",
    "    'Acetaminophen IV': 'Acetaminophen'\n",
    "}).str.title()  # 统一为首字母大写格式"
   ]
  },
  {
   "cell_type": "code",
   "execution_count": 218,
   "id": "9f5ba81e-8fee-417c-84ff-6e98a8b0c37c",
   "metadata": {},
   "outputs": [
    {
     "data": {
      "text/plain": [
       "56"
      ]
     },
     "execution_count": 218,
     "metadata": {},
     "output_type": "execute_result"
    }
   ],
   "source": [
    "keep_drug = list(pd.unique(['Insulin', 'Furosemide','Magnesium Sulfate','Calcium Gluconate',\n",
    "'Heparin', 'Metoprolol',\n",
    "'Acetaminophen',\n",
    "'Hydromorphone','Fentanyl Citrate','Morphine Sulfate','Oxycodone',\n",
    "'Propofol','Midazolam','Lorazepam','Dexmedetomidine',\n",
    "'Aspirin',\n",
    "'Pantoprazole','Famotidine','Ranitidine','Omeprazole',\n",
    "'Ondansetron','Metoclopramide',\n",
    "'Amiodarone','Albumin 25% (12.5g / 50mL)',\n",
    "'Potassium Chloride',\n",
    "'Levetiracetam','Gabapentin',\n",
    "'Meropenem',\n",
    "'Prednisone','Dexamethasone',\n",
    "'Tacrolimus','Diltiazem','Thiamine','Folic Acid','Sodium Bicarbonate',\n",
    "'Vancomycin', #万古霉素 - 用于MRSA（耐甲氧西林金黄色葡萄球菌）感染\n",
    "'Piperacillin-Tazobactam', #哌拉西林-他唑巴坦 - 广谱抗生素\n",
    "'Meropenem', #美罗培南 - 用于多重耐药革兰阴性菌（如铜绿假单胞菌）感染\n",
    "'Cefepime', #头孢吡肟 - 覆盖革兰阴性菌（包括假单胞菌）\n",
    "'Ceftazidime', #针对铜绿假单胞菌等耐药革兰阴性菌，可能反映耐药菌感染或免疫功能低下状态\n",
    "'Ampicillin-Sulbactam', #氨苄西林-舒巴坦 - 阳性肠杆菌科细菌\n",
    "'Linezolid', #用于耐万古霉素肠球菌（VRE）或其他耐药革兰阳性菌\n",
    "'Azithromycin', #阿奇霉素 - 治疗 细菌感染 和某些 非典型病原体感染\n",
    "'Ceftriaxone', #获得性肺炎或脑膜炎\n",
    "'Clindamycin',\n",
    "'Phenylephrine','Norepinephrine','Nitroglycerin', 'Metronidazole',\n",
    "'Levofloxacin', 'Ciprofloxacin', 'Haloperidol','Simvastatin',\n",
    "'Atorvastatin','Glucagon','Warfarin','Lactulose']))\n",
    "len(keep_drug)"
   ]
  },
  {
   "cell_type": "code",
   "execution_count": 219,
   "id": "9c46565e-59a9-4cbd-a774-ae684661f5d9",
   "metadata": {},
   "outputs": [
    {
     "name": "stdout",
     "output_type": "stream",
     "text": [
      "['Insulin', 'Furosemide', 'Magnesium Sulfate', 'Calcium Gluconate', 'Heparin', 'Metoprolol', 'Acetaminophen', 'Hydromorphone', 'Fentanyl Citrate', 'Morphine Sulfate', 'Oxycodone', 'Propofol', 'Midazolam', 'Lorazepam', 'Dexmedetomidine', 'Aspirin', 'Pantoprazole', 'Famotidine', 'Ranitidine', 'Omeprazole', 'Ondansetron', 'Metoclopramide', 'Amiodarone', 'Albumin 25% (12.5g / 50mL)', 'Potassium Chloride', 'Levetiracetam', 'Gabapentin', 'Meropenem', 'Prednisone', 'Dexamethasone', 'Tacrolimus', 'Diltiazem', 'Thiamine', 'Folic Acid', 'Sodium Bicarbonate', 'Vancomycin', 'Piperacillin-Tazobactam', 'Cefepime', 'Ceftazidime', 'Ampicillin-Sulbactam', 'Linezolid', 'Azithromycin', 'Ceftriaxone', 'Clindamycin', 'Phenylephrine', 'Norepinephrine', 'Nitroglycerin', 'Metronidazole', 'Levofloxacin', 'Ciprofloxacin', 'Haloperidol', 'Simvastatin', 'Atorvastatin', 'Glucagon', 'Warfarin', 'Lactulose']\n"
     ]
    }
   ],
   "source": [
    "print(keep_drug)"
   ]
  },
  {
   "cell_type": "code",
   "execution_count": 220,
   "id": "0a6b6d77-fcb3-4a7e-98a7-e205a9ead0c2",
   "metadata": {},
   "outputs": [
    {
     "name": "stdout",
     "output_type": "stream",
     "text": [
      "(3306944, 21) 55\n"
     ]
    }
   ],
   "source": [
    "PRESCRIPTIONS = PRESCRIPTIONS[PRESCRIPTIONS.DRUG.isin(keep_drug)]\n",
    "print(PRESCRIPTIONS.shape,len(PRESCRIPTIONS.DRUG.unique()))"
   ]
  },
  {
   "cell_type": "code",
   "execution_count": 221,
   "id": "146d521f-a06c-4143-adaa-782a98865f73",
   "metadata": {},
   "outputs": [],
   "source": [
    "iii_m = ['Tacrolimus', 'Warfarin', 'Heparin', 'Furosemide', 'Nitroglycerin', 'Insulin', 'Midazolam', 'Lorazepam', 'Magnesium Sulfate', 'Potassium Chloride', 'Vancomycin', 'Acetaminophen', 'Metoclopramide', 'Morphine Sulfate', 'Calcium Gluconate', 'Pantoprazole', 'Levofloxacin', 'Prednisone', 'Clindamycin', 'Ranitidine', 'Hydromorphone', 'Metoprolol', 'Metronidazole', 'Fentanyl Citrate', 'Haloperidol', 'Piperacillin-Tazobactam', 'Atorvastatin', 'Aspirin', 'Amiodarone', 'Meropenem', 'Phenylephrine', 'Sodium Bicarbonate', 'Propofol', 'Norepinephrine', 'Dexamethasone', 'Ondansetron', 'Levetiracetam', 'Ceftazidime', 'Folic Acid', 'Famotidine', 'Simvastatin', 'Linezolid', 'Ceftriaxone', 'Lactulose', 'Omeprazole', 'Diltiazem', 'Cefepime', 'Oxycodone', 'Azithromycin', 'Gabapentin', 'Ampicillin-Sulbactam', 'Ciprofloxacin', 'Glucagon', 'Dexmedetomidine', 'Thiamine']"
   ]
  },
  {
   "cell_type": "code",
   "execution_count": 222,
   "id": "145e8a29-172a-4212-8838-bec10e78b8b4",
   "metadata": {},
   "outputs": [
    {
     "name": "stdout",
     "output_type": "stream",
     "text": [
      "set()\n"
     ]
    }
   ],
   "source": [
    "print(set(PRESCRIPTIONS.DRUG.unique())-set(iii_m))"
   ]
  },
  {
   "cell_type": "code",
   "execution_count": 224,
   "id": "8740806e-8fb1-4a2a-99b2-2be76f821b49",
   "metadata": {},
   "outputs": [
    {
     "name": "stdout",
     "output_type": "stream",
     "text": [
      "(3306944, 21) (3306944, 21)\n"
     ]
    }
   ],
   "source": [
    "# 将一些写了逗号，的数字修改\n",
    "PRESCRIPTIONS['DOSE_VAL_RX'] = PRESCRIPTIONS['DOSE_VAL_RX'].astype(str).str.replace(',', '', regex=False)\n",
    "print(PRESCRIPTIONS.shape, PRESCRIPTIONS.shape)"
   ]
  },
  {
   "cell_type": "code",
   "execution_count": 232,
   "id": "5fb86e55-d767-4d65-87ef-8fb6ccecdc92",
   "metadata": {},
   "outputs": [],
   "source": [
    "PRESCRIPTIONS['DOSE_UNIT_RX'] = PRESCRIPTIONS['DOSE_UNIT_RX'].replace({\n",
    "    # 质量单位标准化\n",
    "    'gm': 'g',\n",
    "    'mg/ml': 'mg/mL',\n",
    "    'mg/ml': 'mg/mL',\n",
    "    'mcg/ml': 'mcg/mL',\n",
    "    'mg/50 ml': 'mg/mL',\n",
    "    'mg/250 ml': 'mg/mL',\n",
    "    'mg/m2': 'mg',\n",
    "    'mg/kg/hr': 'mg',\n",
    "    'mg/hr': 'mg',\n",
    "    'mg/min': 'mg',\n",
    "    'mg/dose': 'mg',\n",
    "    'mg\\\\ 0 mg': 'mg',\n",
    "\n",
    "    # 容积单位标准化\n",
    "    'ml': 'mL',\n",
    "    'L': 'L',\n",
    "\n",
    "    # 单位统一\n",
    "    'Units': 'UNIT',\n",
    "    'units': 'UNIT',\n",
    "    '_UNIT': 'UNIT',\n",
    "    'Units/Liter': 'UNIT',\n",
    "    'units/hr': 'UNIT',\n",
    "    'UNIT/HR': 'UNIT',\n",
    "\n",
    "    # 剂量形式\n",
    "    'MD to order daily dose': 'dose',\n",
    "    'Dosing by Pharmacy': 'dose',\n",
    "    'dose': 'dose',\n",
    "    'TAB': 'tab',\n",
    "    'CAP': 'cap',\n",
    "    'SYR': 'syr',\n",
    "    'DROP': 'drop',\n",
    "    'VIAL': 'vial',\n",
    "    'AMP': 'amp',\n",
    "    'INJ': 'inj',\n",
    "    'Appl': 'appl',\n",
    "\n",
    "    # mcg 相关标准化\n",
    "    'mcg/kg/min': 'mcg',\n",
    "    'mcg/kg/hr': 'mcg',\n",
    "    'mcg/hr': 'mcg',\n",
    "\n",
    "    # 特殊无效项处理\n",
    "    'Pick Option Below': None,\n",
    "    'in': None,  # 非法单位，丢弃\n",
    "    np.nan: None,\n",
    "})\n"
   ]
  },
  {
   "cell_type": "code",
   "execution_count": 233,
   "id": "89be59d7-4654-4c0f-8881-93b3e1a203fe",
   "metadata": {},
   "outputs": [
    {
     "data": {
      "text/plain": [
       "array(['mg', 'g', 'mL', 'UNIT', 'mEq', 'mcg', 'dose', None, 'cap', 'appl',\n",
       "       'tab', 'mg/mL', 'mmol', 'amp', 'drop', '%', 'mcg/mL', 'syr'],\n",
       "      dtype=object)"
      ]
     },
     "execution_count": 233,
     "metadata": {},
     "output_type": "execute_result"
    }
   ],
   "source": [
    "PRESCRIPTIONS['DOSE_UNIT_RX'].unique()"
   ]
  },
  {
   "cell_type": "code",
   "execution_count": 234,
   "id": "03581263-d403-47ac-a3cd-a3fc7c42307f",
   "metadata": {},
   "outputs": [
    {
     "data": {
      "text/plain": [
       "mg        1896939\n",
       "UNIT       492400\n",
       "mEq        409664\n",
       "g          398643\n",
       "mL          64718\n",
       "mcg         31488\n",
       "dose        11277\n",
       "cap            26\n",
       "appl           24\n",
       "%              11\n",
       "drop            6\n",
       "tab             5\n",
       "mg/mL           3\n",
       "mmol            3\n",
       "amp             2\n",
       "mcg/mL          2\n",
       "syr             1\n",
       "Name: DOSE_UNIT_RX, dtype: int64"
      ]
     },
     "execution_count": 234,
     "metadata": {},
     "output_type": "execute_result"
    }
   ],
   "source": [
    "PRESCRIPTIONS.DOSE_UNIT_RX.value_counts()"
   ]
  },
  {
   "cell_type": "code",
   "execution_count": 235,
   "id": "b763a5e3-6e36-44a4-a3fe-b0f992a45c5d",
   "metadata": {},
   "outputs": [],
   "source": [
    "def process_dose_values(df, column='DOSE_VAL_RX'):\n",
    "    \"\"\"\n",
    "    处理 DOSE_VAL_RX 列中的范围剂量，将形如 '325-650' 的字符串替换为其平均值。\n",
    "    \"\"\"\n",
    "    def parse_dose(value):\n",
    "        if isinstance(value, str):\n",
    "            # 替换所有非标准破折号为标准的减号 \"-\"\n",
    "            value = value.replace('–', '-').replace('—', '-').replace('－', '-').strip()\n",
    "            # 正则匹配整数或小数范围\n",
    "            match = re.match(r'^(\\d*\\.?\\d+)\\s*-\\s*(\\d*\\.?\\d+)$', value)\n",
    "            if match:\n",
    "                low = float(match.group(1))\n",
    "                high = float(match.group(2))\n",
    "                return (low + high) / 2\n",
    "        # 尝试将其他格式直接转为 float\n",
    "        try:\n",
    "            return float(value)\n",
    "        except:\n",
    "            return np.nan\n",
    "\n",
    "    df[column + '_processed'] = df[column].apply(parse_dose)\n",
    "    return df"
   ]
  },
  {
   "cell_type": "code",
   "execution_count": 236,
   "id": "70eaa2f9-c370-4a23-9b37-11e938d55ca2",
   "metadata": {},
   "outputs": [],
   "source": [
    "PRESCRIPTIONS = process_dose_values(PRESCRIPTIONS)"
   ]
  },
  {
   "cell_type": "code",
   "execution_count": 237,
   "id": "e9c48b99-664a-465b-af95-59a765301938",
   "metadata": {},
   "outputs": [
    {
     "data": {
      "text/html": [
       "<div>\n",
       "<style scoped>\n",
       "    .dataframe tbody tr th:only-of-type {\n",
       "        vertical-align: middle;\n",
       "    }\n",
       "\n",
       "    .dataframe tbody tr th {\n",
       "        vertical-align: top;\n",
       "    }\n",
       "\n",
       "    .dataframe thead th {\n",
       "        text-align: right;\n",
       "    }\n",
       "</style>\n",
       "<table border=\"1\" class=\"dataframe\">\n",
       "  <thead>\n",
       "    <tr style=\"text-align: right;\">\n",
       "      <th></th>\n",
       "      <th>DOSE_VAL_RX</th>\n",
       "      <th>DOSE_VAL_RX_processed</th>\n",
       "    </tr>\n",
       "  </thead>\n",
       "  <tbody>\n",
       "    <tr>\n",
       "      <th>222</th>\n",
       "      <td>12.5</td>\n",
       "      <td>12.5</td>\n",
       "    </tr>\n",
       "    <tr>\n",
       "      <th>224</th>\n",
       "      <td>1000</td>\n",
       "      <td>1000.0</td>\n",
       "    </tr>\n",
       "    <tr>\n",
       "      <th>226</th>\n",
       "      <td>20</td>\n",
       "      <td>20.0</td>\n",
       "    </tr>\n",
       "    <tr>\n",
       "      <th>227</th>\n",
       "      <td>0.5</td>\n",
       "      <td>0.5</td>\n",
       "    </tr>\n",
       "    <tr>\n",
       "      <th>229</th>\n",
       "      <td>60</td>\n",
       "      <td>60.0</td>\n",
       "    </tr>\n",
       "  </tbody>\n",
       "</table>\n",
       "</div>"
      ],
      "text/plain": [
       "    DOSE_VAL_RX  DOSE_VAL_RX_processed\n",
       "222        12.5                   12.5\n",
       "224        1000                 1000.0\n",
       "226          20                   20.0\n",
       "227         0.5                    0.5\n",
       "229          60                   60.0"
      ]
     },
     "execution_count": 237,
     "metadata": {},
     "output_type": "execute_result"
    }
   ],
   "source": [
    "PRESCRIPTIONS.head(10)[['DOSE_VAL_RX','DOSE_VAL_RX_processed']].head()"
   ]
  },
  {
   "cell_type": "code",
   "execution_count": 238,
   "id": "04ab37d3-b217-41df-8dda-55fa1c63bee3",
   "metadata": {},
   "outputs": [],
   "source": [
    "# 转换剂量数值为统一单位，注意，gm 指的是 g\n",
    "def unify_units(df):\n",
    "    def convert_group(group):\n",
    "        if 'DOSE_UNIT_RX' not in group.columns or 'DOSE_VAL_RX_processed' not in group.columns:\n",
    "            return group\n",
    "        \n",
    "        # 获取出现频率最高的单位作为目标单位\n",
    "        unit_counts = group['DOSE_UNIT_RX'].value_counts(dropna=True)\n",
    "        if unit_counts.empty:\n",
    "            return group\n",
    "        \n",
    "        target_unit = unit_counts.idxmax()\n",
    "\n",
    "        # 单位换算关系：统一到目标单位\n",
    "        conversion_factors = {\n",
    "            ('mg', 'g'): 1 / 1000,\n",
    "            ('g', 'mg'): 1000,\n",
    "            ('mcg', 'mg'): 1 / 1000,\n",
    "            ('mg', 'mcg'): 1000,\n",
    "            ('mcg', 'g'): 1 / 1_000_000,\n",
    "            ('g', 'mcg'): 1_000_000,\n",
    "        }\n",
    "\n",
    "        for from_unit in group['DOSE_UNIT_RX'].dropna().unique():\n",
    "            if from_unit == target_unit:\n",
    "                continue\n",
    "            key = (from_unit, target_unit)\n",
    "            if key in conversion_factors:\n",
    "                factor = conversion_factors[key]\n",
    "                mask = group['DOSE_UNIT_RX'] == from_unit\n",
    "                group.loc[mask, 'DOSE_VAL_RX_processed'] = (\n",
    "                    group.loc[mask, 'DOSE_VAL_RX_processed'].astype(float) * factor\n",
    "                )\n",
    "                group.loc[mask, 'DOSE_UNIT_RX'] = target_unit\n",
    "            else:\n",
    "                print(f\"⚠️ 无法将单位从 {from_unit} 转换为 {target_unit}，保留原单位\")\n",
    "\n",
    "        return group\n",
    "\n",
    "    # 防止 SettingWithCopyWarning\n",
    "    df = df.groupby('DRUG', group_keys=False).apply(lambda x: convert_group(x.copy()))\n",
    "    return df\n"
   ]
  },
  {
   "cell_type": "code",
   "execution_count": 239,
   "id": "cdb7bc98-7dc5-4f6d-a8c0-8afe677b4567",
   "metadata": {
    "collapsed": true,
    "jupyter": {
     "outputs_hidden": true
    }
   },
   "outputs": [
    {
     "name": "stdout",
     "output_type": "stream",
     "text": [
      "⚠️ 无法将单位从 cap 转换为 mg，保留原单位\n",
      "⚠️ 无法将单位从 drop 转换为 mg，保留原单位\n",
      "⚠️ 无法将单位从 drop 转换为 mg，保留原单位\n",
      "⚠️ 无法将单位从 appl 转换为 mg，保留原单位\n",
      "⚠️ 无法将单位从 mL 转换为 mg，保留原单位\n",
      "⚠️ 无法将单位从 tab 转换为 mg，保留原单位\n",
      "⚠️ 无法将单位从 % 转换为 mg，保留原单位\n",
      "⚠️ 无法将单位从 tab 转换为 mg，保留原单位\n",
      "⚠️ 无法将单位从 dose 转换为 mg，保留原单位\n",
      "⚠️ 无法将单位从 mL 转换为 mg，保留原单位\n",
      "⚠️ 无法将单位从 mL 转换为 UNIT，保留原单位\n",
      "⚠️ 无法将单位从 mg 转换为 UNIT，保留原单位\n",
      "⚠️ 无法将单位从 mcg/mL 转换为 mg，保留原单位\n",
      "⚠️ 无法将单位从 g 转换为 mL，保留原单位\n",
      "⚠️ 无法将单位从 mg/mL 转换为 mg，保留原单位\n",
      "⚠️ 无法将单位从 drop 转换为 mg，保留原单位\n",
      "⚠️ 无法将单位从 mEq 转换为 g，保留原单位\n",
      "⚠️ 无法将单位从 mg/mL 转换为 mg，保留原单位\n",
      "⚠️ 无法将单位从 mL 转换为 mg，保留原单位\n",
      "⚠️ 无法将单位从 appl 转换为 mg，保留原单位\n",
      "⚠️ 无法将单位从 mg/mL 转换为 mg，保留原单位\n",
      "⚠️ 无法将单位从 mL 转换为 mg，保留原单位\n",
      "⚠️ 无法将单位从 tab 转换为 mg，保留原单位\n",
      "⚠️ 无法将单位从 mL 转换为 mg，保留原单位\n",
      "⚠️ 无法将单位从 mL 转换为 mg，保留原单位\n",
      "⚠️ 无法将单位从 mg 转换为 mEq，保留原单位\n",
      "⚠️ 无法将单位从 mmol 转换为 mEq，保留原单位\n",
      "⚠️ 无法将单位从 mL 转换为 mEq，保留原单位\n",
      "⚠️ 无法将单位从 dose 转换为 mg，保留原单位\n",
      "⚠️ 无法将单位从 cap 转换为 mg，保留原单位\n",
      "⚠️ 无法将单位从 mg 转换为 mEq，保留原单位\n",
      "⚠️ 无法将单位从 tab 转换为 mEq，保留原单位\n",
      "⚠️ 无法将单位从 amp 转换为 mEq，保留原单位\n",
      "⚠️ 无法将单位从 mL 转换为 mEq，保留原单位\n",
      "⚠️ 无法将单位从 syr 转换为 mEq，保留原单位\n",
      "⚠️ 无法将单位从 dose 转换为 mg，保留原单位\n",
      "⚠️ 无法将单位从 tab 转换为 mg，保留原单位\n",
      "⚠️ 无法将单位从 % 转换为 mg，保留原单位\n",
      "⚠️ 无法将单位从 appl 转换为 mg，保留原单位\n",
      "⚠️ 无法将单位从 dose 转换为 mg，保留原单位\n",
      "⚠️ 无法将单位从 mL 转换为 mg，保留原单位\n",
      "⚠️ 无法将单位从 dose 转换为 mg，保留原单位\n",
      "⚠️ 无法将单位从 drop 转换为 mg，保留原单位\n",
      "⚠️ 无法将单位从 dose 转换为 mg，保留原单位\n"
     ]
    }
   ],
   "source": [
    "PRESCRIPTIONS = unify_units(PRESCRIPTIONS)"
   ]
  },
  {
   "cell_type": "code",
   "execution_count": 240,
   "id": "fe526778-439d-4c5a-94d5-b0e8a8fb14d8",
   "metadata": {},
   "outputs": [
    {
     "name": "stdout",
     "output_type": "stream",
     "text": [
      "Insulin \n",
      " UNIT    304911\n",
      "Name: DOSE_UNIT_RX, dtype: int64 \n",
      "\n",
      "Furosemide \n",
      " mg    222941\n",
      "Name: DOSE_UNIT_RX, dtype: int64 \n",
      "\n",
      "Magnesium Sulfate \n",
      " g      177887\n",
      "mEq        27\n",
      "Name: DOSE_UNIT_RX, dtype: int64 \n",
      "\n",
      "Calcium Gluconate \n",
      " g    116728\n",
      "Name: DOSE_UNIT_RX, dtype: int64 \n",
      "\n",
      "Heparin \n",
      " UNIT    187489\n",
      "mL       41569\n",
      "mg           3\n",
      "Name: DOSE_UNIT_RX, dtype: int64 \n",
      "\n",
      "Metoprolol \n",
      " mg    177862\n",
      "mL         2\n",
      "Name: DOSE_UNIT_RX, dtype: int64 \n",
      "\n",
      "Acetaminophen \n",
      " mg    185515\n",
      "Name: DOSE_UNIT_RX, dtype: int64 \n",
      "\n",
      "Hydromorphone \n",
      " mg        92787\n",
      "mcg/mL        2\n",
      "Name: DOSE_UNIT_RX, dtype: int64 \n",
      "\n",
      "Fentanyl Citrate \n",
      " mcg    55410\n",
      "Name: DOSE_UNIT_RX, dtype: int64 \n",
      "\n",
      "Morphine Sulfate \n",
      " mg    49777\n",
      "Name: DOSE_UNIT_RX, dtype: int64 \n",
      "\n",
      "Oxycodone \n",
      " mg     43265\n",
      "mL         1\n",
      "tab        1\n",
      "Name: DOSE_UNIT_RX, dtype: int64 \n",
      "\n",
      "Propofol \n",
      " mg    60244\n",
      "Name: DOSE_UNIT_RX, dtype: int64 \n",
      "\n",
      "Midazolam \n",
      " mg    24516\n",
      "Name: DOSE_UNIT_RX, dtype: int64 \n",
      "\n",
      "Lorazepam \n",
      " mg    72502\n",
      "Name: DOSE_UNIT_RX, dtype: int64 \n",
      "\n",
      "Dexmedetomidine \n",
      " mg    16914\n",
      "Name: DOSE_UNIT_RX, dtype: int64 \n",
      "\n",
      "Aspirin \n",
      " mg    67171\n",
      "Name: DOSE_UNIT_RX, dtype: int64 \n",
      "\n",
      "Pantoprazole \n",
      " mg    49018\n",
      "mL        1\n",
      "Name: DOSE_UNIT_RX, dtype: int64 \n",
      "\n",
      "Famotidine \n",
      " mg     35690\n",
      "tab        1\n",
      "Name: DOSE_UNIT_RX, dtype: int64 \n",
      "\n",
      "Ranitidine \n",
      " mg    22720\n",
      "Name: DOSE_UNIT_RX, dtype: int64 \n",
      "\n",
      "Omeprazole \n",
      " mg    18451\n",
      "Name: DOSE_UNIT_RX, dtype: int64 \n",
      "\n",
      "Ondansetron \n",
      " mg       54023\n",
      "mg/mL        1\n",
      "Name: DOSE_UNIT_RX, dtype: int64 \n",
      "\n",
      "Metoclopramide \n",
      " mg       15879\n",
      "mg/mL        1\n",
      "Name: DOSE_UNIT_RX, dtype: int64 \n",
      "\n",
      "Amiodarone \n",
      " mg    38497\n",
      "Name: DOSE_UNIT_RX, dtype: int64 \n",
      "\n",
      "Albumin 25% (12.5g / 50mL) \n",
      " Series([], Name: DOSE_UNIT_RX, dtype: int64) \n",
      "\n",
      "Potassium Chloride \n",
      " mEq     394917\n",
      "mmol         3\n",
      "mg           2\n",
      "mL           2\n",
      "Name: DOSE_UNIT_RX, dtype: int64 \n",
      "\n",
      "Levetiracetam \n",
      " mg       31037\n",
      "mg/mL        1\n",
      "Name: DOSE_UNIT_RX, dtype: int64 \n",
      "\n",
      "Gabapentin \n",
      " mg      18850\n",
      "dose        1\n",
      "mL          1\n",
      "Name: DOSE_UNIT_RX, dtype: int64 \n",
      "\n",
      "Meropenem \n",
      " mg    15182\n",
      "Name: DOSE_UNIT_RX, dtype: int64 \n",
      "\n",
      "Prednisone \n",
      " mg      27849\n",
      "dose        7\n",
      "Name: DOSE_UNIT_RX, dtype: int64 \n",
      "\n",
      "Dexamethasone \n",
      " mg     22476\n",
      "mL         9\n",
      "tab        1\n",
      "%          1\n",
      "Name: DOSE_UNIT_RX, dtype: int64 \n",
      "\n",
      "Tacrolimus \n",
      " mg      22802\n",
      "dose       75\n",
      "%          10\n",
      "appl        6\n",
      "tab         1\n",
      "Name: DOSE_UNIT_RX, dtype: int64 \n",
      "\n",
      "Diltiazem \n",
      " mg    20775\n",
      "Name: DOSE_UNIT_RX, dtype: int64 \n",
      "\n",
      "Thiamine \n",
      " mg      19207\n",
      "dose      289\n",
      "mL          6\n",
      "Name: DOSE_UNIT_RX, dtype: int64 \n",
      "\n",
      "Folic Acid \n",
      " mg    15286\n",
      "Name: DOSE_UNIT_RX, dtype: int64 \n",
      "\n",
      "Sodium Bicarbonate \n",
      " mEq    14720\n",
      "mg      3695\n",
      "amp        2\n",
      "mL         2\n",
      "tab        1\n",
      "syr        1\n",
      "Name: DOSE_UNIT_RX, dtype: int64 \n",
      "\n",
      "Vancomycin \n",
      " mg      109724\n",
      "dose      3959\n",
      "drop         1\n",
      "Name: DOSE_UNIT_RX, dtype: int64 \n",
      "\n",
      "Piperacillin-Tazobactam \n",
      " g    30210\n",
      "Name: DOSE_UNIT_RX, dtype: int64 \n",
      "\n",
      "Cefepime \n",
      " g    41302\n",
      "Name: DOSE_UNIT_RX, dtype: int64 \n",
      "\n",
      "Ceftazidime \n",
      " g    6664\n",
      "Name: DOSE_UNIT_RX, dtype: int64 \n",
      "\n",
      "Ampicillin-Sulbactam \n",
      " g    3920\n",
      "Name: DOSE_UNIT_RX, dtype: int64 \n",
      "\n",
      "Linezolid \n",
      " mg    4054\n",
      "Name: DOSE_UNIT_RX, dtype: int64 \n",
      "\n",
      "Azithromycin \n",
      " mg      12168\n",
      "drop        1\n",
      "Name: DOSE_UNIT_RX, dtype: int64 \n",
      "\n",
      "Ceftriaxone \n",
      " g    23254\n",
      "Name: DOSE_UNIT_RX, dtype: int64 \n",
      "\n",
      "Clindamycin \n",
      " mg      2532\n",
      "appl      17\n",
      "Name: DOSE_UNIT_RX, dtype: int64 \n",
      "\n",
      "Phenylephrine \n",
      " mg    39667\n",
      "mL        3\n",
      "Name: DOSE_UNIT_RX, dtype: int64 \n",
      "\n",
      "Norepinephrine \n",
      " mg    30166\n",
      "Name: DOSE_UNIT_RX, dtype: int64 \n",
      "\n",
      "Nitroglycerin \n",
      " mg    23856\n",
      "Name: DOSE_UNIT_RX, dtype: int64 \n",
      "\n",
      "Metronidazole \n",
      " mg      21020\n",
      "appl        1\n",
      "Name: DOSE_UNIT_RX, dtype: int64 \n",
      "\n",
      "Levofloxacin \n",
      " mg      9812\n",
      "drop       3\n",
      "Name: DOSE_UNIT_RX, dtype: int64 \n",
      "\n",
      "Ciprofloxacin \n",
      " mg      50\n",
      "drop     1\n",
      "Name: DOSE_UNIT_RX, dtype: int64 \n",
      "\n",
      "Haloperidol \n",
      " mg    25427\n",
      "Name: DOSE_UNIT_RX, dtype: int64 \n",
      "\n",
      "Simvastatin \n",
      " mg     11313\n",
      "cap       25\n",
      "Name: DOSE_UNIT_RX, dtype: int64 \n",
      "\n",
      "Atorvastatin \n",
      " mg     30316\n",
      "cap        1\n",
      "Name: DOSE_UNIT_RX, dtype: int64 \n",
      "\n",
      "Glucagon \n",
      " mg    46375\n",
      "Name: DOSE_UNIT_RX, dtype: int64 \n",
      "\n",
      "Warfarin \n",
      " mg      60278\n",
      "dose     6946\n",
      "Name: DOSE_UNIT_RX, dtype: int64 \n",
      "\n",
      "Lactulose \n",
      " mL    23122\n",
      "g         1\n",
      "Name: DOSE_UNIT_RX, dtype: int64 \n",
      "\n"
     ]
    }
   ],
   "source": [
    "for i in keep_drug:\n",
    "    print(i,'\\n',PRESCRIPTIONS[PRESCRIPTIONS.DRUG == i].DOSE_UNIT_RX.value_counts(),'\\n')"
   ]
  },
  {
   "cell_type": "code",
   "execution_count": 241,
   "id": "70d025c4-4d29-4520-98d1-d96e0be4b802",
   "metadata": {},
   "outputs": [],
   "source": [
    "PRESCRIPTIONS_keep_f = pd.merge(PRESCRIPTIONS[['HADM_ID', 'STARTDATE', 'ENDDATE', 'DRUG_TYPE', 'DRUG',\n",
    "       'GSN', 'NDC', 'DOSE_VAL_RX_processed']],df[['HADM_ID','ICUSTAY_ID','ADMITTIME','DISCHTIME','INTIME','OUTTIME']],on='HADM_ID',how='left')"
   ]
  },
  {
   "cell_type": "code",
   "execution_count": 244,
   "id": "86ed026c-5360-41c8-948f-44c9eefb9a7d",
   "metadata": {},
   "outputs": [
    {
     "data": {
      "text/plain": [
       "(67225, 27)"
      ]
     },
     "execution_count": 244,
     "metadata": {},
     "output_type": "execute_result"
    }
   ],
   "source": [
    "df.shape"
   ]
  },
  {
   "cell_type": "code",
   "execution_count": 243,
   "id": "403d90df-7161-4e8d-a06d-0972a4b0c9e3",
   "metadata": {},
   "outputs": [
    {
     "data": {
      "text/html": [
       "<div>\n",
       "<style scoped>\n",
       "    .dataframe tbody tr th:only-of-type {\n",
       "        vertical-align: middle;\n",
       "    }\n",
       "\n",
       "    .dataframe tbody tr th {\n",
       "        vertical-align: top;\n",
       "    }\n",
       "\n",
       "    .dataframe thead th {\n",
       "        text-align: right;\n",
       "    }\n",
       "</style>\n",
       "<table border=\"1\" class=\"dataframe\">\n",
       "  <thead>\n",
       "    <tr style=\"text-align: right;\">\n",
       "      <th></th>\n",
       "      <th>HADM_ID</th>\n",
       "      <th>STARTDATE</th>\n",
       "      <th>ENDDATE</th>\n",
       "      <th>DRUG_TYPE</th>\n",
       "      <th>DRUG</th>\n",
       "      <th>GSN</th>\n",
       "      <th>NDC</th>\n",
       "      <th>DOSE_VAL_RX_processed</th>\n",
       "      <th>ICUSTAY_ID</th>\n",
       "      <th>ADMITTIME</th>\n",
       "      <th>DISCHTIME</th>\n",
       "      <th>INTIME</th>\n",
       "      <th>OUTTIME</th>\n",
       "    </tr>\n",
       "  </thead>\n",
       "  <tbody>\n",
       "    <tr>\n",
       "      <th>0</th>\n",
       "      <td>25860671</td>\n",
       "      <td>2150-11-07 20:00:00</td>\n",
       "      <td>2150-11-12 18:00:00</td>\n",
       "      <td>MAIN</td>\n",
       "      <td>Metoprolol</td>\n",
       "      <td>050631</td>\n",
       "      <td>51079025520</td>\n",
       "      <td>12.5</td>\n",
       "      <td>37081114</td>\n",
       "      <td>2150-11-02 18:02:00</td>\n",
       "      <td>2150-11-12 13:45:00</td>\n",
       "      <td>2150-11-02 19:37:00</td>\n",
       "      <td>2150-11-06 17:03:17</td>\n",
       "    </tr>\n",
       "    <tr>\n",
       "      <th>1</th>\n",
       "      <td>25860671</td>\n",
       "      <td>2150-11-09 08:00:00</td>\n",
       "      <td>2150-11-08 10:00:00</td>\n",
       "      <td>MAIN</td>\n",
       "      <td>Vancomycin</td>\n",
       "      <td>009331</td>\n",
       "      <td>00409433201</td>\n",
       "      <td>1000.0</td>\n",
       "      <td>37081114</td>\n",
       "      <td>2150-11-02 18:02:00</td>\n",
       "      <td>2150-11-12 13:45:00</td>\n",
       "      <td>2150-11-02 19:37:00</td>\n",
       "      <td>2150-11-06 17:03:17</td>\n",
       "    </tr>\n",
       "  </tbody>\n",
       "</table>\n",
       "</div>"
      ],
      "text/plain": [
       "    HADM_ID           STARTDATE             ENDDATE DRUG_TYPE        DRUG  \\\n",
       "0  25860671 2150-11-07 20:00:00 2150-11-12 18:00:00      MAIN  Metoprolol   \n",
       "1  25860671 2150-11-09 08:00:00 2150-11-08 10:00:00      MAIN  Vancomycin   \n",
       "\n",
       "      GSN          NDC  DOSE_VAL_RX_processed  ICUSTAY_ID  \\\n",
       "0  050631  51079025520                   12.5    37081114   \n",
       "1  009331  00409433201                 1000.0    37081114   \n",
       "\n",
       "             ADMITTIME            DISCHTIME               INTIME  \\\n",
       "0  2150-11-02 18:02:00  2150-11-12 13:45:00  2150-11-02 19:37:00   \n",
       "1  2150-11-02 18:02:00  2150-11-12 13:45:00  2150-11-02 19:37:00   \n",
       "\n",
       "               OUTTIME  \n",
       "0  2150-11-06 17:03:17  \n",
       "1  2150-11-06 17:03:17  "
      ]
     },
     "execution_count": 243,
     "metadata": {},
     "output_type": "execute_result"
    }
   ],
   "source": [
    "PRESCRIPTIONS_keep_f.head(2)"
   ]
  },
  {
   "cell_type": "code",
   "execution_count": 245,
   "id": "6cef8b27-cba3-46f4-a81f-2298a832b40a",
   "metadata": {},
   "outputs": [
    {
     "data": {
      "text/plain": [
       "(3306944, 13)"
      ]
     },
     "execution_count": 245,
     "metadata": {},
     "output_type": "execute_result"
    }
   ],
   "source": [
    "PRESCRIPTIONS_keep_f.shape"
   ]
  },
  {
   "cell_type": "code",
   "execution_count": 246,
   "id": "25cd1633-01be-4cd6-b49a-f5709743a891",
   "metadata": {},
   "outputs": [],
   "source": [
    "PRESCRIPTIONS_keep_f.to_csv('D:/2025UTI/IV/IV_all_med.csv',index=False)"
   ]
  },
  {
   "cell_type": "code",
   "execution_count": 247,
   "id": "46e573db-4604-4a59-935a-c3b11979b559",
   "metadata": {},
   "outputs": [
    {
     "data": {
      "text/plain": [
       "Index(['HADM_ID', 'STARTDATE', 'ENDDATE', 'DRUG_TYPE', 'DRUG', 'GSN', 'NDC',\n",
       "       'DOSE_VAL_RX_processed', 'ICUSTAY_ID', 'ADMITTIME', 'DISCHTIME',\n",
       "       'INTIME', 'OUTTIME'],\n",
       "      dtype='object')"
      ]
     },
     "execution_count": 247,
     "metadata": {},
     "output_type": "execute_result"
    }
   ],
   "source": [
    "PRESCRIPTIONS_keep_f.columns"
   ]
  },
  {
   "cell_type": "code",
   "execution_count": 248,
   "id": "16228f45-7d85-4f85-8c45-0b600913f305",
   "metadata": {},
   "outputs": [],
   "source": [
    "date_columns = ['ADMITTIME', 'DISCHTIME', 'INTIME', 'OUTTIME','STARTDATE', 'ENDDATE']\n",
    "PRESCRIPTIONS_keep_f[date_columns] = PRESCRIPTIONS_keep_f[date_columns].apply(pd.to_datetime)"
   ]
  },
  {
   "cell_type": "code",
   "execution_count": 249,
   "id": "4fa64961-c721-4acc-9c40-1a0d952cd9d0",
   "metadata": {},
   "outputs": [
    {
     "data": {
      "text/plain": [
       "(1589155, 13)"
      ]
     },
     "execution_count": 249,
     "metadata": {},
     "output_type": "execute_result"
    }
   ],
   "source": [
    "# 先用maks保留 药物使用在入院至ICU结束期间的\n",
    "mask = (PRESCRIPTIONS_keep_f['STARTDATE'] >= PRESCRIPTIONS_keep_f['ADMITTIME']) & (PRESCRIPTIONS_keep_f['ENDDATE'] <= PRESCRIPTIONS_keep_f['OUTTIME'])\n",
    "PRESCRIPTIONS_keep_f = PRESCRIPTIONS_keep_f[mask]\n",
    "PRESCRIPTIONS_keep_f.shape"
   ]
  },
  {
   "cell_type": "code",
   "execution_count": 250,
   "id": "e319279b-4760-4f00-85b4-77df5bc81bf4",
   "metadata": {},
   "outputs": [],
   "source": [
    "PRESCRIPTIONS_keep_f['DRUG_hr_inICu'] = PRESCRIPTIONS_keep_f['STARTDATE'] - PRESCRIPTIONS_keep_f['INTIME']\n",
    "PRESCRIPTIONS_keep_f['DRUG_hr_inICu'] = PRESCRIPTIONS_keep_f['DRUG_hr_inICu'].dt.total_seconds() / 3600"
   ]
  },
  {
   "cell_type": "code",
   "execution_count": 251,
   "id": "ee7f9925-88e5-460d-aa1f-2aca8a285d90",
   "metadata": {},
   "outputs": [
    {
     "data": {
      "text/html": [
       "<div>\n",
       "<style scoped>\n",
       "    .dataframe tbody tr th:only-of-type {\n",
       "        vertical-align: middle;\n",
       "    }\n",
       "\n",
       "    .dataframe tbody tr th {\n",
       "        vertical-align: top;\n",
       "    }\n",
       "\n",
       "    .dataframe thead th {\n",
       "        text-align: right;\n",
       "    }\n",
       "</style>\n",
       "<table border=\"1\" class=\"dataframe\">\n",
       "  <thead>\n",
       "    <tr style=\"text-align: right;\">\n",
       "      <th></th>\n",
       "      <th>HADM_ID</th>\n",
       "      <th>STARTDATE</th>\n",
       "      <th>ENDDATE</th>\n",
       "      <th>DRUG_TYPE</th>\n",
       "      <th>DRUG</th>\n",
       "      <th>GSN</th>\n",
       "      <th>NDC</th>\n",
       "      <th>DOSE_VAL_RX_processed</th>\n",
       "      <th>ICUSTAY_ID</th>\n",
       "      <th>ADMITTIME</th>\n",
       "      <th>DISCHTIME</th>\n",
       "      <th>INTIME</th>\n",
       "      <th>OUTTIME</th>\n",
       "      <th>DRUG_hr_inICu</th>\n",
       "    </tr>\n",
       "  </thead>\n",
       "  <tbody>\n",
       "    <tr>\n",
       "      <th>3</th>\n",
       "      <td>25860671</td>\n",
       "      <td>2150-11-03 22:00:00</td>\n",
       "      <td>2150-11-04 21:00:00</td>\n",
       "      <td>MAIN</td>\n",
       "      <td>Haloperidol</td>\n",
       "      <td>003970</td>\n",
       "      <td>55390014710</td>\n",
       "      <td>0.5</td>\n",
       "      <td>37081114</td>\n",
       "      <td>2150-11-02 18:02:00</td>\n",
       "      <td>2150-11-12 13:45:00</td>\n",
       "      <td>2150-11-02 19:37:00</td>\n",
       "      <td>2150-11-06 17:03:17</td>\n",
       "      <td>26.383333</td>\n",
       "    </tr>\n",
       "    <tr>\n",
       "      <th>4</th>\n",
       "      <td>25860671</td>\n",
       "      <td>2150-11-03 00:00:00</td>\n",
       "      <td>2150-11-06 12:00:00</td>\n",
       "      <td>MAIN</td>\n",
       "      <td>Phenylephrine</td>\n",
       "      <td>005068</td>\n",
       "      <td>10019016312</td>\n",
       "      <td>60.0</td>\n",
       "      <td>37081114</td>\n",
       "      <td>2150-11-02 18:02:00</td>\n",
       "      <td>2150-11-12 13:45:00</td>\n",
       "      <td>2150-11-02 19:37:00</td>\n",
       "      <td>2150-11-06 17:03:17</td>\n",
       "      <td>4.383333</td>\n",
       "    </tr>\n",
       "  </tbody>\n",
       "</table>\n",
       "</div>"
      ],
      "text/plain": [
       "    HADM_ID           STARTDATE             ENDDATE DRUG_TYPE           DRUG  \\\n",
       "3  25860671 2150-11-03 22:00:00 2150-11-04 21:00:00      MAIN    Haloperidol   \n",
       "4  25860671 2150-11-03 00:00:00 2150-11-06 12:00:00      MAIN  Phenylephrine   \n",
       "\n",
       "      GSN          NDC  DOSE_VAL_RX_processed  ICUSTAY_ID           ADMITTIME  \\\n",
       "3  003970  55390014710                    0.5    37081114 2150-11-02 18:02:00   \n",
       "4  005068  10019016312                   60.0    37081114 2150-11-02 18:02:00   \n",
       "\n",
       "            DISCHTIME              INTIME             OUTTIME  DRUG_hr_inICu  \n",
       "3 2150-11-12 13:45:00 2150-11-02 19:37:00 2150-11-06 17:03:17      26.383333  \n",
       "4 2150-11-12 13:45:00 2150-11-02 19:37:00 2150-11-06 17:03:17       4.383333  "
      ]
     },
     "execution_count": 251,
     "metadata": {},
     "output_type": "execute_result"
    }
   ],
   "source": [
    "PRESCRIPTIONS_keep_f.head(2)"
   ]
  },
  {
   "cell_type": "code",
   "execution_count": 252,
   "id": "a6660d76-3b6a-4ace-b232-e0dd2565d543",
   "metadata": {},
   "outputs": [
    {
     "name": "stdout",
     "output_type": "stream",
     "text": [
      "(1113709, 14) 65034\n"
     ]
    },
    {
     "data": {
      "text/html": [
       "<div>\n",
       "<style scoped>\n",
       "    .dataframe tbody tr th:only-of-type {\n",
       "        vertical-align: middle;\n",
       "    }\n",
       "\n",
       "    .dataframe tbody tr th {\n",
       "        vertical-align: top;\n",
       "    }\n",
       "\n",
       "    .dataframe thead th {\n",
       "        text-align: right;\n",
       "    }\n",
       "</style>\n",
       "<table border=\"1\" class=\"dataframe\">\n",
       "  <thead>\n",
       "    <tr style=\"text-align: right;\">\n",
       "      <th>DRUG</th>\n",
       "      <th>ICUSTAY_ID</th>\n",
       "      <th>Acetaminophen</th>\n",
       "      <th>Amiodarone</th>\n",
       "      <th>Ampicillin-Sulbactam</th>\n",
       "      <th>Aspirin</th>\n",
       "      <th>Atorvastatin</th>\n",
       "      <th>Azithromycin</th>\n",
       "      <th>Calcium Gluconate</th>\n",
       "      <th>Cefepime</th>\n",
       "      <th>Ceftazidime</th>\n",
       "      <th>...</th>\n",
       "      <th>Potassium Chloride</th>\n",
       "      <th>Prednisone</th>\n",
       "      <th>Propofol</th>\n",
       "      <th>Ranitidine</th>\n",
       "      <th>Simvastatin</th>\n",
       "      <th>Sodium Bicarbonate</th>\n",
       "      <th>Tacrolimus</th>\n",
       "      <th>Thiamine</th>\n",
       "      <th>Vancomycin</th>\n",
       "      <th>Warfarin</th>\n",
       "    </tr>\n",
       "  </thead>\n",
       "  <tbody>\n",
       "    <tr>\n",
       "      <th>0</th>\n",
       "      <td>30000153</td>\n",
       "      <td>0.0</td>\n",
       "      <td>0.0</td>\n",
       "      <td>0.0</td>\n",
       "      <td>0.0</td>\n",
       "      <td>0.0</td>\n",
       "      <td>0.0</td>\n",
       "      <td>9.0</td>\n",
       "      <td>0.0</td>\n",
       "      <td>0.0</td>\n",
       "      <td>...</td>\n",
       "      <td>0.0</td>\n",
       "      <td>0.0</td>\n",
       "      <td>1200.0</td>\n",
       "      <td>0.0</td>\n",
       "      <td>0.0</td>\n",
       "      <td>0.0</td>\n",
       "      <td>0.0</td>\n",
       "      <td>100.0</td>\n",
       "      <td>0.0</td>\n",
       "      <td>0.0</td>\n",
       "    </tr>\n",
       "    <tr>\n",
       "      <th>1</th>\n",
       "      <td>30000213</td>\n",
       "      <td>0.0</td>\n",
       "      <td>0.0</td>\n",
       "      <td>0.0</td>\n",
       "      <td>0.0</td>\n",
       "      <td>0.0</td>\n",
       "      <td>0.0</td>\n",
       "      <td>0.0</td>\n",
       "      <td>0.0</td>\n",
       "      <td>0.0</td>\n",
       "      <td>...</td>\n",
       "      <td>0.0</td>\n",
       "      <td>0.0</td>\n",
       "      <td>2000.0</td>\n",
       "      <td>0.0</td>\n",
       "      <td>0.0</td>\n",
       "      <td>0.0</td>\n",
       "      <td>0.0</td>\n",
       "      <td>0.0</td>\n",
       "      <td>0.0</td>\n",
       "      <td>0.0</td>\n",
       "    </tr>\n",
       "    <tr>\n",
       "      <th>2</th>\n",
       "      <td>30000484</td>\n",
       "      <td>0.0</td>\n",
       "      <td>0.0</td>\n",
       "      <td>0.0</td>\n",
       "      <td>0.0</td>\n",
       "      <td>0.0</td>\n",
       "      <td>0.0</td>\n",
       "      <td>0.0</td>\n",
       "      <td>0.0</td>\n",
       "      <td>0.0</td>\n",
       "      <td>...</td>\n",
       "      <td>0.0</td>\n",
       "      <td>0.0</td>\n",
       "      <td>0.0</td>\n",
       "      <td>0.0</td>\n",
       "      <td>0.0</td>\n",
       "      <td>0.0</td>\n",
       "      <td>0.0</td>\n",
       "      <td>0.0</td>\n",
       "      <td>2000.0</td>\n",
       "      <td>0.0</td>\n",
       "    </tr>\n",
       "    <tr>\n",
       "      <th>3</th>\n",
       "      <td>30000646</td>\n",
       "      <td>0.0</td>\n",
       "      <td>0.0</td>\n",
       "      <td>0.0</td>\n",
       "      <td>0.0</td>\n",
       "      <td>0.0</td>\n",
       "      <td>0.0</td>\n",
       "      <td>0.0</td>\n",
       "      <td>0.0</td>\n",
       "      <td>0.0</td>\n",
       "      <td>...</td>\n",
       "      <td>140.0</td>\n",
       "      <td>0.0</td>\n",
       "      <td>0.0</td>\n",
       "      <td>0.0</td>\n",
       "      <td>0.0</td>\n",
       "      <td>0.0</td>\n",
       "      <td>0.0</td>\n",
       "      <td>0.0</td>\n",
       "      <td>2000.0</td>\n",
       "      <td>0.0</td>\n",
       "    </tr>\n",
       "    <tr>\n",
       "      <th>4</th>\n",
       "      <td>30000831</td>\n",
       "      <td>1000.0</td>\n",
       "      <td>0.0</td>\n",
       "      <td>0.0</td>\n",
       "      <td>381.0</td>\n",
       "      <td>0.0</td>\n",
       "      <td>0.0</td>\n",
       "      <td>0.0</td>\n",
       "      <td>4.0</td>\n",
       "      <td>0.0</td>\n",
       "      <td>...</td>\n",
       "      <td>0.0</td>\n",
       "      <td>0.0</td>\n",
       "      <td>0.0</td>\n",
       "      <td>0.0</td>\n",
       "      <td>0.0</td>\n",
       "      <td>0.0</td>\n",
       "      <td>0.0</td>\n",
       "      <td>0.0</td>\n",
       "      <td>0.0</td>\n",
       "      <td>0.0</td>\n",
       "    </tr>\n",
       "  </tbody>\n",
       "</table>\n",
       "<p>5 rows × 56 columns</p>\n",
       "</div>"
      ],
      "text/plain": [
       "DRUG  ICUSTAY_ID  Acetaminophen  Amiodarone  Ampicillin-Sulbactam  Aspirin  \\\n",
       "0       30000153            0.0         0.0                   0.0      0.0   \n",
       "1       30000213            0.0         0.0                   0.0      0.0   \n",
       "2       30000484            0.0         0.0                   0.0      0.0   \n",
       "3       30000646            0.0         0.0                   0.0      0.0   \n",
       "4       30000831         1000.0         0.0                   0.0    381.0   \n",
       "\n",
       "DRUG  Atorvastatin  Azithromycin  Calcium Gluconate  Cefepime  Ceftazidime  \\\n",
       "0              0.0           0.0                9.0       0.0          0.0   \n",
       "1              0.0           0.0                0.0       0.0          0.0   \n",
       "2              0.0           0.0                0.0       0.0          0.0   \n",
       "3              0.0           0.0                0.0       0.0          0.0   \n",
       "4              0.0           0.0                0.0       4.0          0.0   \n",
       "\n",
       "DRUG  ...  Potassium Chloride  Prednisone  Propofol  Ranitidine  Simvastatin  \\\n",
       "0     ...                 0.0         0.0    1200.0         0.0          0.0   \n",
       "1     ...                 0.0         0.0    2000.0         0.0          0.0   \n",
       "2     ...                 0.0         0.0       0.0         0.0          0.0   \n",
       "3     ...               140.0         0.0       0.0         0.0          0.0   \n",
       "4     ...                 0.0         0.0       0.0         0.0          0.0   \n",
       "\n",
       "DRUG  Sodium Bicarbonate  Tacrolimus  Thiamine  Vancomycin  Warfarin  \n",
       "0                    0.0         0.0     100.0         0.0       0.0  \n",
       "1                    0.0         0.0       0.0         0.0       0.0  \n",
       "2                    0.0         0.0       0.0      2000.0       0.0  \n",
       "3                    0.0         0.0       0.0      2000.0       0.0  \n",
       "4                    0.0         0.0       0.0         0.0       0.0  \n",
       "\n",
       "[5 rows x 56 columns]"
      ]
     },
     "execution_count": 252,
     "metadata": {},
     "output_type": "execute_result"
    }
   ],
   "source": [
    "# 从住院到进入ICU的 48小时内 的药物input sum\n",
    "PRESCRIPTIONS_keep_f_48 = PRESCRIPTIONS_keep_f[PRESCRIPTIONS_keep_f.DRUG_hr_inICu<=48]\n",
    "print(PRESCRIPTIONS_keep_f_48.shape, len(PRESCRIPTIONS_keep_f_48.ICUSTAY_ID.unique()))\n",
    "PRESCRIPTIONS_keep_f_48 = PRESCRIPTIONS_keep_f_48.groupby(['ICUSTAY_ID', 'DRUG'])['DOSE_VAL_RX_processed'].sum().unstack(fill_value=0).reset_index()\n",
    "PRESCRIPTIONS_keep_f_48.head()"
   ]
  },
  {
   "cell_type": "code",
   "execution_count": 253,
   "id": "e5c2745c-aead-4426-abb8-cbc32325a02c",
   "metadata": {},
   "outputs": [
    {
     "data": {
      "text/plain": [
       "(65034, 56)"
      ]
     },
     "execution_count": 253,
     "metadata": {},
     "output_type": "execute_result"
    }
   ],
   "source": [
    "PRESCRIPTIONS_keep_f_48.shape"
   ]
  },
  {
   "cell_type": "code",
   "execution_count": 257,
   "id": "2459388f-9cd9-48a6-913b-cf2a018cf3de",
   "metadata": {},
   "outputs": [
    {
     "name": "stdout",
     "output_type": "stream",
     "text": [
      "全部为0的列有： []\n"
     ]
    }
   ],
   "source": [
    "zero_columns = PRESCRIPTIONS_keep_f_48.columns[(PRESCRIPTIONS_keep_f_48 == 0).all()]\n",
    "print(\"全部为0的列有：\", list(zero_columns))"
   ]
  },
  {
   "cell_type": "code",
   "execution_count": 260,
   "id": "92385d4f-0127-447e-9569-e21623b63a43",
   "metadata": {},
   "outputs": [],
   "source": [
    "PRESCRIPTIONS_keep_f_48 = PRESCRIPTIONS_keep_f_48.rename(columns={col: f\"Med_{col}\" for col in PRESCRIPTIONS_keep_f_48.columns if col != 'ICUSTAY_ID'})"
   ]
  },
  {
   "cell_type": "code",
   "execution_count": 261,
   "id": "ffe8e3c6-fe11-41fa-97b2-8b8aadc703eb",
   "metadata": {},
   "outputs": [
    {
     "data": {
      "text/plain": [
       "Index(['ICUSTAY_ID', 'Med_Acetaminophen', 'Med_Amiodarone',\n",
       "       'Med_Ampicillin-Sulbactam', 'Med_Aspirin', 'Med_Atorvastatin',\n",
       "       'Med_Azithromycin', 'Med_Calcium Gluconate', 'Med_Cefepime',\n",
       "       'Med_Ceftazidime', 'Med_Ceftriaxone', 'Med_Ciprofloxacin',\n",
       "       'Med_Clindamycin', 'Med_Dexamethasone', 'Med_Dexmedetomidine',\n",
       "       'Med_Diltiazem', 'Med_Famotidine', 'Med_Fentanyl Citrate',\n",
       "       'Med_Folic Acid', 'Med_Furosemide', 'Med_Gabapentin', 'Med_Glucagon',\n",
       "       'Med_Haloperidol', 'Med_Heparin', 'Med_Hydromorphone', 'Med_Insulin',\n",
       "       'Med_Lactulose', 'Med_Levetiracetam', 'Med_Levofloxacin',\n",
       "       'Med_Linezolid', 'Med_Lorazepam', 'Med_Magnesium Sulfate',\n",
       "       'Med_Meropenem', 'Med_Metoclopramide', 'Med_Metoprolol',\n",
       "       'Med_Metronidazole', 'Med_Midazolam', 'Med_Morphine Sulfate',\n",
       "       'Med_Nitroglycerin', 'Med_Norepinephrine', 'Med_Omeprazole',\n",
       "       'Med_Ondansetron', 'Med_Oxycodone', 'Med_Pantoprazole',\n",
       "       'Med_Phenylephrine', 'Med_Piperacillin-Tazobactam',\n",
       "       'Med_Potassium Chloride', 'Med_Prednisone', 'Med_Propofol',\n",
       "       'Med_Ranitidine', 'Med_Simvastatin', 'Med_Sodium Bicarbonate',\n",
       "       'Med_Tacrolimus', 'Med_Thiamine', 'Med_Vancomycin', 'Med_Warfarin'],\n",
       "      dtype='object', name='DRUG')"
      ]
     },
     "execution_count": 261,
     "metadata": {},
     "output_type": "execute_result"
    }
   ],
   "source": [
    "PRESCRIPTIONS_keep_f_48.columns"
   ]
  },
  {
   "cell_type": "code",
   "execution_count": 262,
   "id": "36c92da1-9fda-4209-ade3-3680d3a636ba",
   "metadata": {
    "collapsed": true,
    "jupyter": {
     "outputs_hidden": true
    }
   },
   "outputs": [
    {
     "name": "stdout",
     "output_type": "stream",
     "text": [
      "DRUG\n",
      "ICUSTAY_ID                     1.000000\n",
      "Med_Acetaminophen              0.462004\n",
      "Med_Amiodarone                 0.060169\n",
      "Med_Ampicillin-Sulbactam       0.018513\n",
      "Med_Aspirin                    0.232970\n",
      "Med_Atorvastatin               0.102454\n",
      "Med_Azithromycin               0.067319\n",
      "Med_Calcium Gluconate          0.318941\n",
      "Med_Cefepime                   0.146493\n",
      "Med_Ceftazidime                0.022342\n",
      "Med_Ceftriaxone                0.113879\n",
      "Med_Ciprofloxacin              0.000215\n",
      "Med_Clindamycin                0.015792\n",
      "Med_Dexamethasone              0.052250\n",
      "Med_Dexmedetomidine            0.093059\n",
      "Med_Diltiazem                  0.041517\n",
      "Med_Famotidine                 0.193284\n",
      "Med_Fentanyl Citrate           0.311591\n",
      "Med_Folic Acid                 0.049774\n",
      "Med_Furosemide                 0.311975\n",
      "Med_Gabapentin                 0.046560\n",
      "Med_Glucagon                   0.138897\n",
      "Med_Haloperidol                0.048221\n",
      "Med_Heparin                    0.455208\n",
      "Med_Hydromorphone              0.202248\n",
      "Med_Insulin                    0.175554\n",
      "Med_Lactulose                  0.042255\n",
      "Med_Levetiracetam              0.086539\n",
      "Med_Levofloxacin               0.041640\n",
      "Med_Linezolid                  0.012071\n",
      "Med_Lorazepam                  0.186472\n",
      "Med_Magnesium Sulfate          0.425439\n",
      "Med_Meropenem                  0.035658\n",
      "Med_Metoclopramide             0.061491\n",
      "Med_Metoprolol                 0.313344\n",
      "Med_Metronidazole              0.095750\n",
      "Med_Midazolam                  0.121552\n",
      "Med_Morphine Sulfate           0.178691\n",
      "Med_Nitroglycerin              0.152136\n",
      "Med_Norepinephrine             0.178107\n",
      "Med_Omeprazole                 0.069456\n",
      "Med_Ondansetron                0.154765\n",
      "Med_Oxycodone                  0.107359\n",
      "Med_Pantoprazole               0.187010\n",
      "Med_Phenylephrine              0.243965\n",
      "Med_Piperacillin-Tazobactam    0.118876\n",
      "Med_Potassium Chloride         0.509503\n",
      "Med_Prednisone                 0.046806\n",
      "Med_Propofol                   0.355537\n",
      "Med_Ranitidine                 0.070332\n",
      "Med_Simvastatin                0.035135\n",
      "Med_Sodium Bicarbonate         0.067149\n",
      "Med_Tacrolimus                 0.014746\n",
      "Med_Thiamine                   0.070071\n",
      "Med_Vancomycin                 0.331811\n",
      "Med_Warfarin                   0.049005\n",
      "dtype: float64\n"
     ]
    }
   ],
   "source": [
    "nonzero_ratio = (PRESCRIPTIONS_keep_f_48 != 0).sum() / len(PRESCRIPTIONS_keep_f_48)\n",
    "print(nonzero_ratio)"
   ]
  },
  {
   "cell_type": "code",
   "execution_count": 264,
   "id": "70f83dbb-8fb6-431b-baec-467ef759503a",
   "metadata": {},
   "outputs": [
    {
     "data": {
      "text/plain": [
       "(65034, 56)"
      ]
     },
     "execution_count": 264,
     "metadata": {},
     "output_type": "execute_result"
    }
   ],
   "source": [
    "PRESCRIPTIONS_keep_f_48.shape"
   ]
  },
  {
   "cell_type": "code",
   "execution_count": 263,
   "id": "167ee660-7b4c-4e4e-be8f-e3fcb077061d",
   "metadata": {},
   "outputs": [],
   "source": [
    "PRESCRIPTIONS_keep_f_48.to_csv('D:/2025UTI/IV/IV_all_med_matchIII_48.csv',index=False)"
   ]
  },
  {
   "cell_type": "code",
   "execution_count": null,
   "id": "8a8cf710-0043-4ab7-af9a-be3dafc04670",
   "metadata": {},
   "outputs": [],
   "source": []
  },
  {
   "cell_type": "markdown",
   "id": "20a0b963-8549-445d-bf90-c3f172f4ed94",
   "metadata": {},
   "source": [
    "# Static Concat"
   ]
  },
  {
   "cell_type": "code",
   "execution_count": 2,
   "id": "4c840e9c-47db-4312-ac0a-b3763a47000a",
   "metadata": {},
   "outputs": [
    {
     "name": "stdout",
     "output_type": "stream",
     "text": [
      "------------------------------------------------------------------------\n",
      "Final Data： (67225, 27) SUBJECT_ID: 53715 HADM_ID: 67225 ICUSTAY_ID: 67225\n",
      "DIEINHOSPITAL: Counter({0: 59635, 1: 7590})\n",
      "DIEINICU: Counter({0: 62220, 1: 5005})\n",
      "Readmission_30: Counter({0: 64796, 1: 2429})\n",
      "Readmission_60: Counter({0: 62993, 1: 4232})\n",
      "ICU_within_12hr_of_admit: Counter({1: 47012, 0: 20213})\n",
      "Multiple_ICUs: Counter({0: 61177, 1: 6048})\n"
     ]
    }
   ],
   "source": [
    "df = pd.read_csv('D:/2025UTI/IV/MIMIC4_p.csv')\n",
    "print('------------------------------------------------------------------------')\n",
    "print('Final Data：',df.shape, 'SUBJECT_ID:',len(df.SUBJECT_ID.unique()),'HADM_ID:',len(df.HADM_ID.unique()), 'ICUSTAY_ID:',len(df.ICUSTAY_ID.unique()))\n",
    "print('DIEINHOSPITAL:',Counter(df['DIEINHOSPITAL']))\n",
    "print('DIEINICU:',Counter(df['DIEINICU']))\n",
    "print('Readmission_30:',Counter(df['Readmission_30']))\n",
    "print('Readmission_60:',Counter(df['Readmission_60']))\n",
    "print('ICU_within_12hr_of_admit:',Counter(df['ICU_within_12hr_of_admit']))\n",
    "print('Multiple_ICUs:',Counter(df['Multiple_ICUs']))"
   ]
  },
  {
   "cell_type": "code",
   "execution_count": 3,
   "id": "1cabef04-0700-41a6-832f-ff091e7059ba",
   "metadata": {},
   "outputs": [],
   "source": [
    "diag = pd.read_csv('D:/2025UTI/IV/IV_all_diag_matchIII.csv')\n",
    "proc = pd.read_csv('D:/2025UTI/IV/IV_all_pro_matchIII.csv')\n",
    "med = pd.read_csv('D:/2025UTI/IV/IV_all_med_matchIII_48.csv')"
   ]
  },
  {
   "cell_type": "code",
   "execution_count": 5,
   "id": "95e92e51-49bf-418f-8445-025bca8ed18e",
   "metadata": {},
   "outputs": [
    {
     "name": "stdout",
     "output_type": "stream",
     "text": [
      "(66981, 211) (47420, 82) (65034, 56)\n"
     ]
    }
   ],
   "source": [
    "print(diag.shape, proc.shape, med.shape)"
   ]
  },
  {
   "cell_type": "code",
   "execution_count": 7,
   "id": "29b1912c-29a1-4201-874a-eead842e4672",
   "metadata": {},
   "outputs": [
    {
     "data": {
      "text/plain": [
       "Index(['HADM_ID', 'Diag_9_2113', 'Diag_9_39891', 'Diag_9_43310', 'Diag_9_5570',\n",
       "       'Diag_9_64891', 'Diag_9_66411', 'Diag_9_6930', 'Diag_9_7464',\n",
       "       'Diag_9_7470',\n",
       "       ...\n",
       "       'Group_CKD', 'Group_PCOS', 'Group_Neoplasm_ovary',\n",
       "       'Group_Endometriosis', 'Group_Leiomyoma', 'Group_Va_uti',\n",
       "       'Diag_Personal history of antineoplastic chemotherapy',\n",
       "       'Diag_Personal history of pulmonary embolism',\n",
       "       'Diag_Personal history of transient ischemic attack (TIA), and cerebral infarction without residual deficits',\n",
       "       'Diag_Pneumonia, unspecified organism'],\n",
       "      dtype='object', length=211)"
      ]
     },
     "execution_count": 7,
     "metadata": {},
     "output_type": "execute_result"
    }
   ],
   "source": [
    "diag.columns"
   ]
  },
  {
   "cell_type": "code",
   "execution_count": 8,
   "id": "b51f761b-8d20-4593-b36f-96b70f4fa951",
   "metadata": {},
   "outputs": [
    {
     "data": {
      "text/plain": [
       "Index(['ICUSTAY_ID', 'Pro_0014', 'Pro_0017', 'Pro_0040', 'Pro_0045',\n",
       "       'Pro_0066', 'Pro_0159', 'Pro_0331', 'Pro_0741', 'Pro_311', 'Pro_3322',\n",
       "       'Pro_3323', 'Pro_3324', 'Pro_3404', 'Pro_3491', 'Pro_3521', 'Pro_3522',\n",
       "       'Pro_3606', 'Pro_3607', 'Pro_3611', 'Pro_3612', 'Pro_3613', 'Pro_3615',\n",
       "       'Pro_3721', 'Pro_3722', 'Pro_3723', 'Pro_3761', 'Pro_3845', 'Pro_387',\n",
       "       'Pro_3891', 'Pro_3893', 'Pro_3895', 'Pro_3897', 'Pro_3899', 'Pro_3950',\n",
       "       'Pro_3961', 'Pro_3995', 'Pro_4311', 'Pro_4443', 'Pro_4513', 'Pro_4516',\n",
       "       'Pro_4523', 'Pro_5185', 'Pro_5459', 'Pro_5491', 'Pro_7309', 'Pro_734',\n",
       "       'Pro_7359', 'Pro_7569', 'Pro_8051', 'Pro_8162', 'Pro_8622', 'Pro_8659',\n",
       "       'Pro_8744', 'Pro_8841', 'Pro_8842', 'Pro_8847', 'Pro_8848', 'Pro_8852',\n",
       "       'Pro_8853', 'Pro_8855', 'Pro_8856', 'Pro_8872', 'Pro_8938', 'Pro_8964',\n",
       "       'Pro_9390', 'Pro_9604', 'Pro_9605', 'Pro_9607', 'Pro_966', 'Pro_9671',\n",
       "       'Pro_9672', 'Pro_9904', 'Pro_9905', 'Pro_9907', 'Pro_9910', 'Pro_9915',\n",
       "       'Pro_9920', 'Pro_9925', 'Pro_9955', 'Pro_9960', 'Pro_9962'],\n",
       "      dtype='object')"
      ]
     },
     "execution_count": 8,
     "metadata": {},
     "output_type": "execute_result"
    }
   ],
   "source": [
    "proc.columns"
   ]
  },
  {
   "cell_type": "code",
   "execution_count": 9,
   "id": "d66b88ea-dd51-444e-b83b-f46e0c8f6c7a",
   "metadata": {},
   "outputs": [
    {
     "data": {
      "text/plain": [
       "Index(['ICUSTAY_ID', 'Med_Acetaminophen', 'Med_Amiodarone',\n",
       "       'Med_Ampicillin-Sulbactam', 'Med_Aspirin', 'Med_Atorvastatin',\n",
       "       'Med_Azithromycin', 'Med_Calcium Gluconate', 'Med_Cefepime',\n",
       "       'Med_Ceftazidime', 'Med_Ceftriaxone', 'Med_Ciprofloxacin',\n",
       "       'Med_Clindamycin', 'Med_Dexamethasone', 'Med_Dexmedetomidine',\n",
       "       'Med_Diltiazem', 'Med_Famotidine', 'Med_Fentanyl Citrate',\n",
       "       'Med_Folic Acid', 'Med_Furosemide', 'Med_Gabapentin', 'Med_Glucagon',\n",
       "       'Med_Haloperidol', 'Med_Heparin', 'Med_Hydromorphone', 'Med_Insulin',\n",
       "       'Med_Lactulose', 'Med_Levetiracetam', 'Med_Levofloxacin',\n",
       "       'Med_Linezolid', 'Med_Lorazepam', 'Med_Magnesium Sulfate',\n",
       "       'Med_Meropenem', 'Med_Metoclopramide', 'Med_Metoprolol',\n",
       "       'Med_Metronidazole', 'Med_Midazolam', 'Med_Morphine Sulfate',\n",
       "       'Med_Nitroglycerin', 'Med_Norepinephrine', 'Med_Omeprazole',\n",
       "       'Med_Ondansetron', 'Med_Oxycodone', 'Med_Pantoprazole',\n",
       "       'Med_Phenylephrine', 'Med_Piperacillin-Tazobactam',\n",
       "       'Med_Potassium Chloride', 'Med_Prednisone', 'Med_Propofol',\n",
       "       'Med_Ranitidine', 'Med_Simvastatin', 'Med_Sodium Bicarbonate',\n",
       "       'Med_Tacrolimus', 'Med_Thiamine', 'Med_Vancomycin', 'Med_Warfarin'],\n",
       "      dtype='object')"
      ]
     },
     "execution_count": 9,
     "metadata": {},
     "output_type": "execute_result"
    }
   ],
   "source": [
    "med.columns"
   ]
  },
  {
   "cell_type": "code",
   "execution_count": 10,
   "id": "7174fbdb-c4bb-4d55-adfe-d9258949cbb3",
   "metadata": {},
   "outputs": [
    {
     "name": "stdout",
     "output_type": "stream",
     "text": [
      "(67225, 27) (67225, 373)\n"
     ]
    }
   ],
   "source": [
    "Final_df = pd.merge(df,diag,on='HADM_ID',how='left')\n",
    "Final_df = pd.merge(Final_df,proc,on='ICUSTAY_ID',how='left')\n",
    "Final_df = pd.merge(Final_df,med,on='ICUSTAY_ID',how='left')\n",
    "print(df.shape, Final_df.shape)"
   ]
  },
  {
   "cell_type": "code",
   "execution_count": 12,
   "id": "72e5a320-9679-4f4d-8a09-69887d000a85",
   "metadata": {},
   "outputs": [
    {
     "data": {
      "text/plain": [
       "346"
      ]
     },
     "execution_count": 12,
     "metadata": {},
     "output_type": "execute_result"
    }
   ],
   "source": [
    "dpm_cols = list(pd.unique(diag.columns.tolist() + proc.columns.tolist() + med.columns.tolist()))\n",
    "dpm_cols = list(set(dpm_cols)-set(['HADM_ID','ICUSTAY_ID']))\n",
    "len(dpm_cols)"
   ]
  },
  {
   "cell_type": "code",
   "execution_count": 16,
   "id": "784b9674-bc06-4a08-8e92-99e10118a822",
   "metadata": {},
   "outputs": [
    {
     "data": {
      "text/plain": [
       "342"
      ]
     },
     "execution_count": 16,
     "metadata": {},
     "output_type": "execute_result"
    }
   ],
   "source": [
    "iii_acols = ['Pro_9607', 'Diag_9_E8798', 'Diag_9_66411', 'Diag_10_K22', 'Diag_10_R00', 'Pro_3722', 'Diag_10_C33', 'Pro_9905', 'Pro_8841', 'Diag_10_I73', 'Pro_3606', 'Pro_8842', 'Diag_10_I47', 'Diag_9_V420', 'Diag_9_86121', 'Pro_0017', 'Diag_9_99731', 'Diag_10_R09', 'Med_Piperacillin-Tazobactam', 'Pro_3895', 'Pro_8852', 'Diag_10_I67', 'Diag_9_43310', 'Group_Va_uti', 'Diag_9_6930', 'Diag_10_I82', 'Diag_10_R06', 'Med_Potassium Chloride', 'Diag_10_G97', 'Pro_3615', 'Pro_0040', 'Pro_9907', 'Med_Diltiazem', 'Pro_0014', 'Med_Ciprofloxacin', 'Diag_10_B95', 'Diag_10_C61', 'Pro_734', 'Med_Morphine Sulfate', 'Med_Vancomycin', 'Diag_10_I34', 'Diag_10_Z80', 'Diag_10_B37', 'Diag_10_L89', 'Pro_9925', 'Pro_9960', 'Diag_10_D69', 'Diag_9_E9320', 'Pro_8847', 'Med_Famotidine', 'Diag_10_I25', 'Med_Oxycodone', 'Diag_10_Z91', 'Pro_9955', 'Med_Metoclopramide', 'Diag_10_J93', 'Diag_10_E44', 'Med_Tacrolimus', 'Pro_9604', 'Diag_10_E78', 'Diag_10_G20', 'Med_Thiamine', 'Diag_10_D61', 'Med_Levofloxacin', 'Pro_8964', 'Pro_3322', 'Diag_10_I60', 'Pro_9671', 'Diag_10_S01', 'Diag_10_F05', 'Diag_9_9975', 'Pro_3721', 'Diag_10_I31', 'Diag_10_Z23', 'Pro_8938', 'Group_Leiomyoma', 'Diag_9_V462', 'Med_Ranitidine', 'Diag_10_C22', 'Pro_3491', 'Diag_10_R63', 'Pro_3404', 'Diag_10_K70', 'Diag_10_E22', 'Diag_10_J41', 'Med_Prednisone', 'Pro_7359', 'Diag_10_J44', 'Pro_8853', 'Diag_Personal history of antineoplastic chemotherapy', 'Diag_10_G40', 'Diag_10_D66', 'Pro_3613', 'Diag_9_9974', 'Diag_10_K80', 'Diag_10_G89', 'Med_Phenylephrine', 'Med_Ceftazidime', 'Diag_10_S12', 'Pro_387', 'Diag_10_C78', 'Diag_10_G61', 'Med_Furosemide', 'Diag_10_N23', 'Diag_10_E28', 'Diag_10_F30', 'Group_AKI', 'Med_Simvastatin', 'Med_Haloperidol', 'Med_Folic Acid', 'Med_Metronidazole', 'Diag_9_V1251', 'Diag_10_I26', 'Med_Midazolam', 'Pro_0045', 'Med_Magnesium Sulfate', 'Diag_10_N72', 'Med_Atorvastatin', 'Diag_10_C82', 'Med_Lactulose', 'Diag_10_E87', 'Diag_10_I50', 'Diag_10_M81', 'Diag_10_G30', 'Diag_10_R69', 'Diag_10_J43', 'Diag_10_Z87', 'Diag_10_K56', 'Diag_9_V422', 'Diag_10_K92', 'Diag_9_7464', 'Diag_10_F04', 'Diag_10_T78', 'Med_Omeprazole', 'Med_Calcium Gluconate', 'Med_Norepinephrine', 'Med_Ondansetron', 'Diag_10_D50', 'Group_Endometriosis', 'Diag_10_K76', 'Diag_9_V433', 'Pro_3521', 'Diag_10_I61', 'Diag_10_I66', 'Diag_10_C79', 'Pro_4523', 'Med_Dexmedetomidine', 'Diag_10_R10', 'Group_PCOS', 'Diag_10_I20', 'Diag_10_Z95', 'Med_Warfarin', 'Diag_10_I08', 'Diag_9_2113', 'Diag_10_B15', 'Diag_10_N05', 'Diag_10_N13', 'Pro_3611', 'Pro_8744', 'Pro_311', 'Diag_10_R78', 'Pro_9915', 'Diag_10_A40', 'Diag_10_M15', 'Diag_10_G93', 'Diag_10_R58', 'Diag_10_N28', 'Diag_10_K31', 'Diag_10_M06', 'Pro_3950', 'Diag_10_I12', 'Diag_10_F10', 'Med_Sodium Bicarbonate', 'Group_Neoplasm_ovary', 'Med_Nitroglycerin', 'Med_Azithromycin', 'Diag_10_H40', 'Diag_Pneumonia, unspecified organism', 'Diag_10_K66', 'Pro_3522', 'Pro_8162', 'Diag_10_E11', 'Diag_9_E9478', 'Med_Ceftriaxone', 'Diag_10_I62', 'Diag_10_I70', 'Diag_10_G44', 'Diag_10_I33', 'Diag_10_R68', 'Diag_9_7470', 'Diag_10_S06', 'Group_CKD', 'Diag_9_99702', 'Pro_4516', 'Med_Acetaminophen', 'Diag_9_V4365', 'Med_Gabapentin', 'Diag_10_I95', 'Diag_10_H35', 'Diag_10_N39', 'Med_Amiodarone', 'Pro_3324', 'Pro_3612', 'Diag_10_M79', 'Diag_10_F19', 'Pro_3845', 'Diag_10_Z00', 'Diag_9_E9342', 'Pro_4513', 'Pro_5459', 'Diag_10_Z81', 'Pro_9672', 'Diag_10_K85', 'Diag_10_I85', 'Med_Pantoprazole', 'Diag_10_Q20', 'Diag_10_E43', 'Diag_10_I07', 'Pro_3995', 'Diag_10_Z85', 'Pro_3323', 'Diag_9_E8788', 'Diag_9_39891', 'Diag_9_V1259', 'Diag_9_E8786', 'Diag_10_K91', 'Diag_10_Z16', 'Diag_10_A04', 'Diag_10_J84', 'Pro_9390', 'Diag_9_E8780', 'Diag_9_E8497', 'Diag_9_E8781', 'Diag_10_Z51', 'Diag_10_J15', 'Pro_7569', 'Diag_9_E8499', 'Diag_10_I10', 'Diag_10_E89', 'Diag_10_N92', 'Diag_10_F41', 'Pro_9920', 'Diag_10_R19', 'Diag_9_9973', 'Med_Dexamethasone', 'Diag_10_B20', 'Diag_10_K75', 'Med_Insulin', 'Diag_9_64891', 'Med_Lorazepam', 'Pro_4443', 'Pro_3893', 'Pro_9605', 'Diag_10_D70', 'Pro_8051', 'Med_Propofol', 'Diag_10_J45', 'Pro_3723', 'Diag_10_I42', 'Diag_10_O75', 'Pro_8848', 'Diag_9_V440', 'Diag_10_K41', 'Diag_10_F43', 'Diag_10_M60', 'Diag_10_J69', 'Med_Meropenem', 'Diag_9_E9331', 'Diag_10_I24', 'Diag_10_E66', 'Med_Fentanyl Citrate', 'Diag_10_M48', 'Diag_10_T81', 'Diag_10_G43', 'Diag_10_G35', 'Diag_10_G60', 'Pro_8856', 'Med_Aspirin', 'Pro_966', 'Diag_9_V6284', 'Med_Levetiracetam', 'Diag_9_E8490', 'Med_Cefepime', 'Diag_10_T82', 'Pro_3607', 'Diag_10_E83', 'Med_Heparin', 'Med_Linezolid', 'Diag_10_G81', 'Pro_3761', 'Diag_9_V441', 'Pro_3961', 'Diag_9_E8498', 'Diag_9_E8782', 'Diag_10_I69', 'Diag_10_R45', 'Pro_3899', 'Diag_9_5570', 'Pro_9910', 'Pro_3891', 'Pro_9962', 'Diag_Personal history of pulmonary embolism', 'Pro_3897', 'Med_Clindamycin', 'Pro_5491', 'Diag_10_I44', 'Pro_5185', 'Pro_0066', 'Diag_10_Z21', 'Pro_9904', 'Diag_10_K57', 'Pro_4311', 'Diag_10_K59', 'Pro_8622', 'Diag_10_M32', 'Diag_10_F32', 'Pro_0159', 'Med_Ampicillin-Sulbactam', 'Pro_7309', 'Med_Hydromorphone', 'Pro_8855', 'Med_Metoprolol', 'Diag_10_I21', 'Diag_10_M10', 'Diag_10_I71', 'Diag_10_J95', 'Med_Glucagon', 'Diag_Personal history of transient ischemic attack (TIA), and cerebral infarction without residual deficits', 'Diag_9_E8859', 'Pro_8659', 'Diag_9_E8790', 'Pro_8872', 'Diag_10_G47', 'Diag_10_D64', 'Diag_10_I27', 'Diag_10_J98', 'Diag_9_9971', 'Pro_0331', 'Diag_10_K29', 'Pro_0741', 'Diag_10_L03', 'Diag_10_S27']\n",
    "len(iii_acols)"
   ]
  },
  {
   "cell_type": "code",
   "execution_count": 18,
   "id": "bad75969-f191-4356-aa6e-ed07be5fe266",
   "metadata": {},
   "outputs": [
    {
     "name": "stdout",
     "output_type": "stream",
     "text": [
      "set()\n"
     ]
    }
   ],
   "source": [
    "print(set(iii_acols)-set(dpm_cols))"
   ]
  },
  {
   "cell_type": "code",
   "execution_count": 17,
   "id": "1bbd8d56-5d27-438d-b96c-9c95b463ff5e",
   "metadata": {},
   "outputs": [
    {
     "name": "stdout",
     "output_type": "stream",
     "text": [
      "{'Diag_10_A419', 'Diag_10_R6521', 'Diag_10_Z794', 'Diag_10_D62'}\n"
     ]
    }
   ],
   "source": [
    "print(set(dpm_cols)-set(iii_acols))"
   ]
  },
  {
   "cell_type": "code",
   "execution_count": 15,
   "id": "79633d4f-62c2-4cce-bc6f-c989583fd947",
   "metadata": {},
   "outputs": [
    {
     "data": {
      "text/plain": [
       "(67207, 373)"
      ]
     },
     "execution_count": 15,
     "metadata": {},
     "output_type": "execute_result"
    }
   ],
   "source": [
    "# 删除 dpm 全部为空的行\n",
    "Final_df = Final_df[~(Final_df[dpm_cols].isna().all(axis=1))]\n",
    "Final_df.shape"
   ]
  },
  {
   "cell_type": "code",
   "execution_count": 19,
   "id": "af9c19db-6e17-49e7-9bf1-ed032330a472",
   "metadata": {},
   "outputs": [],
   "source": [
    "## 填补缺失\n",
    "Final_df[dpm_cols] = Final_df[dpm_cols].fillna(0)"
   ]
  },
  {
   "cell_type": "code",
   "execution_count": 20,
   "id": "39cabee0-4a93-46e8-b1c0-0d4d9c952a7e",
   "metadata": {},
   "outputs": [
    {
     "data": {
      "text/html": [
       "<div>\n",
       "<style scoped>\n",
       "    .dataframe tbody tr th:only-of-type {\n",
       "        vertical-align: middle;\n",
       "    }\n",
       "\n",
       "    .dataframe tbody tr th {\n",
       "        vertical-align: top;\n",
       "    }\n",
       "\n",
       "    .dataframe thead th {\n",
       "        text-align: right;\n",
       "    }\n",
       "</style>\n",
       "<table border=\"1\" class=\"dataframe\">\n",
       "  <thead>\n",
       "    <tr style=\"text-align: right;\">\n",
       "      <th></th>\n",
       "      <th>SUBJECT_ID</th>\n",
       "      <th>HADM_ID</th>\n",
       "      <th>ICUSTAY_ID</th>\n",
       "      <th>ADMITTIME</th>\n",
       "      <th>INTIME</th>\n",
       "      <th>DISCHTIME</th>\n",
       "      <th>OUTTIME</th>\n",
       "      <th>GENDER</th>\n",
       "      <th>DOB</th>\n",
       "      <th>DOD</th>\n",
       "      <th>...</th>\n",
       "      <th>Med_Potassium Chloride</th>\n",
       "      <th>Med_Prednisone</th>\n",
       "      <th>Med_Propofol</th>\n",
       "      <th>Med_Ranitidine</th>\n",
       "      <th>Med_Simvastatin</th>\n",
       "      <th>Med_Sodium Bicarbonate</th>\n",
       "      <th>Med_Tacrolimus</th>\n",
       "      <th>Med_Thiamine</th>\n",
       "      <th>Med_Vancomycin</th>\n",
       "      <th>Med_Warfarin</th>\n",
       "    </tr>\n",
       "  </thead>\n",
       "  <tbody>\n",
       "    <tr>\n",
       "      <th>0</th>\n",
       "      <td>10000690</td>\n",
       "      <td>25860671</td>\n",
       "      <td>37081114</td>\n",
       "      <td>2150-11-02 18:02:00</td>\n",
       "      <td>2150-11-02 19:37:00</td>\n",
       "      <td>2150-11-12 13:45:00</td>\n",
       "      <td>2150-11-06 17:03:17</td>\n",
       "      <td>F</td>\n",
       "      <td>2064-01-01 00:00:00</td>\n",
       "      <td>2152-01-30 00:00:00</td>\n",
       "      <td>...</td>\n",
       "      <td>0.0</td>\n",
       "      <td>0.0</td>\n",
       "      <td>0.0</td>\n",
       "      <td>0.0</td>\n",
       "      <td>0.0</td>\n",
       "      <td>0.0</td>\n",
       "      <td>0.0</td>\n",
       "      <td>0.0</td>\n",
       "      <td>0.0</td>\n",
       "      <td>0.0</td>\n",
       "    </tr>\n",
       "    <tr>\n",
       "      <th>1</th>\n",
       "      <td>10001217</td>\n",
       "      <td>24597018</td>\n",
       "      <td>37067082</td>\n",
       "      <td>2157-11-18 22:56:00</td>\n",
       "      <td>2157-11-20 19:18:02</td>\n",
       "      <td>2157-11-25 18:00:00</td>\n",
       "      <td>2157-11-21 22:08:00</td>\n",
       "      <td>F</td>\n",
       "      <td>2102-01-01 00:00:00</td>\n",
       "      <td>NaN</td>\n",
       "      <td>...</td>\n",
       "      <td>0.0</td>\n",
       "      <td>0.0</td>\n",
       "      <td>0.0</td>\n",
       "      <td>0.0</td>\n",
       "      <td>0.0</td>\n",
       "      <td>0.0</td>\n",
       "      <td>0.0</td>\n",
       "      <td>0.0</td>\n",
       "      <td>0.0</td>\n",
       "      <td>0.0</td>\n",
       "    </tr>\n",
       "    <tr>\n",
       "      <th>2</th>\n",
       "      <td>10001725</td>\n",
       "      <td>25563031</td>\n",
       "      <td>31205490</td>\n",
       "      <td>2110-04-11 15:08:00</td>\n",
       "      <td>2110-04-11 15:52:22</td>\n",
       "      <td>2110-04-14 15:00:00</td>\n",
       "      <td>2110-04-12 23:59:56</td>\n",
       "      <td>F</td>\n",
       "      <td>2064-01-01 00:00:00</td>\n",
       "      <td>NaN</td>\n",
       "      <td>...</td>\n",
       "      <td>120.0</td>\n",
       "      <td>0.0</td>\n",
       "      <td>0.0</td>\n",
       "      <td>0.0</td>\n",
       "      <td>0.0</td>\n",
       "      <td>0.0</td>\n",
       "      <td>0.0</td>\n",
       "      <td>0.0</td>\n",
       "      <td>0.0</td>\n",
       "      <td>0.0</td>\n",
       "    </tr>\n",
       "    <tr>\n",
       "      <th>3</th>\n",
       "      <td>10001884</td>\n",
       "      <td>26184834</td>\n",
       "      <td>37510196</td>\n",
       "      <td>2131-01-07 20:39:00</td>\n",
       "      <td>2131-01-11 04:20:05</td>\n",
       "      <td>2131-01-20 05:15:00</td>\n",
       "      <td>2131-01-20 08:27:30</td>\n",
       "      <td>F</td>\n",
       "      <td>2054-01-01 00:00:00</td>\n",
       "      <td>2131-01-20 00:00:00</td>\n",
       "      <td>...</td>\n",
       "      <td>0.0</td>\n",
       "      <td>40.0</td>\n",
       "      <td>1200.0</td>\n",
       "      <td>300.0</td>\n",
       "      <td>0.0</td>\n",
       "      <td>0.0</td>\n",
       "      <td>0.0</td>\n",
       "      <td>100.0</td>\n",
       "      <td>2750.0</td>\n",
       "      <td>0.0</td>\n",
       "    </tr>\n",
       "    <tr>\n",
       "      <th>4</th>\n",
       "      <td>10002013</td>\n",
       "      <td>23581541</td>\n",
       "      <td>39060235</td>\n",
       "      <td>2160-05-18 07:45:00</td>\n",
       "      <td>2160-05-18 10:00:53</td>\n",
       "      <td>2160-05-23 13:30:00</td>\n",
       "      <td>2160-05-19 17:33:33</td>\n",
       "      <td>F</td>\n",
       "      <td>2103-01-01 00:00:00</td>\n",
       "      <td>NaN</td>\n",
       "      <td>...</td>\n",
       "      <td>20.0</td>\n",
       "      <td>0.0</td>\n",
       "      <td>1000.0</td>\n",
       "      <td>300.0</td>\n",
       "      <td>0.0</td>\n",
       "      <td>0.0</td>\n",
       "      <td>0.0</td>\n",
       "      <td>0.0</td>\n",
       "      <td>0.0</td>\n",
       "      <td>0.0</td>\n",
       "    </tr>\n",
       "  </tbody>\n",
       "</table>\n",
       "<p>5 rows × 373 columns</p>\n",
       "</div>"
      ],
      "text/plain": [
       "   SUBJECT_ID   HADM_ID  ICUSTAY_ID            ADMITTIME               INTIME  \\\n",
       "0    10000690  25860671    37081114  2150-11-02 18:02:00  2150-11-02 19:37:00   \n",
       "1    10001217  24597018    37067082  2157-11-18 22:56:00  2157-11-20 19:18:02   \n",
       "2    10001725  25563031    31205490  2110-04-11 15:08:00  2110-04-11 15:52:22   \n",
       "3    10001884  26184834    37510196  2131-01-07 20:39:00  2131-01-11 04:20:05   \n",
       "4    10002013  23581541    39060235  2160-05-18 07:45:00  2160-05-18 10:00:53   \n",
       "\n",
       "             DISCHTIME              OUTTIME GENDER                  DOB  \\\n",
       "0  2150-11-12 13:45:00  2150-11-06 17:03:17      F  2064-01-01 00:00:00   \n",
       "1  2157-11-25 18:00:00  2157-11-21 22:08:00      F  2102-01-01 00:00:00   \n",
       "2  2110-04-14 15:00:00  2110-04-12 23:59:56      F  2064-01-01 00:00:00   \n",
       "3  2131-01-20 05:15:00  2131-01-20 08:27:30      F  2054-01-01 00:00:00   \n",
       "4  2160-05-23 13:30:00  2160-05-19 17:33:33      F  2103-01-01 00:00:00   \n",
       "\n",
       "                   DOD  ... Med_Potassium Chloride Med_Prednisone  \\\n",
       "0  2152-01-30 00:00:00  ...                    0.0            0.0   \n",
       "1                  NaN  ...                    0.0            0.0   \n",
       "2                  NaN  ...                  120.0            0.0   \n",
       "3  2131-01-20 00:00:00  ...                    0.0           40.0   \n",
       "4                  NaN  ...                   20.0            0.0   \n",
       "\n",
       "  Med_Propofol Med_Ranitidine Med_Simvastatin Med_Sodium Bicarbonate  \\\n",
       "0          0.0            0.0             0.0                    0.0   \n",
       "1          0.0            0.0             0.0                    0.0   \n",
       "2          0.0            0.0             0.0                    0.0   \n",
       "3       1200.0          300.0             0.0                    0.0   \n",
       "4       1000.0          300.0             0.0                    0.0   \n",
       "\n",
       "   Med_Tacrolimus  Med_Thiamine  Med_Vancomycin  Med_Warfarin  \n",
       "0             0.0           0.0             0.0           0.0  \n",
       "1             0.0           0.0             0.0           0.0  \n",
       "2             0.0           0.0             0.0           0.0  \n",
       "3             0.0         100.0          2750.0           0.0  \n",
       "4             0.0           0.0             0.0           0.0  \n",
       "\n",
       "[5 rows x 373 columns]"
      ]
     },
     "execution_count": 20,
     "metadata": {},
     "output_type": "execute_result"
    }
   ],
   "source": [
    "Final_df.head()"
   ]
  },
  {
   "cell_type": "code",
   "execution_count": 21,
   "id": "1dd26ab0-33b1-4ec3-9657-f8e617c41a8e",
   "metadata": {},
   "outputs": [],
   "source": [
    "Final_df.to_csv('D:/2025UTI/IV/MIMIC4_p_1.csv',index=False)"
   ]
  },
  {
   "cell_type": "code",
   "execution_count": null,
   "id": "8e2bb192-a7c4-4d78-9028-83a6ef5c01e2",
   "metadata": {},
   "outputs": [],
   "source": []
  }
 ],
 "metadata": {
  "kernelspec": {
   "display_name": "Python 3 (ipykernel)",
   "language": "python",
   "name": "python3"
  },
  "language_info": {
   "codemirror_mode": {
    "name": "ipython",
    "version": 3
   },
   "file_extension": ".py",
   "mimetype": "text/x-python",
   "name": "python",
   "nbconvert_exporter": "python",
   "pygments_lexer": "ipython3",
   "version": "3.8.5"
  }
 },
 "nbformat": 4,
 "nbformat_minor": 5
}
